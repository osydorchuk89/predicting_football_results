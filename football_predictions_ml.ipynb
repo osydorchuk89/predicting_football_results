{
 "cells": [
  {
   "cell_type": "markdown",
   "id": "0eb6e200",
   "metadata": {},
   "source": [
    "# Predicting football matches results (model selection, validation, and prediction)"
   ]
  },
  {
   "cell_type": "markdown",
   "id": "f024d677",
   "metadata": {},
   "source": [
    "All created features are numerical, so I don't need to process them further. I'll split the matches dataframe into train and test:\n",
    "\n",
    "* Train - 10 seasons, from 2011/2012 to 2020/2021\n",
    "* Test - season 2021/2022 (ongoing)"
   ]
  },
  {
   "cell_type": "code",
   "execution_count": 1,
   "id": "f2434072",
   "metadata": {
    "ExecuteTime": {
     "end_time": "2022-01-09T11:10:17.854422Z",
     "start_time": "2022-01-09T11:10:14.294422Z"
    }
   },
   "outputs": [],
   "source": [
    "import warnings\n",
    "warnings.filterwarnings('ignore')\n",
    "\n",
    "import numpy as np\n",
    "import pandas as pd\n",
    "import matplotlib.pyplot as plt\n",
    "from sklearn.linear_model import LogisticRegression\n",
    "from sklearn.metrics import (accuracy_score, \n",
    "                             classification_report, \n",
    "                             confusion_matrix, \n",
    "                             ConfusionMatrixDisplay, \n",
    "                             roc_auc_score, \n",
    "                             roc_curve, \n",
    "                             make_scorer)\n",
    "from sklearn.ensemble import RandomForestClassifier\n",
    "from sklearn.model_selection import cross_val_score, cross_val_predict\n",
    "import xgboost as xgb\n",
    "import lightgbm as lgb"
   ]
  },
  {
   "cell_type": "code",
   "execution_count": 2,
   "id": "b0381cd9",
   "metadata": {
    "ExecuteTime": {
     "end_time": "2022-01-09T11:10:19.643776Z",
     "start_time": "2022-01-09T11:10:17.861410Z"
    }
   },
   "outputs": [],
   "source": [
    "matches_all = pd.read_csv(\n",
    "    'https://raw.githubusercontent.com/osydorchuk89/predicting_football_results/main/data/matches_all.csv'\n",
    ")\n",
    "matches_all.drop_duplicates(inplace=True)\n",
    "train, test = matches_all.iloc[:3800, :], matches_all.iloc[3800:, :]"
   ]
  },
  {
   "cell_type": "code",
   "execution_count": 3,
   "id": "e3e644c3",
   "metadata": {
    "ExecuteTime": {
     "end_time": "2022-01-09T11:10:19.691018Z",
     "start_time": "2022-01-09T11:10:19.645775Z"
    }
   },
   "outputs": [
    {
     "data": {
      "text/html": [
       "<div>\n",
       "<style scoped>\n",
       "    .dataframe tbody tr th:only-of-type {\n",
       "        vertical-align: middle;\n",
       "    }\n",
       "\n",
       "    .dataframe tbody tr th {\n",
       "        vertical-align: top;\n",
       "    }\n",
       "\n",
       "    .dataframe thead th {\n",
       "        text-align: right;\n",
       "    }\n",
       "</style>\n",
       "<table border=\"1\" class=\"dataframe\">\n",
       "  <thead>\n",
       "    <tr style=\"text-align: right;\">\n",
       "      <th></th>\n",
       "      <th>diff_past_results</th>\n",
       "      <th>diff_past_goals</th>\n",
       "      <th>result</th>\n",
       "      <th>home_team_attack</th>\n",
       "      <th>home_team_midfield</th>\n",
       "      <th>home_team_defense</th>\n",
       "      <th>home_team_overall</th>\n",
       "      <th>home_team_past_points</th>\n",
       "      <th>home_team_past_goal_diff</th>\n",
       "      <th>home_team_past_appearances</th>\n",
       "      <th>...</th>\n",
       "      <th>diff_players_overall</th>\n",
       "      <th>diff_players_defense</th>\n",
       "      <th>diff_players_midfield</th>\n",
       "      <th>diff_players_attack</th>\n",
       "      <th>diff_goalkeepers</th>\n",
       "      <th>diff_team_past_points</th>\n",
       "      <th>diff_team_past_goal_diff</th>\n",
       "      <th>diff_team_past_appearances</th>\n",
       "      <th>diff_team_streak</th>\n",
       "      <th>diff_team_best_perf</th>\n",
       "    </tr>\n",
       "  </thead>\n",
       "  <tbody>\n",
       "    <tr>\n",
       "      <th>0</th>\n",
       "      <td>3</td>\n",
       "      <td>9</td>\n",
       "      <td>away_win</td>\n",
       "      <td>74</td>\n",
       "      <td>75</td>\n",
       "      <td>73</td>\n",
       "      <td>74</td>\n",
       "      <td>44.666667</td>\n",
       "      <td>-15.666667</td>\n",
       "      <td>10</td>\n",
       "      <td>...</td>\n",
       "      <td>1.6</td>\n",
       "      <td>-6.500000</td>\n",
       "      <td>2.66</td>\n",
       "      <td>7.490909</td>\n",
       "      <td>-10</td>\n",
       "      <td>5.666667</td>\n",
       "      <td>6.333333</td>\n",
       "      <td>7</td>\n",
       "      <td>8</td>\n",
       "      <td>9</td>\n",
       "    </tr>\n",
       "    <tr>\n",
       "      <th>1</th>\n",
       "      <td>0</td>\n",
       "      <td>0</td>\n",
       "      <td>draw</td>\n",
       "      <td>80</td>\n",
       "      <td>76</td>\n",
       "      <td>74</td>\n",
       "      <td>76</td>\n",
       "      <td>49.333333</td>\n",
       "      <td>1.333333</td>\n",
       "      <td>10</td>\n",
       "      <td>...</td>\n",
       "      <td>4.9</td>\n",
       "      <td>2.157143</td>\n",
       "      <td>4.23</td>\n",
       "      <td>1.854545</td>\n",
       "      <td>-2</td>\n",
       "      <td>-8.666667</td>\n",
       "      <td>-1.333333</td>\n",
       "      <td>0</td>\n",
       "      <td>0</td>\n",
       "      <td>-1</td>\n",
       "    </tr>\n",
       "    <tr>\n",
       "      <th>2</th>\n",
       "      <td>5</td>\n",
       "      <td>10</td>\n",
       "      <td>draw</td>\n",
       "      <td>81</td>\n",
       "      <td>79</td>\n",
       "      <td>80</td>\n",
       "      <td>80</td>\n",
       "      <td>69.000000</td>\n",
       "      <td>30.333333</td>\n",
       "      <td>10</td>\n",
       "      <td>...</td>\n",
       "      <td>3.5</td>\n",
       "      <td>0.100000</td>\n",
       "      <td>0.15</td>\n",
       "      <td>-1.072727</td>\n",
       "      <td>11</td>\n",
       "      <td>26.666667</td>\n",
       "      <td>43.333333</td>\n",
       "      <td>3</td>\n",
       "      <td>6</td>\n",
       "      <td>8</td>\n",
       "    </tr>\n",
       "    <tr>\n",
       "      <th>3</th>\n",
       "      <td>0</td>\n",
       "      <td>0</td>\n",
       "      <td>away_win</td>\n",
       "      <td>79</td>\n",
       "      <td>76</td>\n",
       "      <td>75</td>\n",
       "      <td>75</td>\n",
       "      <td>0.000000</td>\n",
       "      <td>-69.000000</td>\n",
       "      <td>0</td>\n",
       "      <td>...</td>\n",
       "      <td>-3.9</td>\n",
       "      <td>-4.857143</td>\n",
       "      <td>-2.37</td>\n",
       "      <td>-2.881818</td>\n",
       "      <td>-1</td>\n",
       "      <td>-42.000000</td>\n",
       "      <td>-55.333333</td>\n",
       "      <td>-10</td>\n",
       "      <td>-10</td>\n",
       "      <td>-15</td>\n",
       "    </tr>\n",
       "    <tr>\n",
       "      <th>4</th>\n",
       "      <td>0</td>\n",
       "      <td>0</td>\n",
       "      <td>draw</td>\n",
       "      <td>71</td>\n",
       "      <td>71</td>\n",
       "      <td>73</td>\n",
       "      <td>72</td>\n",
       "      <td>41.000000</td>\n",
       "      <td>-24.666667</td>\n",
       "      <td>6</td>\n",
       "      <td>...</td>\n",
       "      <td>0.3</td>\n",
       "      <td>3.271429</td>\n",
       "      <td>0.66</td>\n",
       "      <td>-1.436364</td>\n",
       "      <td>3</td>\n",
       "      <td>41.000000</td>\n",
       "      <td>44.333333</td>\n",
       "      <td>5</td>\n",
       "      <td>6</td>\n",
       "      <td>9</td>\n",
       "    </tr>\n",
       "  </tbody>\n",
       "</table>\n",
       "<p>5 rows × 48 columns</p>\n",
       "</div>"
      ],
      "text/plain": [
       "   diff_past_results  diff_past_goals    result  home_team_attack  \\\n",
       "0                  3                9  away_win                74   \n",
       "1                  0                0      draw                80   \n",
       "2                  5               10      draw                81   \n",
       "3                  0                0  away_win                79   \n",
       "4                  0                0      draw                71   \n",
       "\n",
       "   home_team_midfield  home_team_defense  home_team_overall  \\\n",
       "0                  75                 73                 74   \n",
       "1                  76                 74                 76   \n",
       "2                  79                 80                 80   \n",
       "3                  76                 75                 75   \n",
       "4                  71                 73                 72   \n",
       "\n",
       "   home_team_past_points  home_team_past_goal_diff  \\\n",
       "0              44.666667                -15.666667   \n",
       "1              49.333333                  1.333333   \n",
       "2              69.000000                 30.333333   \n",
       "3               0.000000                -69.000000   \n",
       "4              41.000000                -24.666667   \n",
       "\n",
       "   home_team_past_appearances  ...  diff_players_overall  \\\n",
       "0                          10  ...                   1.6   \n",
       "1                          10  ...                   4.9   \n",
       "2                          10  ...                   3.5   \n",
       "3                           0  ...                  -3.9   \n",
       "4                           6  ...                   0.3   \n",
       "\n",
       "   diff_players_defense  diff_players_midfield  diff_players_attack  \\\n",
       "0             -6.500000                   2.66             7.490909   \n",
       "1              2.157143                   4.23             1.854545   \n",
       "2              0.100000                   0.15            -1.072727   \n",
       "3             -4.857143                  -2.37            -2.881818   \n",
       "4              3.271429                   0.66            -1.436364   \n",
       "\n",
       "   diff_goalkeepers  diff_team_past_points  diff_team_past_goal_diff  \\\n",
       "0               -10               5.666667                  6.333333   \n",
       "1                -2              -8.666667                 -1.333333   \n",
       "2                11              26.666667                 43.333333   \n",
       "3                -1             -42.000000                -55.333333   \n",
       "4                 3              41.000000                 44.333333   \n",
       "\n",
       "   diff_team_past_appearances  diff_team_streak  diff_team_best_perf  \n",
       "0                           7                 8                    9  \n",
       "1                           0                 0                   -1  \n",
       "2                           3                 6                    8  \n",
       "3                         -10               -10                  -15  \n",
       "4                           5                 6                    9  \n",
       "\n",
       "[5 rows x 48 columns]"
      ]
     },
     "execution_count": 3,
     "metadata": {},
     "output_type": "execute_result"
    }
   ],
   "source": [
    "matches_all.head()"
   ]
  },
  {
   "cell_type": "markdown",
   "id": "dacd14b7",
   "metadata": {},
   "source": [
    "For validation, I'll divide train into three folds:\n",
    "\n",
    "* Train - seasons 2011/2012 to 2017/2018, validation - season 2018/2019\n",
    "* Train - seasons 2012/2013 to 2018/2019, validation - season 2019/2020\n",
    "* Train - seasons 2013/2014 to 2019/2020, validation - season 2020/2021"
   ]
  },
  {
   "cell_type": "code",
   "execution_count": 4,
   "id": "671d1ef1",
   "metadata": {
    "ExecuteTime": {
     "end_time": "2022-01-09T11:10:19.707167Z",
     "start_time": "2022-01-09T11:10:19.694013Z"
    }
   },
   "outputs": [],
   "source": [
    "n = 380 #number of matches in a season\n",
    "\n",
    "train_1_indices, valid_1_indices = train.iloc[:n*7].index, train.iloc[n*7:n*8].index\n",
    "train_2_indices, valid_2_indices = train.iloc[n:n*8].index, train.iloc[n*8:n*9].index\n",
    "train_3_indices, valid_3_indices = train.iloc[n*2:n*9].index, train.iloc[n*9:n*10].index\n",
    "\n",
    "my_cv = [(train_1_indices, valid_1_indices), (train_2_indices, valid_2_indices), (train_3_indices, valid_3_indices)]"
   ]
  },
  {
   "cell_type": "code",
   "execution_count": 5,
   "id": "9b83964f",
   "metadata": {
    "ExecuteTime": {
     "end_time": "2022-01-09T11:10:19.723216Z",
     "start_time": "2022-01-09T11:10:19.710992Z"
    }
   },
   "outputs": [],
   "source": [
    "logreg = LogisticRegression(solver='liblinear', random_state=17)\n",
    "rf = RandomForestClassifier(random_state=17)\n",
    "xgb_clf = xgb.XGBClassifier(objective='multi:softmax', eval_metric='merror')\n",
    "lgbm = lgb.LGBMClassifier(objective='multiclass', metric='multi_error')"
   ]
  },
  {
   "cell_type": "code",
   "execution_count": 6,
   "id": "cab21c73",
   "metadata": {
    "ExecuteTime": {
     "end_time": "2022-01-09T11:10:19.739007Z",
     "start_time": "2022-01-09T11:10:19.726044Z"
    }
   },
   "outputs": [],
   "source": [
    "diff_features = [col for col in matches_all.columns if 'diff_' in col]\n",
    "home_features = [col for col in matches_all.columns if 'home_' in col]\n",
    "diff_features = [col for col in matches_all.columns if 'away_' in col]\n",
    "\n",
    "X_train = train.drop(columns='result')\n",
    "y_train = train.result\n",
    "y_train_num = train.result.map({'away_win': 0, 'draw': 1, 'home_win':2})"
   ]
  },
  {
   "cell_type": "markdown",
   "id": "ebce7fc0",
   "metadata": {},
   "source": [
    "For validation, I will use two metrics: \n",
    "1. *Accuracy*. Overall share of predictions that turned out to be correct.The higher the better.\n",
    "2. *Average critical errors*. this is a custom metric I developed for this task. It is calculated a share of away wins predicted as home wins and home wins predicted as away wins. I would like to minimize these errors as they are the most costly. The lower the better.\n",
    "I will try to optimize predictions for these both scores."
   ]
  },
  {
   "cell_type": "markdown",
   "id": "620b4072",
   "metadata": {},
   "source": [
    "I'll start with computing average accuracy and critical errors of predictions, using four models with defauls parameters: LogisticRegression, RandomForestClassifier, XGBClassifier, and LGBMClassifier."
   ]
  },
  {
   "cell_type": "code",
   "execution_count": 7,
   "id": "d0d9b8b8",
   "metadata": {
    "ExecuteTime": {
     "end_time": "2022-01-09T11:10:19.754251Z",
     "start_time": "2022-01-09T11:10:19.742012Z"
    }
   },
   "outputs": [],
   "source": [
    "# custom metric for calclating the share of most costly errors\n",
    "def critical_errors_func(y_true, y_pred):\n",
    "    errors = 0\n",
    "    for pred, true in zip(y_true, y_pred):\n",
    "        if ((pred == 'home_win') and (true == 'away_win')) or ((pred == 'away_win') and (true == 'home_win')):\n",
    "            errors += 1\n",
    "    score = errors / len(y_true)\n",
    "    return score\n",
    "\n",
    "critical_errors = make_scorer(critical_errors_func)"
   ]
  },
  {
   "cell_type": "code",
   "execution_count": 8,
   "id": "f852b023",
   "metadata": {
    "ExecuteTime": {
     "end_time": "2022-01-09T11:10:41.338536Z",
     "start_time": "2022-01-09T11:10:19.756394Z"
    },
    "scrolled": true
   },
   "outputs": [
    {
     "data": {
      "text/html": [
       "<div>\n",
       "<style scoped>\n",
       "    .dataframe tbody tr th:only-of-type {\n",
       "        vertical-align: middle;\n",
       "    }\n",
       "\n",
       "    .dataframe tbody tr th {\n",
       "        vertical-align: top;\n",
       "    }\n",
       "\n",
       "    .dataframe thead th {\n",
       "        text-align: right;\n",
       "    }\n",
       "</style>\n",
       "<table border=\"1\" class=\"dataframe\">\n",
       "  <thead>\n",
       "    <tr style=\"text-align: right;\">\n",
       "      <th></th>\n",
       "      <th>Model</th>\n",
       "      <th>Accuracy</th>\n",
       "      <th>Critical errors</th>\n",
       "    </tr>\n",
       "  </thead>\n",
       "  <tbody>\n",
       "    <tr>\n",
       "      <th>0</th>\n",
       "      <td>LogisticRegression</td>\n",
       "      <td>55.18</td>\n",
       "      <td>22.63</td>\n",
       "    </tr>\n",
       "    <tr>\n",
       "      <th>1</th>\n",
       "      <td>RandomForestClassifier</td>\n",
       "      <td>54.56</td>\n",
       "      <td>22.98</td>\n",
       "    </tr>\n",
       "    <tr>\n",
       "      <th>2</th>\n",
       "      <td>XGBClassifier</td>\n",
       "      <td>51.58</td>\n",
       "      <td>21.49</td>\n",
       "    </tr>\n",
       "    <tr>\n",
       "      <th>3</th>\n",
       "      <td>LGBMClassifier</td>\n",
       "      <td>52.37</td>\n",
       "      <td>20.53</td>\n",
       "    </tr>\n",
       "  </tbody>\n",
       "</table>\n",
       "</div>"
      ],
      "text/plain": [
       "                    Model  Accuracy  Critical errors\n",
       "0      LogisticRegression     55.18            22.63\n",
       "1  RandomForestClassifier     54.56            22.98\n",
       "2           XGBClassifier     51.58            21.49\n",
       "3          LGBMClassifier     52.37            20.53"
      ]
     },
     "execution_count": 8,
     "metadata": {},
     "output_type": "execute_result"
    }
   ],
   "source": [
    "base_models = [logreg, rf, xgb_clf, lgbm]\n",
    "\n",
    "accuracy_scores = []\n",
    "critical_errors_scores = []\n",
    "model_names = []\n",
    "\n",
    "for model in base_models:\n",
    "    model_name = type(model).__name__\n",
    "    accuracy = cross_val_score(model, X_train, y_train, cv=my_cv, scoring='accuracy').mean() * 100\n",
    "    critical_errors_score = cross_val_score(model, X_train, y_train, cv=my_cv, scoring=critical_errors).mean() * 100\n",
    "    model_names.append(model_name)\n",
    "    accuracy_scores.append(round(accuracy, 2))\n",
    "    critical_errors_scores.append(round(critical_errors_score, 2))\n",
    "\n",
    "pd.DataFrame({'Model': model_names, 'Accuracy': accuracy_scores, 'Critical errors': critical_errors_scores})    "
   ]
  },
  {
   "cell_type": "markdown",
   "id": "151c4b31",
   "metadata": {},
   "source": [
    "I'll proceed with tuning XGBoost and LightGBM models."
   ]
  },
  {
   "cell_type": "code",
   "execution_count": 9,
   "id": "7a4cb8a8",
   "metadata": {
    "ExecuteTime": {
     "end_time": "2022-01-09T11:10:42.932068Z",
     "start_time": "2022-01-09T11:10:41.341536Z"
    },
    "scrolled": true
   },
   "outputs": [
    {
     "name": "stdout",
     "output_type": "stream",
     "text": [
      "[0]\ttrain-merror:0.42920+0.00124\ttest-merror:0.47544+0.02917\n",
      "[10]\ttrain-merror:0.41541+0.00354\ttest-merror:0.44035+0.03623\n",
      "[20]\ttrain-merror:0.40840+0.00204\ttest-merror:0.44211+0.03944\n",
      "[30]\ttrain-merror:0.39987+0.00568\ttest-merror:0.44474+0.03349\n",
      "[40]\ttrain-merror:0.38759+0.00162\ttest-merror:0.44123+0.03480\n",
      "[42]\ttrain-merror:0.38622+0.00234\ttest-merror:0.44211+0.03615\n"
     ]
    },
    {
     "data": {
      "text/html": [
       "<div>\n",
       "<style scoped>\n",
       "    .dataframe tbody tr th:only-of-type {\n",
       "        vertical-align: middle;\n",
       "    }\n",
       "\n",
       "    .dataframe tbody tr th {\n",
       "        vertical-align: top;\n",
       "    }\n",
       "\n",
       "    .dataframe thead th {\n",
       "        text-align: right;\n",
       "    }\n",
       "</style>\n",
       "<table border=\"1\" class=\"dataframe\">\n",
       "  <thead>\n",
       "    <tr style=\"text-align: right;\">\n",
       "      <th></th>\n",
       "      <th>train-merror-mean</th>\n",
       "      <th>train-merror-std</th>\n",
       "      <th>test-merror-mean</th>\n",
       "      <th>test-merror-std</th>\n",
       "      <th>train-accuracy-mean</th>\n",
       "      <th>test-accuracy-mean</th>\n",
       "    </tr>\n",
       "  </thead>\n",
       "  <tbody>\n",
       "    <tr>\n",
       "      <th>22</th>\n",
       "      <td>0.407644</td>\n",
       "      <td>0.001278</td>\n",
       "      <td>0.439474</td>\n",
       "      <td>0.039444</td>\n",
       "      <td>0.592356</td>\n",
       "      <td>0.560526</td>\n",
       "    </tr>\n",
       "  </tbody>\n",
       "</table>\n",
       "</div>"
      ],
      "text/plain": [
       "    train-merror-mean  train-merror-std  test-merror-mean  test-merror-std  \\\n",
       "22           0.407644          0.001278          0.439474         0.039444   \n",
       "\n",
       "    train-accuracy-mean  test-accuracy-mean  \n",
       "22             0.592356            0.560526  "
      ]
     },
     "execution_count": 9,
     "metadata": {},
     "output_type": "execute_result"
    }
   ],
   "source": [
    "# tuning XGBoost hyperparameters\n",
    "xgb_parameters = {\n",
    "    'objective': 'multi:softmax',\n",
    "    'eval_metric': 'merror',\n",
    "    'num_class': 3,\n",
    "    'learning_rate': 0.05,\n",
    "    'max_depth': 4,\n",
    "    #'min_child_weight': 1,\n",
    "    #'objective': 'multi:softmax',\n",
    "    #'random_seed': 17,\n",
    "    #'tree_method': 'hist',\n",
    "    #'grow_policy': 'lossguide',\n",
    "    #'max_leaves': 4,\n",
    "    #'alpha': 0.05,\n",
    "    #'lambda': 1,\n",
    "    'colsample_bytree': 0.8,\n",
    "    'subsample': 0.8,\n",
    "}\n",
    "\n",
    "xgb_train = xgb.DMatrix(X_train, y_train_num)\n",
    "xgb_results = xgb.cv(\n",
    "    xgb_parameters, \n",
    "    xgb_train, \n",
    "    num_boost_round=100, \n",
    "    verbose_eval=10, \n",
    "    early_stopping_rounds=20, \n",
    "    folds=my_cv\n",
    ")\n",
    "\n",
    "xgb_results['train-accuracy-mean'] = 1 - xgb_results.iloc[:, 0]\n",
    "xgb_results['test-accuracy-mean'] = 1 - xgb_results.iloc[:, 2]\n",
    "\n",
    "xgb_results.iloc[-1:]"
   ]
  },
  {
   "cell_type": "code",
   "execution_count": 10,
   "id": "a73053bb",
   "metadata": {
    "ExecuteTime": {
     "end_time": "2022-01-09T11:10:46.771166Z",
     "start_time": "2022-01-09T11:10:42.936059Z"
    }
   },
   "outputs": [
    {
     "name": "stdout",
     "output_type": "stream",
     "text": [
      "[10]\tcv_agg's train multi_error: 0.543734 + 0.00248108\tcv_agg's valid multi_error: 0.564035 + 0.0414607\n",
      "[20]\tcv_agg's train multi_error: 0.525188 + 0.00825928\tcv_agg's valid multi_error: 0.547368 + 0.0479978\n",
      "[30]\tcv_agg's train multi_error: 0.460902 + 0.00717904\tcv_agg's valid multi_error: 0.504386 + 0.0518064\n",
      "[40]\tcv_agg's train multi_error: 0.432456 + 0.00540738\tcv_agg's valid multi_error: 0.481579 + 0.0505281\n",
      "[50]\tcv_agg's train multi_error: 0.416792 + 0.00823834\tcv_agg's valid multi_error: 0.47193 + 0.0382158\n",
      "[60]\tcv_agg's train multi_error: 0.403509 + 0.0101357\tcv_agg's valid multi_error: 0.469298 + 0.0382158\n",
      "[70]\tcv_agg's train multi_error: 0.388847 + 0.00783985\tcv_agg's valid multi_error: 0.463158 + 0.0341092\n",
      "[80]\tcv_agg's train multi_error: 0.372556 + 0.0102864\tcv_agg's valid multi_error: 0.454386 + 0.0337235\n",
      "[90]\tcv_agg's train multi_error: 0.356015 + 0.0106906\tcv_agg's valid multi_error: 0.451754 + 0.0342667\n",
      "[100]\tcv_agg's train multi_error: 0.3401 + 0.00732413\tcv_agg's valid multi_error: 0.449123 + 0.0399291\n",
      "[110]\tcv_agg's train multi_error: 0.324185 + 0.00552801\tcv_agg's valid multi_error: 0.445614 + 0.0417382\n",
      "[120]\tcv_agg's train multi_error: 0.310526 + 0.00774716\tcv_agg's valid multi_error: 0.44386 + 0.0363586\n",
      "[130]\tcv_agg's train multi_error: 0.297744 + 0.00372161\tcv_agg's valid multi_error: 0.441228 + 0.0357826\n",
      "[140]\tcv_agg's train multi_error: 0.285213 + 0.00322423\tcv_agg's valid multi_error: 0.438596 + 0.036988\n",
      "[150]\tcv_agg's train multi_error: 0.275063 + 0.00261061\tcv_agg's valid multi_error: 0.441228 + 0.0353281\n",
      "[160]\tcv_agg's train multi_error: 0.264912 + 0.00187552\tcv_agg's valid multi_error: 0.441228 + 0.0373606\n",
      "[170]\tcv_agg's train multi_error: 0.255388 + 0.0023444\tcv_agg's valid multi_error: 0.442105 + 0.0361463\n",
      "[180]\tcv_agg's train multi_error: 0.244737 + 0.00487274\tcv_agg's valid multi_error: 0.439474 + 0.039794\n",
      "\n",
      "Train score is 0.7122, test score is 0.5632, stopped after 138 rounds\n"
     ]
    }
   ],
   "source": [
    "# tuning LightGBM hyperparameters\n",
    "lgb_parameters = {\n",
    "  'objective': 'multiclass',\n",
    "  'metric': 'multi_error', \n",
    "  'num_class': 3,\n",
    "  'learning_rate': 0.01,\n",
    "  'verbose': -1,\n",
    "  'subsample_freq': 1,\n",
    "  'subsample': 0.8,\n",
    "  'colsample_bytree': 0.8, \n",
    "  'min_child_samples': 30,\n",
    "  'random_seed': 17\n",
    "}\n",
    "\n",
    "lgb_train = lgb.Dataset(X_train, y_train_num)\n",
    "\n",
    "lgb_results = lgb.cv(\n",
    "    lgb_parameters, \n",
    "    lgb_train, \n",
    "    num_boost_round=1000, \n",
    "    folds=my_cv, \n",
    "    early_stopping_rounds=50, \n",
    "    verbose_eval=10, \n",
    "    eval_train_metric=True\n",
    ")\n",
    "\n",
    "lgb_test_result = 1 - lgb_results['valid multi_error-mean'][-1]\n",
    "lgb_train_result = 1 - lgb_results['train multi_error-mean'][-1]\n",
    "lgb_best_round = len(lgb_results['valid multi_error-mean'])\n",
    "\n",
    "print(\n",
    "    f'\\nTrain score is {lgb_train_result:.4f}, test score is {lgb_test_result:.4f}, stopped after {lgb_best_round} rounds'\n",
    ")"
   ]
  },
  {
   "cell_type": "code",
   "execution_count": 11,
   "id": "30c155e3",
   "metadata": {
    "ExecuteTime": {
     "end_time": "2022-01-09T11:10:46.787122Z",
     "start_time": "2022-01-09T11:10:46.774157Z"
    }
   },
   "outputs": [],
   "source": [
    "X_test = test.drop(columns='result')\n",
    "y_test = test.result\n",
    "y_test_num = test.result.map({'away_win': 0, 'draw': 1, 'home_win':2})"
   ]
  },
  {
   "cell_type": "markdown",
   "id": "d7e3597f",
   "metadata": {},
   "source": [
    "I will now use XGBoost and LightGBM models with best identified parameters to predict results in test."
   ]
  },
  {
   "cell_type": "markdown",
   "id": "12ce1dbf",
   "metadata": {},
   "source": [
    "For starter, I will use the most frequent class in the training set, home win, as the baseline prediction for the test."
   ]
  },
  {
   "cell_type": "code",
   "execution_count": 12,
   "id": "ed5399b9",
   "metadata": {
    "ExecuteTime": {
     "end_time": "2022-01-09T11:10:46.803081Z",
     "start_time": "2022-01-09T11:10:46.789117Z"
    }
   },
   "outputs": [
    {
     "name": "stdout",
     "output_type": "stream",
     "text": [
      "Accuracy of predictions on test using baseline: 42.05%\n",
      "\n",
      "Critical errors score of predictions on test using baseline: 31.25%\n"
     ]
    }
   ],
   "source": [
    "baseline_preds = np.full((176,), 'home_win')\n",
    "baseline_accuracy = accuracy_score(y_test, baseline_preds) * 100\n",
    "baseline_critical_errors = critical_errors_func(y_test, baseline_preds) * 100\n",
    "\n",
    "print(f'Accuracy of predictions on test using baseline: {baseline_accuracy:.2f}%')\n",
    "print(f'\\nCritical errors score of predictions on test using baseline: {baseline_critical_errors:.2f}%')"
   ]
  },
  {
   "cell_type": "code",
   "execution_count": 13,
   "id": "7b72a2c5",
   "metadata": {
    "ExecuteTime": {
     "end_time": "2022-01-09T11:10:47.289929Z",
     "start_time": "2022-01-09T11:10:46.805075Z"
    }
   },
   "outputs": [
    {
     "name": "stdout",
     "output_type": "stream",
     "text": [
      "Accuracy of predictions on test using tuned XGBoost: 53.41%\n",
      "\n",
      "Critical errors score of predictions on test using tuned XGBoost: 19.32%\n"
     ]
    }
   ],
   "source": [
    "xgb_parameters = {\n",
    "    'eval_metric': 'merror',\n",
    "    'num_class': 3,\n",
    "    'n_estimators': 25,\n",
    "    'learning_rate': 0.05,\n",
    "    'max_depth': 4,\n",
    "    'objective': 'multi:softmax',\n",
    "    'colsample_bytree': 0.8,\n",
    "    'subsample': 0.8,\n",
    "}\n",
    "\n",
    "xgb_clf_upd = xgb.XGBClassifier(**xgb_parameters)\n",
    "\n",
    "xgb_clf_upd.fit(X_train, y_train)\n",
    "xgb_preds = xgb_clf_upd.predict(X_test)\n",
    "xgb_probs = xgb_clf_upd.predict_proba(X_test)\n",
    "xgb_accuracy = accuracy_score(y_test, xgb_preds) * 100\n",
    "xgb_critical_errors = critical_errors_func(y_test, xgb_preds) * 100\n",
    "\n",
    "print(f'Accuracy of predictions on test using tuned XGBoost: {xgb_accuracy:.2f}%')\n",
    "print(f'\\nCritical errors score of predictions on test using tuned XGBoost: {xgb_critical_errors:.2f}%')"
   ]
  },
  {
   "cell_type": "code",
   "execution_count": 14,
   "id": "776586f5",
   "metadata": {
    "ExecuteTime": {
     "end_time": "2022-01-09T11:10:48.216011Z",
     "start_time": "2022-01-09T11:10:47.293923Z"
    }
   },
   "outputs": [
    {
     "name": "stdout",
     "output_type": "stream",
     "text": [
      "Accuracy of predictions on test using tuned LightGBM: 51.70%\n",
      "\n",
      "Critical errors score of predictions on test using tuned LightGBM: 21.59%\n"
     ]
    }
   ],
   "source": [
    "lgb_parameters = {\n",
    "    'objective': 'multiclass',\n",
    "    'metric': 'multi_error', \n",
    "    'num_class': 3,\n",
    "    'learning_rate': 0.01,\n",
    "    'verbose': -1,\n",
    "    'subsample_freq': 1,\n",
    "    'subsample': 0.8,\n",
    "    'colsample_bytree': 0.8, \n",
    "    'min_child_samples': 30,\n",
    "    'n_estimators': 140,\n",
    "}\n",
    "\n",
    "lgb_clf = lgb.LGBMClassifier(**lgb_parameters)\n",
    "\n",
    "lgb_clf.fit(X_train, y_train)\n",
    "lgb_preds = lgb_clf.predict(X_test)\n",
    "lgb_probs = lgb_clf.predict_proba(X_test)\n",
    "lgb_accuracy = accuracy_score(y_test, lgb_preds) * 100\n",
    "lgb_critical_errors = critical_errors_func(y_test, lgb_preds) * 100\n",
    "\n",
    "print(f'Accuracy of predictions on test using tuned LightGBM: {lgb_accuracy:.2f}%')\n",
    "print(f'\\nCritical errors score of predictions on test using tuned LightGBM: {lgb_critical_errors:.2f}%')"
   ]
  },
  {
   "cell_type": "markdown",
   "id": "9cceef59",
   "metadata": {},
   "source": [
    "Let's have a look at the distribution of predictions by XGBoost and compare them with actual labels."
   ]
  },
  {
   "cell_type": "code",
   "execution_count": 15,
   "id": "51512f95",
   "metadata": {
    "ExecuteTime": {
     "end_time": "2022-01-09T11:10:48.231972Z",
     "start_time": "2022-01-09T11:10:48.219005Z"
    }
   },
   "outputs": [
    {
     "name": "stdout",
     "output_type": "stream",
     "text": [
      "[['away_win' 72]\n",
      " ['draw' 1]\n",
      " ['home_win' 103]]\n"
     ]
    }
   ],
   "source": [
    "unique, counts = np.unique(xgb_preds, return_counts=True)\n",
    "print(np.asarray((unique, counts)).T)"
   ]
  },
  {
   "cell_type": "code",
   "execution_count": 16,
   "id": "89b839ea",
   "metadata": {
    "ExecuteTime": {
     "end_time": "2022-01-09T11:10:48.511163Z",
     "start_time": "2022-01-09T11:10:48.236957Z"
    },
    "scrolled": true
   },
   "outputs": [
    {
     "data": {
      "image/png": "[encoded data removed]",
      "text/plain": [
       "<Figure size 432x288 with 2 Axes>"
      ]
     },
     "metadata": {},
     "output_type": "display_data"
    }
   ],
   "source": [
    "plt.style.use('Solarize_Light2')\n",
    "\n",
    "cm = confusion_matrix(y_test, xgb_preds, labels=['away_win', 'draw', 'home_win'])\n",
    "disp = ConfusionMatrixDisplay(confusion_matrix=cm, display_labels=['away_win', 'draw', 'home_win']).plot(cmap='YlOrRd')\n",
    "plt.grid(False)\n",
    "plt.show()"
   ]
  },
  {
   "cell_type": "markdown",
   "id": "49dcb0f2",
   "metadata": {},
   "source": [
    "After examining the probabilities of different classes, it os obvious that sometimes the difference between probabilities of draw and home/away win is rather small. Moreover, in some cases, difference between probabilities of home and away win is very small. In these cases, it is probably more reasonable to predict draw rather then home or away win. Below, I will try to manually change thresholds for predicting classes, using cross validation and then aply the best pattern to the test set."
   ]
  },
  {
   "cell_type": "markdown",
   "id": "3e3d9dfa",
   "metadata": {},
   "source": [
    "I'll start with manually cross validating two metrics using the tuned XGBoost model."
   ]
  },
  {
   "cell_type": "code",
   "execution_count": 17,
   "id": "104f93be",
   "metadata": {
    "ExecuteTime": {
     "end_time": "2022-01-09T11:10:48.543138Z",
     "start_time": "2022-01-09T11:10:48.511163Z"
    }
   },
   "outputs": [],
   "source": [
    "train_1, valid_1 = matches_all.iloc[:n*7], matches_all.iloc[n*7:n*8]\n",
    "train_2, valid_2 = matches_all.iloc[n:n*8], matches_all.iloc[n*8:n*9]\n",
    "train_3, valid_3 = matches_all.iloc[n*2:n*9], matches_all.iloc[n*9:n*10]\n",
    "\n",
    "folds = [(train_1, valid_1), (train_2, valid_2), (train_3, valid_3)]\n",
    "\n",
    "def train_valid_split(fold):\n",
    "    X_train = fold[0].drop(columns='result')\n",
    "    y_train = fold[0].result\n",
    "    X_valid = fold[1].drop(columns='result')\n",
    "    y_valid = fold[1].result\n",
    "    return [X_train, y_train, X_valid, y_valid]\n",
    "\n",
    "fold_1 = train_valid_split(folds[0])\n",
    "fold_2 = train_valid_split(folds[1])\n",
    "fold_3 = train_valid_split(folds[2])\n",
    "\n",
    "folds_new = [fold_1, fold_2, fold_3]"
   ]
  },
  {
   "cell_type": "code",
   "execution_count": 18,
   "id": "6cf43839",
   "metadata": {
    "ExecuteTime": {
     "end_time": "2022-01-09T11:10:50.478651Z",
     "start_time": "2022-01-09T11:10:48.548123Z"
    }
   },
   "outputs": [
    {
     "name": "stdout",
     "output_type": "stream",
     "text": [
      "Average accuracy score of tuned XGBClassifier is 55.70%\n",
      "\n",
      "Average critical error score of tuned XGBClassifier is 22.63%\n"
     ]
    }
   ],
   "source": [
    "accuracy = cross_val_score(xgb_clf_upd, X_train, y_train, cv=my_cv, scoring='accuracy').mean() * 100\n",
    "critical_errors_score = cross_val_score(xgb_clf_upd, X_train, y_train, cv=my_cv, scoring=critical_errors).mean() * 100\n",
    "\n",
    "print(f'Average accuracy score of tuned XGBClassifier is {accuracy:.2f}%')\n",
    "print(f'\\nAverage critical error score of tuned XGBClassifier is {critical_errors_score:.2f}%')"
   ]
  },
  {
   "cell_type": "code",
   "execution_count": 19,
   "id": "7d1a27c3",
   "metadata": {
    "ExecuteTime": {
     "end_time": "2022-01-09T11:10:51.506435Z",
     "start_time": "2022-01-09T11:10:50.480647Z"
    }
   },
   "outputs": [
    {
     "name": "stdout",
     "output_type": "stream",
     "text": [
      "Average accuracy score of tuned XGBoost after customization: 54.82%\n",
      "\n",
      "Average critical error score of tuned XGBoost after customization: 19.56%\n"
     ]
    }
   ],
   "source": [
    "accuracies_folds = []\n",
    "critical_errors_folds = []\n",
    "\n",
    "for fold in folds_new:\n",
    "    xgb_clf_upd.fit(fold[0], fold[1])\n",
    "    xgb_preds = xgb_clf_upd.predict(fold[2])\n",
    "    xgb_probs = xgb_clf_upd.predict_proba(fold[2])\n",
    "\n",
    "    upd_preds = []\n",
    "\n",
    "    for row in xgb_probs:\n",
    "        if (row[0] > row[1]) & (row[0] > row[2]):\n",
    "            upd_preds.append('away_win')\n",
    "        elif (row[2] > row[1]) & (row[2] > row[0]) & ((row[2] - row[0]) > 0.05):\n",
    "            upd_preds.append('home_win')\n",
    "        else:\n",
    "            upd_preds.append('draw')\n",
    "\n",
    "    accuracy = accuracy_score(fold[3], upd_preds) * 100\n",
    "    critical_error = critical_errors_func(fold[3], upd_preds) * 100\n",
    "    accuracies_folds.append(accuracy)\n",
    "    critical_errors_folds.append(critical_error)\n",
    "    \n",
    "avg_accuracy = np.mean(accuracies_folds)\n",
    "avg_citical_error = np.mean(critical_errors_folds)\n",
    "\n",
    "print(f'Average accuracy score of tuned XGBoost after customization: {avg_accuracy:.2f}%')\n",
    "print(f'\\nAverage critical error score of tuned XGBoost after customization: {avg_citical_error:.2f}%')"
   ]
  },
  {
   "cell_type": "markdown",
   "id": "53e0b235",
   "metadata": {},
   "source": [
    "After experimenting with changing thresholds for predicting different classes, I decided to change the threshold for predicting home win. In other words, less cases will be classified as home wins and more as draws. This decreased the accuracy by 0.9% but also lowered the error by 3%."
   ]
  },
  {
   "cell_type": "code",
   "execution_count": 20,
   "id": "f5ed471f",
   "metadata": {
    "ExecuteTime": {
     "end_time": "2022-01-09T11:10:51.951245Z",
     "start_time": "2022-01-09T11:10:51.509426Z"
    },
    "scrolled": true
   },
   "outputs": [
    {
     "name": "stdout",
     "output_type": "stream",
     "text": [
      "Accuracy of predictions on test using customized XGBoost: 56.82%\n",
      "\n",
      "Critical errors score of predictions on test using customized XGBoost: 17.05%\n"
     ]
    }
   ],
   "source": [
    "xgb_clf_upd.fit(X_train, y_train)\n",
    "xgb_preds = xgb_clf_upd.predict(X_test)\n",
    "xgb_probs = xgb_clf_upd.predict_proba(X_test)\n",
    "\n",
    "upd_preds = []\n",
    "\n",
    "for row in xgb_probs:\n",
    "    if (row[0] > row[1]) & (row[0] > row[2]):\n",
    "        upd_preds.append('away_win')\n",
    "    elif (row[2] > row[1]) & (row[2] > row[0]) & ((row[2] - row[0]) > 0.05):\n",
    "        upd_preds.append('home_win')\n",
    "    else:\n",
    "        upd_preds.append('draw')\n",
    "        \n",
    "xgb_accuracy = accuracy_score(y_test, upd_preds) * 100\n",
    "xgb_critical_errors = critical_errors_func(y_test, upd_preds) * 100\n",
    "\n",
    "print(f'Accuracy of predictions on test using customized XGBoost: {xgb_accuracy:.2f}%')\n",
    "print(f'\\nCritical errors score of predictions on test using customized XGBoost: {xgb_critical_errors:.2f}%')"
   ]
  },
  {
   "cell_type": "markdown",
   "id": "0f8094dc",
   "metadata": {},
   "source": [
    "After using the tuned XGBoost with manually set classificati threshold, the accuracy of predictions on train set increased and the error decreased."
   ]
  },
  {
   "cell_type": "code",
   "execution_count": 21,
   "id": "f5ee7272",
   "metadata": {
    "ExecuteTime": {
     "end_time": "2022-01-09T11:10:51.967204Z",
     "start_time": "2022-01-09T11:10:51.953239Z"
    },
    "scrolled": true
   },
   "outputs": [
    {
     "name": "stdout",
     "output_type": "stream",
     "text": [
      "[['away_win' '72']\n",
      " ['draw' '19']\n",
      " ['home_win' '85']]\n"
     ]
    }
   ],
   "source": [
    "unique, counts = np.unique(upd_preds, return_counts=True)\n",
    "print(np.asarray((unique, counts)).T)"
   ]
  },
  {
   "cell_type": "code",
   "execution_count": 22,
   "id": "5d358127",
   "metadata": {
    "ExecuteTime": {
     "end_time": "2022-01-09T11:10:52.184395Z",
     "start_time": "2022-01-09T11:10:51.969198Z"
    },
    "scrolled": true
   },
   "outputs": [
    {
     "data": {
      "image/png": "[encoded data removed]",
      "text/plain": [
       "<Figure size 432x288 with 2 Axes>"
      ]
     },
     "metadata": {},
     "output_type": "display_data"
    }
   ],
   "source": [
    "cm = confusion_matrix(y_test, upd_preds, labels=['away_win', 'draw', 'home_win'])\n",
    "disp = ConfusionMatrixDisplay(confusion_matrix=cm, display_labels=['away_win', 'draw', 'home_win']).plot(cmap='YlOrRd')\n",
    "plt.grid(False)\n",
    "plt.show()"
   ]
  },
  {
   "cell_type": "code",
   "execution_count": 23,
   "id": "9232a634",
   "metadata": {
    "ExecuteTime": {
     "end_time": "2022-01-09T11:10:52.216308Z",
     "start_time": "2022-01-09T11:10:52.188383Z"
    },
    "scrolled": false
   },
   "outputs": [
    {
     "name": "stdout",
     "output_type": "stream",
     "text": [
      "              precision    recall  f1-score   support\n",
      "\n",
      "    away_win       0.56      0.73      0.63        55\n",
      "        draw       0.53      0.21      0.30        47\n",
      "    home_win       0.59      0.68      0.63        74\n",
      "\n",
      "    accuracy                           0.57       176\n",
      "   macro avg       0.56      0.54      0.52       176\n",
      "weighted avg       0.56      0.57      0.54       176\n",
      "\n"
     ]
    }
   ],
   "source": [
    "print(classification_report(y_test, upd_preds, labels=['away_win', 'draw', 'home_win']))"
   ]
  },
  {
   "cell_type": "markdown",
   "id": "22be1860",
   "metadata": {},
   "source": [
    "The number of cases predicted as draws increased, and the number of critical errors decreased a bit."
   ]
  },
  {
   "cell_type": "markdown",
   "id": "27a51a64",
   "metadata": {},
   "source": [
    "Let's examine importance of different features."
   ]
  },
  {
   "cell_type": "code",
   "execution_count": 39,
   "id": "e0806426",
   "metadata": {
    "ExecuteTime": {
     "end_time": "2022-01-09T11:11:37.032066Z",
     "start_time": "2022-01-09T11:11:36.775123Z"
    },
    "scrolled": false
   },
   "outputs": [
    {
     "data": {
      "text/plain": [
       "<AxesSubplot:title={'center':'Feature importance'}, xlabel='F score', ylabel='Features'>"
      ]
     },
     "execution_count": 39,
     "metadata": {},
     "output_type": "execute_result"
    },
    {
     "data": {
      "image/png": "[encoded data removed]",
      "text/plain": [
       "<Figure size 432x288 with 1 Axes>"
      ]
     },
     "metadata": {},
     "output_type": "display_data"
    }
   ],
   "source": [
    "xgb.plot_importance(xgb_clf_upd, importance_type='gain', max_num_features=10)"
   ]
  },
  {
   "cell_type": "markdown",
   "id": "a5491c9e",
   "metadata": {},
   "source": [
    "The most important features are those related to difference between teams' and players' attributes. This is not surprising as they related to the outcome of the match directly. Overall mean of attributes seems the most important, followed by midfield and defense skills."
   ]
  },
  {
   "cell_type": "markdown",
   "id": "f71a29dd",
   "metadata": {},
   "source": [
    "I will now create dataframe that wil combine predictions, probabilities of different outcomes, and true results."
   ]
  },
  {
   "cell_type": "code",
   "execution_count": 25,
   "id": "27679f1e",
   "metadata": {
    "ExecuteTime": {
     "end_time": "2022-01-09T11:10:52.515876Z",
     "start_time": "2022-01-09T11:10:52.502912Z"
    }
   },
   "outputs": [],
   "source": [
    "probs_home_win = []\n",
    "probs_draw = []\n",
    "probs_away_win = []\n",
    "\n",
    "for row in xgb_probs:\n",
    "    prob_away_win = row[0] * 100\n",
    "    prob_draw = row[1] * 100\n",
    "    prob_home_win = row[2] * 100\n",
    "    probs_away_win.append(prob_away_win)\n",
    "    probs_draw.append(prob_draw)\n",
    "    probs_home_win.append(prob_home_win)"
   ]
  },
  {
   "cell_type": "code",
   "execution_count": 26,
   "id": "02417b7b",
   "metadata": {
    "ExecuteTime": {
     "end_time": "2022-01-09T11:10:52.531832Z",
     "start_time": "2022-01-09T11:10:52.517870Z"
    }
   },
   "outputs": [],
   "source": [
    "predicted_results = pd.DataFrame({\n",
    "    'preds': upd_preds, \n",
    "    'home_win_prob': np.round(probs_home_win, 2), \n",
    "    'draw_prob': np.round(probs_draw, 2), \n",
    "    'away_win_prob': np.round(probs_away_win, 2),\n",
    "    'true_labels': y_test\n",
    "})"
   ]
  },
  {
   "cell_type": "code",
   "execution_count": 27,
   "id": "c24bf97f",
   "metadata": {
    "ExecuteTime": {
     "end_time": "2022-01-09T11:11:04.493228Z",
     "start_time": "2022-01-09T11:10:52.533828Z"
    }
   },
   "outputs": [],
   "source": [
    "matches = pd.read_csv(\n",
    "    'https://raw.githubusercontent.com/osydorchuk89/predicting_football_results/main/data/matches.csv'\n",
    ")\n",
    "matches.drop_duplicates(inplace=True)\n",
    "matches_2021 = matches[matches.year==2021]"
   ]
  },
  {
   "cell_type": "code",
   "execution_count": 28,
   "id": "93513ffb",
   "metadata": {
    "ExecuteTime": {
     "end_time": "2022-01-09T11:11:04.525756Z",
     "start_time": "2022-01-09T11:11:04.502818Z"
    }
   },
   "outputs": [],
   "source": [
    "predicted_results.insert(0, 'home_team', matches_2021.home.values)\n",
    "predicted_results.insert(1, 'away_team', matches_2021.away.values)"
   ]
  },
  {
   "cell_type": "code",
   "execution_count": 29,
   "id": "7de55c75",
   "metadata": {
    "ExecuteTime": {
     "end_time": "2022-01-09T11:11:04.555675Z",
     "start_time": "2022-01-09T11:11:04.529745Z"
    },
    "scrolled": true
   },
   "outputs": [
    {
     "data": {
      "text/html": [
       "<div>\n",
       "<style scoped>\n",
       "    .dataframe tbody tr th:only-of-type {\n",
       "        vertical-align: middle;\n",
       "    }\n",
       "\n",
       "    .dataframe tbody tr th {\n",
       "        vertical-align: top;\n",
       "    }\n",
       "\n",
       "    .dataframe thead th {\n",
       "        text-align: right;\n",
       "    }\n",
       "</style>\n",
       "<table border=\"1\" class=\"dataframe\">\n",
       "  <thead>\n",
       "    <tr style=\"text-align: right;\">\n",
       "      <th></th>\n",
       "      <th>home_team</th>\n",
       "      <th>away_team</th>\n",
       "      <th>preds</th>\n",
       "      <th>home_win_prob</th>\n",
       "      <th>draw_prob</th>\n",
       "      <th>away_win_prob</th>\n",
       "      <th>true_labels</th>\n",
       "    </tr>\n",
       "  </thead>\n",
       "  <tbody>\n",
       "    <tr>\n",
       "      <th>3800</th>\n",
       "      <td>Brentford</td>\n",
       "      <td>Arsenal</td>\n",
       "      <td>away_win</td>\n",
       "      <td>31.70</td>\n",
       "      <td>28.93</td>\n",
       "      <td>39.37</td>\n",
       "      <td>home_win</td>\n",
       "    </tr>\n",
       "    <tr>\n",
       "      <th>3801</th>\n",
       "      <td>Manchester United</td>\n",
       "      <td>Leeds United</td>\n",
       "      <td>home_win</td>\n",
       "      <td>58.78</td>\n",
       "      <td>22.29</td>\n",
       "      <td>18.92</td>\n",
       "      <td>home_win</td>\n",
       "    </tr>\n",
       "    <tr>\n",
       "      <th>3802</th>\n",
       "      <td>Burnley</td>\n",
       "      <td>Brighton &amp; Hove Albion</td>\n",
       "      <td>home_win</td>\n",
       "      <td>45.97</td>\n",
       "      <td>26.38</td>\n",
       "      <td>27.65</td>\n",
       "      <td>away_win</td>\n",
       "    </tr>\n",
       "    <tr>\n",
       "      <th>3803</th>\n",
       "      <td>Chelsea</td>\n",
       "      <td>Crystal Palace</td>\n",
       "      <td>home_win</td>\n",
       "      <td>60.66</td>\n",
       "      <td>20.79</td>\n",
       "      <td>18.55</td>\n",
       "      <td>home_win</td>\n",
       "    </tr>\n",
       "    <tr>\n",
       "      <th>3804</th>\n",
       "      <td>Everton</td>\n",
       "      <td>Southampton</td>\n",
       "      <td>home_win</td>\n",
       "      <td>52.07</td>\n",
       "      <td>28.01</td>\n",
       "      <td>19.91</td>\n",
       "      <td>home_win</td>\n",
       "    </tr>\n",
       "  </tbody>\n",
       "</table>\n",
       "</div>"
      ],
      "text/plain": [
       "              home_team               away_team     preds  home_win_prob  \\\n",
       "3800          Brentford                 Arsenal  away_win          31.70   \n",
       "3801  Manchester United            Leeds United  home_win          58.78   \n",
       "3802            Burnley  Brighton & Hove Albion  home_win          45.97   \n",
       "3803            Chelsea          Crystal Palace  home_win          60.66   \n",
       "3804            Everton             Southampton  home_win          52.07   \n",
       "\n",
       "      draw_prob  away_win_prob true_labels  \n",
       "3800      28.93          39.37    home_win  \n",
       "3801      22.29          18.92    home_win  \n",
       "3802      26.38          27.65    away_win  \n",
       "3803      20.79          18.55    home_win  \n",
       "3804      28.01          19.91    home_win  "
      ]
     },
     "execution_count": 29,
     "metadata": {},
     "output_type": "execute_result"
    }
   ],
   "source": [
    "predicted_results.head()"
   ]
  },
  {
   "cell_type": "markdown",
   "id": "0b58d3da",
   "metadata": {},
   "source": [
    "I will add information about future matches. In this case, however, we won't have true labels as these matches haven't happened yet."
   ]
  },
  {
   "cell_type": "code",
   "execution_count": 30,
   "id": "27440381",
   "metadata": {
    "ExecuteTime": {
     "end_time": "2022-01-09T11:11:05.423412Z",
     "start_time": "2022-01-09T11:11:04.560661Z"
    }
   },
   "outputs": [],
   "source": [
    "future_matches_names = pd.read_csv(\n",
    "    'https://raw.githubusercontent.com/osydorchuk89/predicting_football_results/main/data/future_matches_names.csv'\n",
    ")"
   ]
  },
  {
   "cell_type": "markdown",
   "id": "3a775532",
   "metadata": {},
   "source": [
    "I will predict outcomes of future matches using only team-related attributes."
   ]
  },
  {
   "cell_type": "code",
   "execution_count": 31,
   "id": "8543d126",
   "metadata": {
    "ExecuteTime": {
     "end_time": "2022-01-09T11:11:06.021968Z",
     "start_time": "2022-01-09T11:11:05.423412Z"
    }
   },
   "outputs": [],
   "source": [
    "team_attributes = [col for col in train.columns if 'team' in col]\n",
    "\n",
    "X_train_only_teams = train[team_attributes]\n",
    "\n",
    "test_future = pd.read_csv(\n",
    "    'https://raw.githubusercontent.com/osydorchuk89/predicting_football_results/main/data/future_matches.csv'\n",
    ")"
   ]
  },
  {
   "cell_type": "code",
   "execution_count": 32,
   "id": "a322ec21",
   "metadata": {
    "ExecuteTime": {
     "end_time": "2022-01-09T11:11:06.322163Z",
     "start_time": "2022-01-09T11:11:06.023961Z"
    }
   },
   "outputs": [],
   "source": [
    "xgb_clf_upd.fit(X_train_only_teams, y_train)\n",
    "future_preds = xgb_clf_upd.predict(test_future)\n",
    "future_probs = xgb_clf_upd.predict_proba(test_future)"
   ]
  },
  {
   "cell_type": "code",
   "execution_count": 33,
   "id": "600b07f6",
   "metadata": {
    "ExecuteTime": {
     "end_time": "2022-01-09T11:11:06.337124Z",
     "start_time": "2022-01-09T11:11:06.325157Z"
    }
   },
   "outputs": [],
   "source": [
    "future_probs_home_win = []\n",
    "future_probs_draw = []\n",
    "future_probs_away_win = []\n",
    "\n",
    "for row in future_probs:\n",
    "    future_prob_away_win = row[0] * 100\n",
    "    future_prob_draw = row[1] * 100\n",
    "    future_prob_home_win = row[2] * 100\n",
    "    future_probs_away_win.append(future_prob_away_win)\n",
    "    future_probs_draw.append(future_prob_draw)\n",
    "    future_probs_home_win.append(future_prob_home_win)"
   ]
  },
  {
   "cell_type": "code",
   "execution_count": 34,
   "id": "5b3cee1c",
   "metadata": {
    "ExecuteTime": {
     "end_time": "2022-01-09T11:11:06.368041Z",
     "start_time": "2022-01-09T11:11:06.339119Z"
    }
   },
   "outputs": [],
   "source": [
    "future_results = pd.DataFrame({\n",
    "    'preds': future_preds, \n",
    "    'home_win_prob': np.round(future_probs_home_win, 2), \n",
    "    'draw_prob': np.round(future_probs_draw, 2), \n",
    "    'away_win_prob': np.round(future_probs_away_win, 2)\n",
    "})"
   ]
  },
  {
   "cell_type": "code",
   "execution_count": 35,
   "id": "127f2362",
   "metadata": {
    "ExecuteTime": {
     "end_time": "2022-01-09T11:11:06.383001Z",
     "start_time": "2022-01-09T11:11:06.371034Z"
    }
   },
   "outputs": [],
   "source": [
    "future_results.insert(0, 'home_team', future_matches_names.home.values)\n",
    "future_results.insert(1, 'away_team', future_matches_names.away.values)"
   ]
  },
  {
   "cell_type": "code",
   "execution_count": 36,
   "id": "16beb230",
   "metadata": {
    "ExecuteTime": {
     "end_time": "2022-01-09T11:11:06.413919Z",
     "start_time": "2022-01-09T11:11:06.385993Z"
    }
   },
   "outputs": [],
   "source": [
    "combined_predictions = pd.concat([predicted_results, future_results], ignore_index=True)\n",
    "combined_predictions.fillna('Unknown yet', inplace=True)\n",
    "combined_predictions.replace({'away_win': 'Away team win', 'draw': 'Draw', 'home_win': 'Home team win'}, inplace=True)"
   ]
  },
  {
   "cell_type": "code",
   "execution_count": 37,
   "id": "67111029",
   "metadata": {
    "ExecuteTime": {
     "end_time": "2022-01-09T11:11:06.445834Z",
     "start_time": "2022-01-09T11:11:06.419904Z"
    }
   },
   "outputs": [],
   "source": [
    "combined_predictions.to_csv('combined_predictions.csv', index=False)"
   ]
  },
  {
   "cell_type": "code",
   "execution_count": 38,
   "id": "bd151f25",
   "metadata": {
    "ExecuteTime": {
     "end_time": "2022-01-09T11:11:06.477748Z",
     "start_time": "2022-01-09T11:11:06.449824Z"
    }
   },
   "outputs": [
    {
     "data": {
      "text/html": [
       "<div>\n",
       "<style scoped>\n",
       "    .dataframe tbody tr th:only-of-type {\n",
       "        vertical-align: middle;\n",
       "    }\n",
       "\n",
       "    .dataframe tbody tr th {\n",
       "        vertical-align: top;\n",
       "    }\n",
       "\n",
       "    .dataframe thead th {\n",
       "        text-align: right;\n",
       "    }\n",
       "</style>\n",
       "<table border=\"1\" class=\"dataframe\">\n",
       "  <thead>\n",
       "    <tr style=\"text-align: right;\">\n",
       "      <th></th>\n",
       "      <th>home_team</th>\n",
       "      <th>away_team</th>\n",
       "      <th>preds</th>\n",
       "      <th>home_win_prob</th>\n",
       "      <th>draw_prob</th>\n",
       "      <th>away_win_prob</th>\n",
       "      <th>true_labels</th>\n",
       "    </tr>\n",
       "  </thead>\n",
       "  <tbody>\n",
       "    <tr>\n",
       "      <th>0</th>\n",
       "      <td>Brentford</td>\n",
       "      <td>Arsenal</td>\n",
       "      <td>Away team win</td>\n",
       "      <td>31.70</td>\n",
       "      <td>28.93</td>\n",
       "      <td>39.37</td>\n",
       "      <td>Home team win</td>\n",
       "    </tr>\n",
       "    <tr>\n",
       "      <th>1</th>\n",
       "      <td>Manchester United</td>\n",
       "      <td>Leeds United</td>\n",
       "      <td>Home team win</td>\n",
       "      <td>58.78</td>\n",
       "      <td>22.29</td>\n",
       "      <td>18.92</td>\n",
       "      <td>Home team win</td>\n",
       "    </tr>\n",
       "    <tr>\n",
       "      <th>2</th>\n",
       "      <td>Burnley</td>\n",
       "      <td>Brighton &amp; Hove Albion</td>\n",
       "      <td>Home team win</td>\n",
       "      <td>45.97</td>\n",
       "      <td>26.38</td>\n",
       "      <td>27.65</td>\n",
       "      <td>Away team win</td>\n",
       "    </tr>\n",
       "    <tr>\n",
       "      <th>3</th>\n",
       "      <td>Chelsea</td>\n",
       "      <td>Crystal Palace</td>\n",
       "      <td>Home team win</td>\n",
       "      <td>60.66</td>\n",
       "      <td>20.79</td>\n",
       "      <td>18.55</td>\n",
       "      <td>Home team win</td>\n",
       "    </tr>\n",
       "    <tr>\n",
       "      <th>4</th>\n",
       "      <td>Everton</td>\n",
       "      <td>Southampton</td>\n",
       "      <td>Home team win</td>\n",
       "      <td>52.07</td>\n",
       "      <td>28.01</td>\n",
       "      <td>19.91</td>\n",
       "      <td>Home team win</td>\n",
       "    </tr>\n",
       "  </tbody>\n",
       "</table>\n",
       "</div>"
      ],
      "text/plain": [
       "           home_team               away_team          preds  home_win_prob  \\\n",
       "0          Brentford                 Arsenal  Away team win          31.70   \n",
       "1  Manchester United            Leeds United  Home team win          58.78   \n",
       "2            Burnley  Brighton & Hove Albion  Home team win          45.97   \n",
       "3            Chelsea          Crystal Palace  Home team win          60.66   \n",
       "4            Everton             Southampton  Home team win          52.07   \n",
       "\n",
       "   draw_prob  away_win_prob    true_labels  \n",
       "0      28.93          39.37  Home team win  \n",
       "1      22.29          18.92  Home team win  \n",
       "2      26.38          27.65  Away team win  \n",
       "3      20.79          18.55  Home team win  \n",
       "4      28.01          19.91  Home team win  "
      ]
     },
     "execution_count": 38,
     "metadata": {},
     "output_type": "execute_result"
    }
   ],
   "source": [
    "combined_predictions.head()"
   ]
  }
 ],
 "metadata": {
  "kernelspec": {
   "display_name": "Python 3 (ipykernel)",
   "language": "python",
   "name": "python3"
  },
  "language_info": {
   "codemirror_mode": {
    "name": "ipython",
    "version": 3
   },
   "file_extension": ".py",
   "mimetype": "text/x-python",
   "name": "python",
   "nbconvert_exporter": "python",
   "pygments_lexer": "ipython3",
   "version": "3.9.7"
  },
  "varInspector": {
   "cols": {
    "lenName": 16,
    "lenType": 16,
    "lenVar": 40
   },
   "kernels_config": {
    "python": {
     "delete_cmd_postfix": "",
     "delete_cmd_prefix": "del ",
     "library": "var_list.py",
     "varRefreshCmd": "print(var_dic_list())"
    },
    "r": {
     "delete_cmd_postfix": ") ",
     "delete_cmd_prefix": "rm(",
     "library": "var_list.r",
     "varRefreshCmd": "cat(var_dic_list()) "
    }
   },
   "types_to_exclude": [
    "module",
    "function",
    "builtin_function_or_method",
    "instance",
    "_Feature"
   ],
   "window_display": false
  }
 },
 "nbformat": 4,
 "nbformat_minor": 5
}
