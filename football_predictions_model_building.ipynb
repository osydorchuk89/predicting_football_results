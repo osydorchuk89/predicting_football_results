{
 "cells": [
  {
   "cell_type": "markdown",
   "id": "0eb6e200",
   "metadata": {},
   "source": [
    "# Predicting football matches results (model selection, validation, and prediction)"
   ]
  },
  {
   "cell_type": "markdown",
   "id": "afd447fc",
   "metadata": {},
   "source": [
    "In this notebook, I will use several machine learning algorithms to predict oucomes of the current 2021/2022 season. For this, I will the preprocessed dataset created in the previous notebook."
   ]
  },
  {
   "cell_type": "markdown",
   "id": "f024d677",
   "metadata": {},
   "source": [
    "All created features are numerical, so I don't need to process them further. I'll split the matches dataframe into train and test:\n",
    "\n",
    "* Train - 10 seasons, from 2011/2012 to 2020/2021\n",
    "* Test - season 2021/2022 (ongoing)"
   ]
  },
  {
   "cell_type": "code",
   "execution_count": 1,
   "id": "f2434072",
   "metadata": {
    "ExecuteTime": {
     "end_time": "2022-01-28T15:25:30.455358Z",
     "start_time": "2022-01-28T15:25:28.632909Z"
    }
   },
   "outputs": [],
   "source": [
    "import warnings\n",
    "warnings.filterwarnings('ignore')\n",
    "\n",
    "import numpy as np\n",
    "import pandas as pd\n",
    "import matplotlib.pyplot as plt\n",
    "plt.style.use('Solarize_Light2')\n",
    "\n",
    "from sklearn.linear_model import LogisticRegression\n",
    "from sklearn.metrics import accuracy_score, classification_report, confusion_matrix, ConfusionMatrixDisplay, make_scorer\n",
    "from sklearn.ensemble import RandomForestClassifier\n",
    "from sklearn.model_selection import cross_val_score\n",
    "from sklearn.feature_selection import SelectPercentile\n",
    "from sklearn.pipeline import make_pipeline\n",
    "\n",
    "import xgboost as xgb\n",
    "import lightgbm as lgb"
   ]
  },
  {
   "cell_type": "code",
   "execution_count": 2,
   "id": "b0381cd9",
   "metadata": {
    "ExecuteTime": {
     "end_time": "2022-01-28T15:25:31.766509Z",
     "start_time": "2022-01-28T15:25:30.455358Z"
    }
   },
   "outputs": [],
   "source": [
    "matches_all = pd.read_csv(\n",
    "    'https://raw.githubusercontent.com/osydorchuk89/predicting_football_results/main/data/matches_all.csv'\n",
    ")\n",
    "matches_all.drop_duplicates(inplace=True)\n",
    "train, test = matches_all.iloc[:3800, :], matches_all.iloc[3800:, :]"
   ]
  },
  {
   "cell_type": "markdown",
   "id": "dacd14b7",
   "metadata": {},
   "source": [
    "For validation, I'll divide train into five folds:\n",
    "\n",
    "1. Train - seasons 2011/2012 to 2015/2016, validation - season 2016/2017\n",
    "2. Train - seasons 2012/2013 to 2016/2017, validation - season 2017/2018\n",
    "3. Train - seasons 2013/2014 to 2017/2018, validation - season 2018/2019\n",
    "4. Train - seasons 2014/2015 to 2018/2019, validation - season 2019/2020\n",
    "5. Train - seasons 2015/2016 to 2019/2020, validation - season 2020/2021"
   ]
  },
  {
   "cell_type": "code",
   "execution_count": 3,
   "id": "671d1ef1",
   "metadata": {
    "ExecuteTime": {
     "end_time": "2022-01-28T15:25:31.782295Z",
     "start_time": "2022-01-28T15:25:31.766509Z"
    }
   },
   "outputs": [],
   "source": [
    "n = 380 #number of matches in a season\n",
    "\n",
    "train_1_indices, valid_1_indices = train.iloc[:n*5].index, train.iloc[n*5:n*6].index\n",
    "train_2_indices, valid_2_indices = train.iloc[n:n*6].index, train.iloc[n*6:n*7].index\n",
    "train_3_indices, valid_3_indices = train.iloc[n*2:n*7].index, train.iloc[n*7:n*8].index\n",
    "train_4_indices, valid_4_indices = train.iloc[n*3:n*8].index, train.iloc[n*8:n*9].index\n",
    "train_5_indices, valid_5_indices = train.iloc[n*4:n*9].index, train.iloc[n*9:n*10].index\n",
    "\n",
    "my_cv = [\n",
    "    (train_1_indices, valid_1_indices), \n",
    "    (train_2_indices, valid_2_indices), \n",
    "    (train_3_indices, valid_3_indices),\n",
    "    (train_4_indices, valid_4_indices),\n",
    "    (train_5_indices, valid_5_indices)\n",
    "]"
   ]
  },
  {
   "cell_type": "code",
   "execution_count": 4,
   "id": "9b83964f",
   "metadata": {
    "ExecuteTime": {
     "end_time": "2022-01-28T15:25:31.797337Z",
     "start_time": "2022-01-28T15:25:31.785296Z"
    }
   },
   "outputs": [],
   "source": [
    "# instantiating classification algorithms with deafault parameters\n",
    "logreg = LogisticRegression(solver='liblinear', random_state=17)\n",
    "rf = RandomForestClassifier(random_state=17)\n",
    "xgb_clf = xgb.XGBClassifier(objective='multi:softmax', eval_metric='merror')\n",
    "lgb_clf = lgb.LGBMClassifier(objective='multiclass', metric='multi_error')"
   ]
  },
  {
   "cell_type": "code",
   "execution_count": 5,
   "id": "cab21c73",
   "metadata": {
    "ExecuteTime": {
     "end_time": "2022-01-28T15:25:31.812534Z",
     "start_time": "2022-01-28T15:25:31.798338Z"
    }
   },
   "outputs": [],
   "source": [
    "X_train = train.drop(columns='result')\n",
    "y_train = train.result\n",
    "y_train_num = train.result.map({'away_win': 0, 'draw': 1, 'home_win':2})"
   ]
  },
  {
   "cell_type": "markdown",
   "id": "ebce7fc0",
   "metadata": {},
   "source": [
    "For validation, I will use two metrics: \n",
    "1. *Accuracy*. Overall share of predictions that turned out to be correct.The higher the better.\n",
    "2. *Average critical errors*. this is a custom metric I developed for this task. It is calculated a share of away wins predicted as home wins and home wins predicted as away wins. I would like to minimize these errors as they are the most costly. The lower the better.\n",
    "I will try to optimize predictions for these both scores."
   ]
  },
  {
   "cell_type": "markdown",
   "id": "620b4072",
   "metadata": {},
   "source": [
    "I'll start with computing average accuracy and critical errors of predictions, using four models with defauls parameters: LogisticRegression, RandomForestClassifier, XGBClassifier, and LGBMClassifier."
   ]
  },
  {
   "cell_type": "code",
   "execution_count": 6,
   "id": "d0d9b8b8",
   "metadata": {
    "ExecuteTime": {
     "end_time": "2022-01-28T15:25:31.828203Z",
     "start_time": "2022-01-28T15:25:31.814172Z"
    }
   },
   "outputs": [],
   "source": [
    "# custom metric for calclating the share of most costly errors\n",
    "def critical_errors_func(y_true, y_pred):\n",
    "    errors = 0\n",
    "    for pred, true in zip(y_true, y_pred):\n",
    "        if ((pred == 'home_win') and (true == 'away_win')) or ((pred == 'away_win') and (true == 'home_win')):\n",
    "            errors += 1\n",
    "    score = errors / len(y_true)\n",
    "    return score\n",
    "\n",
    "critical_errors = make_scorer(critical_errors_func)"
   ]
  },
  {
   "cell_type": "code",
   "execution_count": 7,
   "id": "f852b023",
   "metadata": {
    "ExecuteTime": {
     "end_time": "2022-01-28T15:25:45.795471Z",
     "start_time": "2022-01-28T15:25:31.830206Z"
    },
    "scrolled": true
   },
   "outputs": [
    {
     "data": {
      "text/html": [
       "<div>\n",
       "<style scoped>\n",
       "    .dataframe tbody tr th:only-of-type {\n",
       "        vertical-align: middle;\n",
       "    }\n",
       "\n",
       "    .dataframe tbody tr th {\n",
       "        vertical-align: top;\n",
       "    }\n",
       "\n",
       "    .dataframe thead th {\n",
       "        text-align: right;\n",
       "    }\n",
       "</style>\n",
       "<table border=\"1\" class=\"dataframe\">\n",
       "  <thead>\n",
       "    <tr style=\"text-align: right;\">\n",
       "      <th></th>\n",
       "      <th>Model</th>\n",
       "      <th>Accuracy</th>\n",
       "      <th>Critical errors</th>\n",
       "    </tr>\n",
       "  </thead>\n",
       "  <tbody>\n",
       "    <tr>\n",
       "      <th>0</th>\n",
       "      <td>LogisticRegression</td>\n",
       "      <td>53.84</td>\n",
       "      <td>21.95</td>\n",
       "    </tr>\n",
       "    <tr>\n",
       "      <th>1</th>\n",
       "      <td>RandomForestClassifier</td>\n",
       "      <td>52.68</td>\n",
       "      <td>20.32</td>\n",
       "    </tr>\n",
       "    <tr>\n",
       "      <th>2</th>\n",
       "      <td>XGBClassifier</td>\n",
       "      <td>50.58</td>\n",
       "      <td>19.47</td>\n",
       "    </tr>\n",
       "    <tr>\n",
       "      <th>3</th>\n",
       "      <td>LGBMClassifier</td>\n",
       "      <td>52.11</td>\n",
       "      <td>19.11</td>\n",
       "    </tr>\n",
       "  </tbody>\n",
       "</table>\n",
       "</div>"
      ],
      "text/plain": [
       "                    Model  Accuracy  Critical errors\n",
       "0      LogisticRegression     53.84            21.95\n",
       "1  RandomForestClassifier     52.68            20.32\n",
       "2           XGBClassifier     50.58            19.47\n",
       "3          LGBMClassifier     52.11            19.11"
      ]
     },
     "execution_count": 7,
     "metadata": {},
     "output_type": "execute_result"
    }
   ],
   "source": [
    "base_models = [logreg, rf, xgb_clf, lgb_clf]\n",
    "\n",
    "accuracy_scores = []\n",
    "critical_errors_scores = []\n",
    "model_names = []\n",
    "\n",
    "for model in base_models:\n",
    "    model_name = type(model).__name__\n",
    "    accuracy = cross_val_score(model, X_train, y_train, cv=my_cv, scoring='accuracy').mean() * 100\n",
    "    critical_errors_score = cross_val_score(model, X_train, y_train, cv=my_cv, scoring=critical_errors).mean() * 100\n",
    "    model_names.append(model_name)\n",
    "    accuracy_scores.append(round(accuracy, 2))\n",
    "    critical_errors_scores.append(round(critical_errors_score, 2))\n",
    "\n",
    "pd.DataFrame({'Model': model_names, 'Accuracy': accuracy_scores, 'Critical errors': critical_errors_scores})    "
   ]
  },
  {
   "cell_type": "markdown",
   "id": "151c4b31",
   "metadata": {},
   "source": [
    "The results of different algorithms are comparable. However, since boosting algorithm have greater potential for improving by changing their hyperparameters, I'll proceed to tuning them."
   ]
  },
  {
   "cell_type": "code",
   "execution_count": 8,
   "id": "7a4cb8a8",
   "metadata": {
    "ExecuteTime": {
     "end_time": "2022-01-28T15:25:46.387223Z",
     "start_time": "2022-01-28T15:25:45.795471Z"
    },
    "scrolled": true
   },
   "outputs": [
    {
     "name": "stdout",
     "output_type": "stream",
     "text": [
      "[0]\ttrain-merror:0.43821+0.00785\ttest-merror:0.45053+0.02675\n",
      "[10]\ttrain-merror:0.42716+0.00688\ttest-merror:0.43947+0.03000\n",
      "[20]\ttrain-merror:0.42000+0.00467\ttest-merror:0.44105+0.02952\n",
      "[30]\ttrain-merror:0.40989+0.00436\ttest-merror:0.44211+0.02725\n",
      "[31]\ttrain-merror:0.41021+0.00366\ttest-merror:0.44105+0.02707\n",
      "\n",
      " Best train score is 57.48%, best validation score is 56.47%, achieved after 12 rounds\n"
     ]
    }
   ],
   "source": [
    "# tuning XGBoost hyperparameters\n",
    "xgb_parameters = {\n",
    "    'objective': 'multi:softmax',\n",
    "    'eval_metric': 'merror',\n",
    "    'num_class': 3,\n",
    "    'learning_rate': 0.05,\n",
    "    'max_depth': 4,\n",
    "    'max_leaves': 8,\n",
    "    'tree_method': 'hist',\n",
    "    'grow_policy': 'lossguide',\n",
    "    'colsample_bytree': 0.7,\n",
    "    'subsample': 0.7\n",
    "}\n",
    "\n",
    "xgb_train = xgb.DMatrix(X_train, y_train_num)\n",
    "xgb_results = xgb.cv(\n",
    "    xgb_parameters, \n",
    "    xgb_train, \n",
    "    num_boost_round=100, \n",
    "    verbose_eval=10, \n",
    "    early_stopping_rounds=20, \n",
    "    folds=my_cv\n",
    ")\n",
    "\n",
    "xgb_train_results = (1 - xgb_results.iloc[:, 0]) * 100\n",
    "xgb_test_results = (1 - xgb_results.iloc[:, 2]) * 100\n",
    "xgb_best_round = len(xgb_results) - 1\n",
    "\n",
    "xgb_train_result = xgb_train_results[xgb_best_round]\n",
    "xgb_test_result = xgb_test_results[xgb_best_round]\n",
    "\n",
    "print(f'\\n Best train score is {xgb_train_result:.2f}%, best validation score is {xgb_test_result:.2f}%, achieved after {xgb_best_round} rounds')"
   ]
  },
  {
   "cell_type": "code",
   "execution_count": 9,
   "id": "a73053bb",
   "metadata": {
    "ExecuteTime": {
     "end_time": "2022-01-28T15:25:48.184672Z",
     "start_time": "2022-01-28T15:25:46.387223Z"
    }
   },
   "outputs": [
    {
     "name": "stdout",
     "output_type": "stream",
     "text": [
      "[10]\tcv_agg's train multi_error: 0.545895 + 0.00499751\tcv_agg's valid multi_error: 0.548947 + 0.0388405\n",
      "[20]\tcv_agg's train multi_error: 0.533895 + 0.0153432\tcv_agg's valid multi_error: 0.543158 + 0.034896\n",
      "[30]\tcv_agg's train multi_error: 0.472842 + 0.00821862\tcv_agg's valid multi_error: 0.491579 + 0.0417551\n",
      "[40]\tcv_agg's train multi_error: 0.451789 + 0.0069154\tcv_agg's valid multi_error: 0.468421 + 0.0361208\n",
      "[50]\tcv_agg's train multi_error: 0.442421 + 0.00649398\tcv_agg's valid multi_error: 0.459474 + 0.0399654\n",
      "[60]\tcv_agg's train multi_error: 0.434947 + 0.0089356\tcv_agg's valid multi_error: 0.451053 + 0.0394772\n",
      "[70]\tcv_agg's train multi_error: 0.426947 + 0.00895913\tcv_agg's valid multi_error: 0.446842 + 0.0413886\n",
      "[80]\tcv_agg's train multi_error: 0.415158 + 0.00897766\tcv_agg's valid multi_error: 0.442105 + 0.0383164\n",
      "[90]\tcv_agg's train multi_error: 0.404947 + 0.00744025\tcv_agg's valid multi_error: 0.441579 + 0.0374905\n",
      "[100]\tcv_agg's train multi_error: 0.392947 + 0.00755112\tcv_agg's valid multi_error: 0.442632 + 0.0328009\n",
      "[110]\tcv_agg's train multi_error: 0.382526 + 0.00941149\tcv_agg's valid multi_error: 0.444737 + 0.0309141\n",
      "[120]\tcv_agg's train multi_error: 0.370105 + 0.00993274\tcv_agg's valid multi_error: 0.442632 + 0.0307523\n",
      "[130]\tcv_agg's train multi_error: 0.358737 + 0.0110431\tcv_agg's valid multi_error: 0.446842 + 0.0296517\n",
      "[140]\tcv_agg's train multi_error: 0.348211 + 0.00952384\tcv_agg's valid multi_error: 0.445789 + 0.0289522\n",
      "[150]\tcv_agg's train multi_error: 0.34 + 0.0100635\tcv_agg's valid multi_error: 0.446316 + 0.0292378\n",
      "[160]\tcv_agg's train multi_error: 0.33 + 0.0092308\tcv_agg's valid multi_error: 0.448947 + 0.0294267\n",
      "[170]\tcv_agg's train multi_error: 0.320737 + 0.0092224\tcv_agg's valid multi_error: 0.446842 + 0.0280186\n",
      "[180]\tcv_agg's train multi_error: 0.310842 + 0.00695534\tcv_agg's valid multi_error: 0.446316 + 0.0270221\n",
      "\n",
      "Best train score is 59.07%, best validation score is 56.00%, achieved after 86 rounds\n"
     ]
    }
   ],
   "source": [
    "# tuning LightGBM hyperparameters\n",
    "lgb_parameters = {\n",
    "  'objective': 'multiclass',\n",
    "  'metric': 'multi_error', \n",
    "  'num_class': 3,\n",
    "  'learning_rate': 0.01,\n",
    "  'verbose': -1,\n",
    "  'subsample_freq': 1,\n",
    "  'subsample': 0.7,\n",
    "  'colsample_bytree': 0.7, \n",
    "  'min_child_samples': 50,\n",
    "  'random_seed': 17\n",
    "}\n",
    "\n",
    "lgb_train = lgb.Dataset(X_train, y_train_num)\n",
    "\n",
    "lgb_results = lgb.cv(\n",
    "    lgb_parameters, \n",
    "    lgb_train, \n",
    "    num_boost_round=1000, \n",
    "    folds=my_cv, \n",
    "    early_stopping_rounds=100, \n",
    "    verbose_eval=10, \n",
    "    eval_train_metric=True\n",
    ")\n",
    "\n",
    "lgb_test_result = (1 - lgb_results['valid multi_error-mean'][-1]) * 100\n",
    "lgb_train_result = (1 - lgb_results['train multi_error-mean'][-1]) * 100\n",
    "lgb_best_round = len(lgb_results['valid multi_error-mean'])\n",
    "\n",
    "print(\n",
    "    f'\\nBest train score is {lgb_train_result:.2f}%, best validation score is {lgb_test_result:.2f}%, achieved after {lgb_best_round} rounds'\n",
    ")\n"
   ]
  },
  {
   "cell_type": "markdown",
   "id": "97413d38",
   "metadata": {},
   "source": [
    "To calculate average critical errors score using 5-fold validation, I will use scikit-learn wrapper of XGBoost and LightGBM."
   ]
  },
  {
   "cell_type": "code",
   "execution_count": 10,
   "id": "ca337edc",
   "metadata": {
    "ExecuteTime": {
     "end_time": "2022-01-28T15:25:48.787646Z",
     "start_time": "2022-01-28T15:25:48.184672Z"
    }
   },
   "outputs": [
    {
     "name": "stdout",
     "output_type": "stream",
     "text": [
      "Average accuracy score of tuned XGBClassifier is 55.84%\n",
      "\n",
      "Average critical error score of tuned XGBClassifier is 21.16%\n"
     ]
    }
   ],
   "source": [
    "xgb_parameters['n_estimators'] = 12 #applying early stopping to the algorithm\n",
    "xgb_clf_upd = xgb.XGBClassifier(**xgb_parameters)\n",
    "\n",
    "xgb_avg_accuracy = cross_val_score(xgb_clf_upd, X_train, y_train, cv=my_cv, scoring='accuracy').mean() * 100\n",
    "xgb_avg_critical_error = cross_val_score(xgb_clf_upd, X_train, y_train, cv=my_cv, scoring=critical_errors).mean() * 100\n",
    "\n",
    "print(f'Average accuracy score of tuned XGBClassifier is {xgb_avg_accuracy:.2f}%')\n",
    "print(f'\\nAverage critical error score of tuned XGBClassifier is {xgb_avg_critical_error:.2f}%')"
   ]
  },
  {
   "cell_type": "code",
   "execution_count": 11,
   "id": "7bd8e846",
   "metadata": {
    "ExecuteTime": {
     "end_time": "2022-01-28T15:25:50.169400Z",
     "start_time": "2022-01-28T15:25:48.788647Z"
    }
   },
   "outputs": [
    {
     "name": "stdout",
     "output_type": "stream",
     "text": [
      "Average accuracy score of tuned LGBMClassifier is 55.74%\n",
      "\n",
      "Average critical error score of tuned LGBMClassifier is 21.74%\n"
     ]
    }
   ],
   "source": [
    "lgb_parameters['n_estimators'] = 86 #applying early stopping to the algorithm\n",
    "lgb_clf_upd = lgb.LGBMClassifier(**lgb_parameters)\n",
    "\n",
    "lgb_avg_accuracy = cross_val_score(lgb_clf_upd, X_train, y_train, cv=my_cv, scoring='accuracy').mean() * 100\n",
    "lgb_avg_critical_error = cross_val_score(lgb_clf_upd, X_train, y_train, cv=my_cv, scoring=critical_errors).mean() * 100\n",
    "\n",
    "print(f'Average accuracy score of tuned LGBMClassifier is {lgb_avg_accuracy:.2f}%')\n",
    "print(f'\\nAverage critical error score of tuned LGBMClassifier is {lgb_avg_critical_error:.2f}%')"
   ]
  },
  {
   "cell_type": "markdown",
   "id": "2c519a1e",
   "metadata": {},
   "source": [
    "To undestand how predicted outcomes compare with actual results over 5 folds, I will create and visualize a confusion matrix. To get predictions from each fold, I will need to recreate this folds and iterate over them manually, since skicit learn's cross_val_predict is not compatible with time series-like cross-validation."
   ]
  },
  {
   "cell_type": "code",
   "execution_count": 12,
   "id": "104f93be",
   "metadata": {
    "ExecuteTime": {
     "end_time": "2022-01-28T15:25:50.199408Z",
     "start_time": "2022-01-28T15:25:50.170401Z"
    }
   },
   "outputs": [],
   "source": [
    "train_1, valid_1 = matches_all.iloc[:n*5], matches_all.iloc[n*5:n*6]\n",
    "train_2, valid_2 = matches_all.iloc[n:n*6], matches_all.iloc[n*6:n*7]\n",
    "train_3, valid_3 = matches_all.iloc[n*2:n*7], matches_all.iloc[n*7:n*8]\n",
    "train_4, valid_4 = matches_all.iloc[n*3:n*8], matches_all.iloc[n*8:n*9]\n",
    "train_5, valid_5 = matches_all.iloc[n*4:n*9], matches_all.iloc[n*9:n*10]\n",
    "\n",
    "folds = [\n",
    "    (train_1, valid_1), \n",
    "    (train_2, valid_2), \n",
    "    (train_3, valid_3),\n",
    "    (train_4, valid_4),\n",
    "    (train_5, valid_5)\n",
    "]\n",
    "\n",
    "def train_valid_split(fold):\n",
    "    X_train = fold[0].drop(columns='result')\n",
    "    y_train = fold[0].result\n",
    "    X_valid = fold[1].drop(columns='result')\n",
    "    y_valid = fold[1].result\n",
    "    return [X_train, y_train, X_valid, y_valid]\n",
    "\n",
    "fold_1 = train_valid_split(folds[0])\n",
    "fold_2 = train_valid_split(folds[1])\n",
    "fold_3 = train_valid_split(folds[2])\n",
    "fold_4 = train_valid_split(folds[3])\n",
    "fold_5 = train_valid_split(folds[4])\n",
    "\n",
    "folds_new = [fold_1, fold_2, fold_3, fold_4, fold_5]"
   ]
  },
  {
   "cell_type": "code",
   "execution_count": 13,
   "id": "1dcc964e",
   "metadata": {
    "ExecuteTime": {
     "end_time": "2022-01-28T15:25:50.627687Z",
     "start_time": "2022-01-28T15:25:50.200408Z"
    },
    "scrolled": false
   },
   "outputs": [
    {
     "data": {
      "image/png": "[encoded data removed]",
      "text/plain": [
       "<Figure size 432x288 with 2 Axes>"
      ]
     },
     "metadata": {},
     "output_type": "display_data"
    }
   ],
   "source": [
    "accuracies_folds = []\n",
    "critical_errors_folds = []\n",
    "correct_results = []\n",
    "preds = []\n",
    "\n",
    "for fold in folds_new:\n",
    "    xgb_clf_upd.fit(fold[0], fold[1])\n",
    "    pred = xgb_clf_upd.predict(fold[2])\n",
    "    accuracy = accuracy_score(fold[3], pred) * 100\n",
    "    critical_error = critical_errors_func(fold[3], pred) * 100\n",
    "    preds.append(pred)\n",
    "    correct_results.append(fold[3])\n",
    "    accuracies_folds.append(accuracy)\n",
    "    critical_errors_folds.append(critical_error)\n",
    "\n",
    "correct_results_flat = [item for sublist in correct_results for item in sublist]\n",
    "preds_flat = [item for sublist in preds for item in sublist]\n",
    "\n",
    "cm = confusion_matrix(correct_results_flat, preds_flat, labels=['away_win', 'draw', 'home_win'])\n",
    "disp = ConfusionMatrixDisplay(confusion_matrix=cm, display_labels=['away_win', 'draw', 'home_win']).plot(cmap='YlOrRd')\n",
    "plt.grid(False)\n",
    "plt.show()"
   ]
  },
  {
   "cell_type": "code",
   "execution_count": 14,
   "id": "ee7f2869",
   "metadata": {
    "ExecuteTime": {
     "end_time": "2022-01-28T15:25:50.643697Z",
     "start_time": "2022-01-28T15:25:50.629690Z"
    }
   },
   "outputs": [
    {
     "name": "stdout",
     "output_type": "stream",
     "text": [
      "[['away_win' '545']\n",
      " ['draw' '14']\n",
      " ['home_win' '1341']]\n"
     ]
    }
   ],
   "source": [
    "# displaying the counts of predicted away wins, draws, and home wins accross all 5 folds\n",
    "unique, counts = np.unique(preds_flat, return_counts=True)\n",
    "print(np.asarray((unique, counts)).T)"
   ]
  },
  {
   "cell_type": "markdown",
   "id": "2ce81dff",
   "metadata": {},
   "source": [
    "From the confusion matrix and the counts of predicted outcomes, it is obvious that the model singinficantly underestimates the probability of draw and overestimates the probability of home win. To address this, I will try to manually tweak the threshols for predicting draw and home win from predicted probabilities. It is reasonable to assume if a difference of probabilities between home and away win is very small, the model can predict draw even if the probability of draw is lower than the probabilities of either home and away win."
   ]
  },
  {
   "cell_type": "code",
   "execution_count": 15,
   "id": "b1f2fbf7",
   "metadata": {
    "ExecuteTime": {
     "end_time": "2022-01-28T15:25:50.658970Z",
     "start_time": "2022-01-28T15:25:50.645699Z"
    }
   },
   "outputs": [],
   "source": [
    "def cross_val_custom_threshold(model):\n",
    "    accuracies_folds = []\n",
    "    critical_errors_folds = []\n",
    "\n",
    "    for fold in folds_new:\n",
    "        model.fit(fold[0], fold[1])\n",
    "        preds = model.predict(fold[2])\n",
    "        probs = model.predict_proba(fold[2])\n",
    "\n",
    "        upd_preds = []\n",
    "\n",
    "        for row in probs:\n",
    "            if (row[0] > row[1]) & (row[0] > row[2]):\n",
    "                upd_preds.append('away_win')\n",
    "            elif (row[2] > row[1]) & (row[2] > row[0]) & ((row[2] - row[0]) > 0.05):\n",
    "                upd_preds.append('home_win')\n",
    "            else:\n",
    "                upd_preds.append('draw')\n",
    "\n",
    "        accuracy = accuracy_score(fold[3], upd_preds) * 100\n",
    "        critical_error = critical_errors_func(fold[3], upd_preds) * 100\n",
    "        accuracies_folds.append(accuracy)\n",
    "        critical_errors_folds.append(critical_error)\n",
    "\n",
    "    accuracy_upd = np.mean(accuracies_folds)\n",
    "    critical_error_upd = np.mean(critical_errors_folds)\n",
    "    \n",
    "    return accuracy_upd, critical_error_upd"
   ]
  },
  {
   "cell_type": "code",
   "execution_count": 16,
   "id": "c570711a",
   "metadata": {
    "ExecuteTime": {
     "end_time": "2022-01-28T15:25:51.247261Z",
     "start_time": "2022-01-28T15:25:50.661973Z"
    }
   },
   "outputs": [
    {
     "name": "stdout",
     "output_type": "stream",
     "text": [
      "Average accuracy score of tuned XGBoost before customization: 55.84%\n",
      "Average accuracy score of tuned XGBoost after customization: 54.58%\n",
      "\n",
      "Average critical error score of tuned XGBoost before customization: 21.16%\n",
      "Average critical error score of tuned XGBoost after customization: 15.68%\n"
     ]
    }
   ],
   "source": [
    "xgb_avg_accuracy_upd = cross_val_custom_threshold(xgb_clf_upd)[0]\n",
    "xgb_avg_critical_error_upd = cross_val_custom_threshold(xgb_clf_upd)[1]\n",
    "\n",
    "print(f'Average accuracy score of tuned XGBoost before customization: {xgb_avg_accuracy:.2f}%')\n",
    "print(f'Average accuracy score of tuned XGBoost after customization: {xgb_avg_accuracy_upd:.2f}%')\n",
    "print(f'\\nAverage critical error score of tuned XGBoost before customization: {xgb_avg_critical_error:.2f}%')\n",
    "print(f'Average critical error score of tuned XGBoost after customization: {xgb_avg_critical_error_upd:.2f}%')"
   ]
  },
  {
   "cell_type": "code",
   "execution_count": 17,
   "id": "7d1a27c3",
   "metadata": {
    "ExecuteTime": {
     "end_time": "2022-01-28T15:25:52.546579Z",
     "start_time": "2022-01-28T15:25:51.248262Z"
    },
    "scrolled": true
   },
   "outputs": [
    {
     "name": "stdout",
     "output_type": "stream",
     "text": [
      "Average accuracy score of tuned LightGBM before customization: 55.74%\n",
      "Average accuracy score of tuned LightGBM after customization: 55.32%\n",
      "\n",
      "Average critical error score of tuned LightGBM before customization: 21.74%\n",
      "Average critical error score of tuned LightGBM after customization: 19.42%\n"
     ]
    }
   ],
   "source": [
    "lgb_avg_accuracy_upd = cross_val_custom_threshold(lgb_clf_upd)[0]\n",
    "lgb_avg_critical_error_upd = cross_val_custom_threshold(lgb_clf_upd)[1]\n",
    "\n",
    "print(f'Average accuracy score of tuned LightGBM before customization: {lgb_avg_accuracy:.2f}%')\n",
    "print(f'Average accuracy score of tuned LightGBM after customization: {lgb_avg_accuracy_upd:.2f}%')\n",
    "print(f'\\nAverage critical error score of tuned LightGBM before customization: {lgb_avg_critical_error:.2f}%')\n",
    "print(f'Average critical error score of tuned LightGBM after customization: {lgb_avg_critical_error_upd:.2f}%')"
   ]
  },
  {
   "cell_type": "markdown",
   "id": "53e0b235",
   "metadata": {},
   "source": [
    "After experimenting with changing thresholds for predicting different classes, I decided to change the threshold for predicting home win. In other words, less cases will be classified as home wins and more as draws. This decreased the accuracy a bit but also lowered the critical error more significantly."
   ]
  },
  {
   "cell_type": "markdown",
   "id": "de69037e",
   "metadata": {},
   "source": [
    "I will now turn to predictions. As a baseline, I will assume that all matches in the season 2021/2022 result in home wins as the most frequent outcome from the training set."
   ]
  },
  {
   "cell_type": "code",
   "execution_count": 18,
   "id": "3409b134",
   "metadata": {
    "ExecuteTime": {
     "end_time": "2022-01-28T15:25:52.562583Z",
     "start_time": "2022-01-28T15:25:52.547581Z"
    }
   },
   "outputs": [],
   "source": [
    "X_test = test.drop(columns='result')\n",
    "y_test = test.result"
   ]
  },
  {
   "cell_type": "code",
   "execution_count": 19,
   "id": "ed5399b9",
   "metadata": {
    "ExecuteTime": {
     "end_time": "2022-01-28T15:25:52.578586Z",
     "start_time": "2022-01-28T15:25:52.563584Z"
    }
   },
   "outputs": [
    {
     "name": "stdout",
     "output_type": "stream",
     "text": [
      "Accuracy of predictions on test using baseline: 40.65%\n",
      "\n",
      "Critical errors score of predictions on test using baseline: 32.71%\n"
     ]
    }
   ],
   "source": [
    "baseline_preds = np.full((214,), 'home_win')\n",
    "baseline_accuracy = accuracy_score(y_test, baseline_preds) * 100\n",
    "baseline_critical_errors = critical_errors_func(y_test, baseline_preds) * 100\n",
    "\n",
    "print(f'Accuracy of predictions on test using baseline: {baseline_accuracy:.2f}%')\n",
    "print(f'\\nCritical errors score of predictions on test using baseline: {baseline_critical_errors:.2f}%')"
   ]
  },
  {
   "cell_type": "markdown",
   "id": "c48ce7cd",
   "metadata": {},
   "source": [
    "Now, I will compare the predictions of XGBClassifier with default and customied prediction thresholds on the test set."
   ]
  },
  {
   "cell_type": "code",
   "execution_count": 20,
   "id": "bd96d420",
   "metadata": {
    "ExecuteTime": {
     "end_time": "2022-01-28T15:25:52.594590Z",
     "start_time": "2022-01-28T15:25:52.580588Z"
    }
   },
   "outputs": [],
   "source": [
    "# increasing the number of estimators as the model trains on the bigger set\n",
    "\n",
    "xgb_parameters['n_estimators'] = 15 \n",
    "xgb_clf_final = xgb.XGBClassifier(**xgb_parameters)\n",
    "\n",
    "lgb_parameters['n_estimators'] = 90\n",
    "lgb_clf_final = lgb.LGBMClassifier(**lgb_parameters)"
   ]
  },
  {
   "cell_type": "code",
   "execution_count": 21,
   "id": "4411035d",
   "metadata": {
    "ExecuteTime": {
     "end_time": "2022-01-28T15:25:52.610594Z",
     "start_time": "2022-01-28T15:25:52.595591Z"
    }
   },
   "outputs": [],
   "source": [
    "def tuned_model_predict(model):\n",
    "    \n",
    "    model.fit(X_train, y_train)\n",
    "    preds = model.predict(X_test)\n",
    "    accuracy_test = accuracy_score(y_test, preds) * 100\n",
    "    critical_error_test = critical_errors_func(y_test, preds) * 100\n",
    "    \n",
    "    return accuracy_test, critical_error_test, preds"
   ]
  },
  {
   "cell_type": "code",
   "execution_count": 22,
   "id": "5550ba94",
   "metadata": {
    "ExecuteTime": {
     "end_time": "2022-01-28T15:25:52.626597Z",
     "start_time": "2022-01-28T15:25:52.611594Z"
    }
   },
   "outputs": [],
   "source": [
    "def customized_model_predict(model):\n",
    "    \n",
    "    model.fit(X_train, y_train)\n",
    "    probs = model.predict_proba(X_test)\n",
    "\n",
    "    upd_preds = []\n",
    "\n",
    "    for row in probs:\n",
    "        if (row[0] > row[1]) & (row[0] > row[2]):\n",
    "            upd_preds.append('away_win')\n",
    "        elif (row[2] > row[1]) & (row[2] > row[0]) & ((row[2] - row[0]) > 0.05):\n",
    "            upd_preds.append('home_win')\n",
    "        else:\n",
    "            upd_preds.append('draw')\n",
    "\n",
    "    accuracy_test = accuracy_score(y_test, upd_preds) * 100\n",
    "    critical_errors_test = critical_errors_func(y_test, upd_preds) * 100\n",
    "    \n",
    "    return accuracy_test, critical_errors_test, upd_preds, probs"
   ]
  },
  {
   "cell_type": "code",
   "execution_count": 23,
   "id": "6009af61",
   "metadata": {
    "ExecuteTime": {
     "end_time": "2022-01-28T15:25:52.946669Z",
     "start_time": "2022-01-28T15:25:52.627598Z"
    }
   },
   "outputs": [
    {
     "name": "stdout",
     "output_type": "stream",
     "text": [
      "Accuracy of predictions on test using tuned XGBoost: 54.67%\n",
      "Critical errors score of predictions on test using tuned XGBoost: 18.69%\n",
      "\n",
      "Accuracy of predictions on test using customized XGBoost: 56.07%\n",
      "Critical errors score of predictions on test using customized XGBoost: 14.95%\n"
     ]
    }
   ],
   "source": [
    "tuned_xgb_accuracy_test = tuned_model_predict(xgb_clf_final)[0]\n",
    "tuned_xgb_critical_errors_test = tuned_model_predict(xgb_clf_final)[1]\n",
    "\n",
    "customized_xgb_accuracy_test = customized_model_predict(xgb_clf_final)[0]\n",
    "customized_xgb_critical_errors_test = customized_model_predict(xgb_clf_final)[1]\n",
    "\n",
    "print(f'Accuracy of predictions on test using tuned XGBoost: {tuned_xgb_accuracy_test:.2f}%')\n",
    "print(f'Critical errors score of predictions on test using tuned XGBoost: {tuned_xgb_critical_errors_test:.2f}%')\n",
    "print(f'\\nAccuracy of predictions on test using customized XGBoost: {customized_xgb_accuracy_test:.2f}%')\n",
    "print(f'Critical errors score of predictions on test using customized XGBoost: {customized_xgb_critical_errors_test:.2f}%')"
   ]
  },
  {
   "cell_type": "code",
   "execution_count": 24,
   "id": "776586f5",
   "metadata": {
    "ExecuteTime": {
     "end_time": "2022-01-28T15:25:54.084923Z",
     "start_time": "2022-01-28T15:25:52.947669Z"
    }
   },
   "outputs": [
    {
     "name": "stdout",
     "output_type": "stream",
     "text": [
      "Accuracy of predictions on test using tuned LightGBM: 51.40%\n",
      "Critical errors score of predictions on test using tuned LightGBM: 21.96%\n",
      "\n",
      "Accuracy of predictions on test using customized LightGBM: 51.40%\n",
      "Critical errors score of predictions on test using customized LightGBM: 18.22%\n"
     ]
    }
   ],
   "source": [
    "tuned_lgb_accuracy_test = tuned_model_predict(lgb_clf_final)[0]\n",
    "tuned_lgb_critical_errors_test = tuned_model_predict(lgb_clf_final)[1]\n",
    "\n",
    "customized_lgb_accuracy_test = customized_model_predict(lgb_clf_final)[0]\n",
    "customized_lgb_critical_errors_test = customized_model_predict(lgb_clf_final)[1]\n",
    "\n",
    "print(f'Accuracy of predictions on test using tuned LightGBM: {tuned_lgb_accuracy_test:.2f}%')\n",
    "print(f'Critical errors score of predictions on test using tuned LightGBM: {tuned_lgb_critical_errors_test:.2f}%')\n",
    "print(f'\\nAccuracy of predictions on test using customized LightGBM: {customized_lgb_accuracy_test:.2f}%')\n",
    "print(f'Critical errors score of predictions on test using customized LightGBM: {customized_lgb_critical_errors_test:.2f}%')"
   ]
  },
  {
   "cell_type": "markdown",
   "id": "12319d36",
   "metadata": {},
   "source": [
    "As we can see, changing the prediction threshold improved the accuracy of predictions and decreased the number of critical erfrors for XGBoost. Below, I will compare the results of predictions between all models visually."
   ]
  },
  {
   "cell_type": "code",
   "execution_count": 25,
   "id": "544d47ee",
   "metadata": {
    "ExecuteTime": {
     "end_time": "2022-01-28T15:25:56.734797Z",
     "start_time": "2022-01-28T15:25:54.085924Z"
    }
   },
   "outputs": [],
   "source": [
    "logreg_accuracy_test = tuned_model_predict(logreg)[0]\n",
    "rf_accuracy_test = tuned_model_predict(rf)[0]\n",
    "logreg_critical_errors_test = tuned_model_predict(logreg)[1]\n",
    "rf_critical_errors_test = tuned_model_predict(rf)[1]"
   ]
  },
  {
   "cell_type": "code",
   "execution_count": 26,
   "id": "7960b8dc",
   "metadata": {
    "ExecuteTime": {
     "end_time": "2022-01-28T15:25:56.749806Z",
     "start_time": "2022-01-28T15:25:56.736797Z"
    }
   },
   "outputs": [],
   "source": [
    "test_accuracies = [\n",
    "    logreg_accuracy_test,\n",
    "    rf_accuracy_test,\n",
    "    tuned_xgb_accuracy_test, \n",
    "    customized_xgb_accuracy_test, \n",
    "    tuned_lgb_accuracy_test, \n",
    "    customized_lgb_accuracy_test\n",
    "]\n",
    "\n",
    "test_critical_errors = [\n",
    "    logreg_critical_errors_test,\n",
    "    rf_critical_errors_test,\n",
    "    tuned_xgb_critical_errors_test,\n",
    "    customized_xgb_critical_errors_test,\n",
    "    tuned_lgb_critical_errors_test,\n",
    "    customized_lgb_critical_errors_test\n",
    "]\n",
    "\n",
    "models = ['LogisticRegression', 'Random Forest', 'Tuned XGBoost', 'Customized XGboost', 'Tuned LightGBM', 'Customized LightGBM']"
   ]
  },
  {
   "cell_type": "code",
   "execution_count": 27,
   "id": "d87ca156",
   "metadata": {
    "ExecuteTime": {
     "end_time": "2022-01-28T15:25:56.861824Z",
     "start_time": "2022-01-28T15:25:56.753803Z"
    },
    "scrolled": true
   },
   "outputs": [
    {
     "data": {
      "image/png": "[encoded data removed]",
      "text/plain": [
       "<Figure size 576x432 with 1 Axes>"
      ]
     },
     "metadata": {},
     "output_type": "display_data"
    }
   ],
   "source": [
    "plt.figure(figsize=(8, 6))\n",
    "\n",
    "plt.bar(models, test_accuracies)\n",
    "plt.title('Accuracies of predictions')\n",
    "plt.ylim(50)\n",
    "plt.xticks(rotation=30)\n",
    "plt.show()"
   ]
  },
  {
   "cell_type": "code",
   "execution_count": 28,
   "id": "68c08620",
   "metadata": {
    "ExecuteTime": {
     "end_time": "2022-01-28T15:25:56.970872Z",
     "start_time": "2022-01-28T15:25:56.866826Z"
    }
   },
   "outputs": [
    {
     "data": {
      "image/png": "[encoded data removed]",
      "text/plain": [
       "<Figure size 576x432 with 1 Axes>"
      ]
     },
     "metadata": {},
     "output_type": "display_data"
    }
   ],
   "source": [
    "plt.figure(figsize=(8, 6))\n",
    "\n",
    "plt.bar(models, test_critical_errors)\n",
    "plt.title('Critical errors of predictions')\n",
    "plt.ylim(10)\n",
    "plt.xticks(rotation=30)\n",
    "plt.show()"
   ]
  },
  {
   "cell_type": "markdown",
   "id": "dcc09b4d",
   "metadata": {},
   "source": [
    "As can be seen, customized XGBoost produced the best results. I will analyze its predictions next."
   ]
  },
  {
   "cell_type": "code",
   "execution_count": 29,
   "id": "f5ee7272",
   "metadata": {
    "ExecuteTime": {
     "end_time": "2022-01-28T15:25:57.113904Z",
     "start_time": "2022-01-28T15:25:56.972891Z"
    },
    "scrolled": true
   },
   "outputs": [
    {
     "name": "stdout",
     "output_type": "stream",
     "text": [
      "[['away_win' '83']\n",
      " ['draw' '29']\n",
      " ['home_win' '102']]\n"
     ]
    }
   ],
   "source": [
    "xgb_preds = customized_model_predict(xgb_clf_final)[2]\n",
    "unique, counts = np.unique(xgb_preds, return_counts=True)\n",
    "print(np.asarray((unique, counts)).T)"
   ]
  },
  {
   "cell_type": "code",
   "execution_count": 30,
   "id": "5d358127",
   "metadata": {
    "ExecuteTime": {
     "end_time": "2022-01-28T15:25:57.257936Z",
     "start_time": "2022-01-28T15:25:57.115906Z"
    },
    "scrolled": true
   },
   "outputs": [
    {
     "data": {
      "image/png": "[encoded data removed]",
      "text/plain": [
       "<Figure size 432x288 with 2 Axes>"
      ]
     },
     "metadata": {},
     "output_type": "display_data"
    }
   ],
   "source": [
    "cm = confusion_matrix(y_test, xgb_preds, labels=['away_win', 'draw', 'home_win'])\n",
    "disp = ConfusionMatrixDisplay(confusion_matrix=cm, display_labels=['away_win', 'draw', 'home_win']).plot(cmap='YlOrRd')\n",
    "plt.grid(False)\n",
    "plt.show()"
   ]
  },
  {
   "cell_type": "code",
   "execution_count": 31,
   "id": "9232a634",
   "metadata": {
    "ExecuteTime": {
     "end_time": "2022-01-28T15:25:57.273942Z",
     "start_time": "2022-01-28T15:25:57.259937Z"
    },
    "scrolled": false
   },
   "outputs": [
    {
     "name": "stdout",
     "output_type": "stream",
     "text": [
      "              precision    recall  f1-score   support\n",
      "\n",
      "    away_win       0.58      0.69      0.63        70\n",
      "        draw       0.41      0.21      0.28        57\n",
      "    home_win       0.59      0.69      0.63        87\n",
      "\n",
      "    accuracy                           0.56       214\n",
      "   macro avg       0.53      0.53      0.51       214\n",
      "weighted avg       0.54      0.56      0.54       214\n",
      "\n"
     ]
    }
   ],
   "source": [
    "print(classification_report(y_test, xgb_preds, labels=['away_win', 'draw', 'home_win']))"
   ]
  },
  {
   "cell_type": "markdown",
   "id": "22be1860",
   "metadata": {},
   "source": [
    "The number of cases predicted as draws increased, and the number of critical errors decreased a bit."
   ]
  },
  {
   "cell_type": "markdown",
   "id": "27a51a64",
   "metadata": {},
   "source": [
    "Let's examine importance of different features."
   ]
  },
  {
   "cell_type": "code",
   "execution_count": 32,
   "id": "e0806426",
   "metadata": {
    "ExecuteTime": {
     "end_time": "2022-01-28T15:25:57.431977Z",
     "start_time": "2022-01-28T15:25:57.274942Z"
    },
    "scrolled": false
   },
   "outputs": [
    {
     "data": {
      "text/plain": [
       "<AxesSubplot:title={'center':'Feature importance'}, xlabel='F score', ylabel='Features'>"
      ]
     },
     "execution_count": 32,
     "metadata": {},
     "output_type": "execute_result"
    },
    {
     "data": {
      "image/png": "[encoded data removed]",
      "text/plain": [
       "<Figure size 432x288 with 1 Axes>"
      ]
     },
     "metadata": {},
     "output_type": "display_data"
    }
   ],
   "source": [
    "xgb.plot_importance(xgb_clf_final, importance_type='gain', max_num_features=15, grid=False)"
   ]
  },
  {
   "cell_type": "markdown",
   "id": "a5491c9e",
   "metadata": {},
   "source": [
    "The most important features are those related to difference between teams' and players' attributes. This is not surprising as they related to the outcome of the match directly. Overall difference in means of players' and teams' skills seem the most important, followed by the difference in teams' defense and midfield attributes."
   ]
  },
  {
   "cell_type": "markdown",
   "id": "f71a29dd",
   "metadata": {},
   "source": [
    "I will now create dataframe that wil combine predictions, probabilities of different outcomes, and actual results."
   ]
  },
  {
   "cell_type": "code",
   "execution_count": 33,
   "id": "27679f1e",
   "metadata": {
    "ExecuteTime": {
     "end_time": "2022-01-28T15:25:57.542000Z",
     "start_time": "2022-01-28T15:25:57.433978Z"
    }
   },
   "outputs": [],
   "source": [
    "xgb_probs = customized_model_predict(xgb_clf_final)[3]\n",
    "\n",
    "probs_home_win = []\n",
    "probs_draw = []\n",
    "probs_away_win = []\n",
    "\n",
    "for row in xgb_probs:\n",
    "    prob_away_win = row[0] * 100\n",
    "    prob_draw = row[1] * 100\n",
    "    prob_home_win = row[2] * 100\n",
    "    probs_away_win.append(prob_away_win)\n",
    "    probs_draw.append(prob_draw)\n",
    "    probs_home_win.append(prob_home_win)"
   ]
  },
  {
   "cell_type": "code",
   "execution_count": 34,
   "id": "02417b7b",
   "metadata": {
    "ExecuteTime": {
     "end_time": "2022-01-28T15:25:57.558004Z",
     "start_time": "2022-01-28T15:25:57.543001Z"
    }
   },
   "outputs": [],
   "source": [
    "predicted_results = pd.DataFrame({\n",
    "    'prediction': xgb_preds, \n",
    "    'home_win_probability': np.round(probs_home_win, 2), \n",
    "    'draw_probability': np.round(probs_draw, 2), \n",
    "    'away_win_probability': np.round(probs_away_win, 2),\n",
    "    'actual_result': y_test\n",
    "})"
   ]
  },
  {
   "cell_type": "code",
   "execution_count": 35,
   "id": "c24bf97f",
   "metadata": {
    "ExecuteTime": {
     "end_time": "2022-01-28T15:26:00.764497Z",
     "start_time": "2022-01-28T15:25:57.559004Z"
    }
   },
   "outputs": [],
   "source": [
    "matches = pd.read_csv(\n",
    "    'https://raw.githubusercontent.com/osydorchuk89/predicting_football_results/main/raw_data/matches.csv'\n",
    ")\n",
    "matches.drop_duplicates(inplace=True)\n",
    "matches_2021 = matches[matches.year==2021]"
   ]
  },
  {
   "cell_type": "code",
   "execution_count": 36,
   "id": "93513ffb",
   "metadata": {
    "ExecuteTime": {
     "end_time": "2022-01-28T15:26:00.780158Z",
     "start_time": "2022-01-28T15:26:00.766509Z"
    }
   },
   "outputs": [],
   "source": [
    "predicted_results.insert(0, 'home_team', matches_2021.home.values)\n",
    "predicted_results.insert(1, 'away_team', matches_2021.away.values)"
   ]
  },
  {
   "cell_type": "code",
   "execution_count": 37,
   "id": "7de55c75",
   "metadata": {
    "ExecuteTime": {
     "end_time": "2022-01-28T15:26:00.796166Z",
     "start_time": "2022-01-28T15:26:00.782175Z"
    },
    "scrolled": true
   },
   "outputs": [
    {
     "data": {
      "text/html": [
       "<div>\n",
       "<style scoped>\n",
       "    .dataframe tbody tr th:only-of-type {\n",
       "        vertical-align: middle;\n",
       "    }\n",
       "\n",
       "    .dataframe tbody tr th {\n",
       "        vertical-align: top;\n",
       "    }\n",
       "\n",
       "    .dataframe thead th {\n",
       "        text-align: right;\n",
       "    }\n",
       "</style>\n",
       "<table border=\"1\" class=\"dataframe\">\n",
       "  <thead>\n",
       "    <tr style=\"text-align: right;\">\n",
       "      <th></th>\n",
       "      <th>home_team</th>\n",
       "      <th>away_team</th>\n",
       "      <th>prediction</th>\n",
       "      <th>home_win_probability</th>\n",
       "      <th>draw_probability</th>\n",
       "      <th>away_win_probability</th>\n",
       "      <th>actual_result</th>\n",
       "    </tr>\n",
       "  </thead>\n",
       "  <tbody>\n",
       "    <tr>\n",
       "      <th>3800</th>\n",
       "      <td>Brentford</td>\n",
       "      <td>Arsenal</td>\n",
       "      <td>away_win</td>\n",
       "      <td>32.53</td>\n",
       "      <td>29.56</td>\n",
       "      <td>37.91</td>\n",
       "      <td>home_win</td>\n",
       "    </tr>\n",
       "    <tr>\n",
       "      <th>3801</th>\n",
       "      <td>Manchester United</td>\n",
       "      <td>Leeds United</td>\n",
       "      <td>home_win</td>\n",
       "      <td>50.08</td>\n",
       "      <td>25.48</td>\n",
       "      <td>24.44</td>\n",
       "      <td>home_win</td>\n",
       "    </tr>\n",
       "    <tr>\n",
       "      <th>3802</th>\n",
       "      <td>Burnley</td>\n",
       "      <td>Brighton &amp; Hove Albion</td>\n",
       "      <td>home_win</td>\n",
       "      <td>41.99</td>\n",
       "      <td>28.15</td>\n",
       "      <td>29.86</td>\n",
       "      <td>away_win</td>\n",
       "    </tr>\n",
       "    <tr>\n",
       "      <th>3803</th>\n",
       "      <td>Chelsea</td>\n",
       "      <td>Crystal Palace</td>\n",
       "      <td>home_win</td>\n",
       "      <td>53.69</td>\n",
       "      <td>23.89</td>\n",
       "      <td>22.42</td>\n",
       "      <td>home_win</td>\n",
       "    </tr>\n",
       "    <tr>\n",
       "      <th>3804</th>\n",
       "      <td>Everton</td>\n",
       "      <td>Southampton</td>\n",
       "      <td>home_win</td>\n",
       "      <td>45.92</td>\n",
       "      <td>29.47</td>\n",
       "      <td>24.61</td>\n",
       "      <td>home_win</td>\n",
       "    </tr>\n",
       "  </tbody>\n",
       "</table>\n",
       "</div>"
      ],
      "text/plain": [
       "              home_team               away_team prediction  \\\n",
       "3800          Brentford                 Arsenal   away_win   \n",
       "3801  Manchester United            Leeds United   home_win   \n",
       "3802            Burnley  Brighton & Hove Albion   home_win   \n",
       "3803            Chelsea          Crystal Palace   home_win   \n",
       "3804            Everton             Southampton   home_win   \n",
       "\n",
       "      home_win_probability  draw_probability  away_win_probability  \\\n",
       "3800                 32.53             29.56                 37.91   \n",
       "3801                 50.08             25.48                 24.44   \n",
       "3802                 41.99             28.15                 29.86   \n",
       "3803                 53.69             23.89                 22.42   \n",
       "3804                 45.92             29.47                 24.61   \n",
       "\n",
       "     actual_result  \n",
       "3800      home_win  \n",
       "3801      home_win  \n",
       "3802      away_win  \n",
       "3803      home_win  \n",
       "3804      home_win  "
      ]
     },
     "execution_count": 37,
     "metadata": {},
     "output_type": "execute_result"
    }
   ],
   "source": [
    "predicted_results.head()"
   ]
  },
  {
   "cell_type": "markdown",
   "id": "0b58d3da",
   "metadata": {},
   "source": [
    "The dataframe above includes information about matches in season 2021/2022 that has already happened. Next, I will add information about future matches. In this case, however, we don't know the actual results as these matches haven't happened yet."
   ]
  },
  {
   "cell_type": "code",
   "execution_count": 38,
   "id": "27440381",
   "metadata": {
    "ExecuteTime": {
     "end_time": "2022-01-28T15:26:01.094706Z",
     "start_time": "2022-01-28T15:26:00.798167Z"
    }
   },
   "outputs": [],
   "source": [
    "future_matches_names = pd.read_csv(\n",
    "    'https://raw.githubusercontent.com/osydorchuk89/predicting_football_results/main/data/future_matches_2021.csv'\n",
    ")"
   ]
  },
  {
   "cell_type": "markdown",
   "id": "3a775532",
   "metadata": {},
   "source": [
    "I will predict outcomes of future matches using only team-related attributes since we don't know the starting lineups of teams for future matches."
   ]
  },
  {
   "cell_type": "code",
   "execution_count": 39,
   "id": "8543d126",
   "metadata": {
    "ExecuteTime": {
     "end_time": "2022-01-28T15:26:01.525784Z",
     "start_time": "2022-01-28T15:26:01.097194Z"
    }
   },
   "outputs": [],
   "source": [
    "team_attributes = [col for col in train.columns if 'team' in col]\n",
    "\n",
    "X_train_only_teams = train[team_attributes]\n",
    "\n",
    "test_future = pd.read_csv(\n",
    "    'https://raw.githubusercontent.com/osydorchuk89/predicting_football_results/main/data/future_matches_numerical.csv'\n",
    ")"
   ]
  },
  {
   "cell_type": "markdown",
   "id": "5082dcf4",
   "metadata": {},
   "source": [
    "To predict the outcomes of future matches, I will use the same customized XGBoost model."
   ]
  },
  {
   "cell_type": "code",
   "execution_count": 40,
   "id": "a322ec21",
   "metadata": {
    "ExecuteTime": {
     "end_time": "2022-01-28T15:26:01.588053Z",
     "start_time": "2022-01-28T15:26:01.527791Z"
    }
   },
   "outputs": [],
   "source": [
    "xgb_clf_final.fit(X_train_only_teams, y_train)\n",
    "future_probs = xgb_clf_final.predict_proba(test_future)\n",
    "\n",
    "upd_future_preds = []\n",
    "\n",
    "for row in future_probs:\n",
    "    if (row[0] > row[1]) & (row[0] > row[2]):\n",
    "        upd_future_preds.append('away_win')\n",
    "    elif (row[2] > row[1]) & (row[2] > row[0]) & ((row[2] - row[0]) > 0.05):\n",
    "        upd_future_preds.append('home_win')\n",
    "    else:\n",
    "        upd_future_preds.append('draw')"
   ]
  },
  {
   "cell_type": "code",
   "execution_count": 41,
   "id": "600b07f6",
   "metadata": {
    "ExecuteTime": {
     "end_time": "2022-01-28T15:26:01.604057Z",
     "start_time": "2022-01-28T15:26:01.589054Z"
    }
   },
   "outputs": [],
   "source": [
    "future_probs_home_win = []\n",
    "future_probs_draw = []\n",
    "future_probs_away_win = []\n",
    "\n",
    "for row in future_probs:\n",
    "    future_prob_away_win = row[0] * 100\n",
    "    future_prob_draw = row[1] * 100\n",
    "    future_prob_home_win = row[2] * 100\n",
    "    future_probs_away_win.append(future_prob_away_win)\n",
    "    future_probs_draw.append(future_prob_draw)\n",
    "    future_probs_home_win.append(future_prob_home_win)"
   ]
  },
  {
   "cell_type": "code",
   "execution_count": 42,
   "id": "5b3cee1c",
   "metadata": {
    "ExecuteTime": {
     "end_time": "2022-01-28T15:26:01.619060Z",
     "start_time": "2022-01-28T15:26:01.605057Z"
    }
   },
   "outputs": [],
   "source": [
    "future_results = pd.DataFrame({\n",
    "    'prediction': upd_future_preds, \n",
    "    'home_win_probability': np.round(future_probs_home_win, 2), \n",
    "    'draw_probability': np.round(future_probs_draw, 2), \n",
    "    'away_win_probability': np.round(future_probs_away_win, 2)\n",
    "})"
   ]
  },
  {
   "cell_type": "code",
   "execution_count": 43,
   "id": "127f2362",
   "metadata": {
    "ExecuteTime": {
     "end_time": "2022-01-28T15:26:01.634063Z",
     "start_time": "2022-01-28T15:26:01.620061Z"
    }
   },
   "outputs": [],
   "source": [
    "future_results.insert(0, 'home_team', future_matches_names.home.values)\n",
    "future_results.insert(1, 'away_team', future_matches_names.away.values)"
   ]
  },
  {
   "cell_type": "code",
   "execution_count": 44,
   "id": "16beb230",
   "metadata": {
    "ExecuteTime": {
     "end_time": "2022-01-28T15:26:01.650067Z",
     "start_time": "2022-01-28T15:26:01.635064Z"
    }
   },
   "outputs": [],
   "source": [
    "# combining matches that has already happened with future matches into one dataframe\n",
    "combined_predictions = pd.concat([predicted_results, future_results], ignore_index=True)\n",
    "combined_predictions.fillna('Unknown yet', inplace=True)\n",
    "combined_predictions.replace({'away_win': 'Away team win', 'draw': 'Draw', 'home_win': 'Home team win'}, inplace=True)"
   ]
  },
  {
   "cell_type": "code",
   "execution_count": 45,
   "id": "bd151f25",
   "metadata": {
    "ExecuteTime": {
     "end_time": "2022-01-28T15:26:01.666071Z",
     "start_time": "2022-01-28T15:26:01.651067Z"
    }
   },
   "outputs": [
    {
     "data": {
      "text/html": [
       "<div>\n",
       "<style scoped>\n",
       "    .dataframe tbody tr th:only-of-type {\n",
       "        vertical-align: middle;\n",
       "    }\n",
       "\n",
       "    .dataframe tbody tr th {\n",
       "        vertical-align: top;\n",
       "    }\n",
       "\n",
       "    .dataframe thead th {\n",
       "        text-align: right;\n",
       "    }\n",
       "</style>\n",
       "<table border=\"1\" class=\"dataframe\">\n",
       "  <thead>\n",
       "    <tr style=\"text-align: right;\">\n",
       "      <th></th>\n",
       "      <th>home_team</th>\n",
       "      <th>away_team</th>\n",
       "      <th>prediction</th>\n",
       "      <th>home_win_probability</th>\n",
       "      <th>draw_probability</th>\n",
       "      <th>away_win_probability</th>\n",
       "      <th>actual_result</th>\n",
       "    </tr>\n",
       "  </thead>\n",
       "  <tbody>\n",
       "    <tr>\n",
       "      <th>375</th>\n",
       "      <td>Crystal Palace</td>\n",
       "      <td>Manchester United</td>\n",
       "      <td>Away team win</td>\n",
       "      <td>25.39</td>\n",
       "      <td>25.42</td>\n",
       "      <td>49.19</td>\n",
       "      <td>Unknown yet</td>\n",
       "    </tr>\n",
       "    <tr>\n",
       "      <th>376</th>\n",
       "      <td>Leicester City</td>\n",
       "      <td>Southampton</td>\n",
       "      <td>Home team win</td>\n",
       "      <td>45.32</td>\n",
       "      <td>30.71</td>\n",
       "      <td>23.97</td>\n",
       "      <td>Unknown yet</td>\n",
       "    </tr>\n",
       "    <tr>\n",
       "      <th>377</th>\n",
       "      <td>Liverpool</td>\n",
       "      <td>Wolverhampton Wanderers</td>\n",
       "      <td>Home team win</td>\n",
       "      <td>49.68</td>\n",
       "      <td>24.50</td>\n",
       "      <td>25.81</td>\n",
       "      <td>Unknown yet</td>\n",
       "    </tr>\n",
       "    <tr>\n",
       "      <th>378</th>\n",
       "      <td>Manchester City</td>\n",
       "      <td>Aston Villa</td>\n",
       "      <td>Home team win</td>\n",
       "      <td>52.78</td>\n",
       "      <td>24.11</td>\n",
       "      <td>23.11</td>\n",
       "      <td>Unknown yet</td>\n",
       "    </tr>\n",
       "    <tr>\n",
       "      <th>379</th>\n",
       "      <td>Norwich City</td>\n",
       "      <td>Tottenham Hotspur</td>\n",
       "      <td>Away team win</td>\n",
       "      <td>26.37</td>\n",
       "      <td>28.23</td>\n",
       "      <td>45.40</td>\n",
       "      <td>Unknown yet</td>\n",
       "    </tr>\n",
       "  </tbody>\n",
       "</table>\n",
       "</div>"
      ],
      "text/plain": [
       "           home_team                away_team     prediction  \\\n",
       "375   Crystal Palace        Manchester United  Away team win   \n",
       "376   Leicester City              Southampton  Home team win   \n",
       "377        Liverpool  Wolverhampton Wanderers  Home team win   \n",
       "378  Manchester City              Aston Villa  Home team win   \n",
       "379     Norwich City        Tottenham Hotspur  Away team win   \n",
       "\n",
       "     home_win_probability  draw_probability  away_win_probability  \\\n",
       "375                 25.39             25.42                 49.19   \n",
       "376                 45.32             30.71                 23.97   \n",
       "377                 49.68             24.50                 25.81   \n",
       "378                 52.78             24.11                 23.11   \n",
       "379                 26.37             28.23                 45.40   \n",
       "\n",
       "    actual_result  \n",
       "375   Unknown yet  \n",
       "376   Unknown yet  \n",
       "377   Unknown yet  \n",
       "378   Unknown yet  \n",
       "379   Unknown yet  "
      ]
     },
     "execution_count": 45,
     "metadata": {},
     "output_type": "execute_result"
    }
   ],
   "source": [
    "combined_predictions.tail()"
   ]
  },
  {
   "cell_type": "code",
   "execution_count": 46,
   "id": "67111029",
   "metadata": {
    "ExecuteTime": {
     "end_time": "2022-01-28T15:26:01.682082Z",
     "start_time": "2022-01-28T15:26:01.667071Z"
    }
   },
   "outputs": [],
   "source": [
    "combined_predictions.to_csv('combined_predictions.csv', index=False)"
   ]
  },
  {
   "cell_type": "markdown",
   "id": "9e343fed",
   "metadata": {},
   "source": [
    "Overall, the accuracy of the predictions remains not very high, even after tuning model hyperparameters and manually tweaking the prediction thresholds. Most likely, this is due to two main factors. First, there is usually quite a lot of randomness in how a given football match unfolds and observable features can explain actual outcomes only up to a certain point. Second, the model performabnce can improve if we add more features and more complex features, such as expected goals (xG) of teams and players, conditions of players, attributes of substitute players (those who join the match after it has already started by substituting another player), more robust and up-to-date rankings of football managers etc. Adding these features has the potential to improve the performance of the model and accuracy of its predictions."
   ]
  }
 ],
 "metadata": {
  "kernelspec": {
   "display_name": "Python 3 (ipykernel)",
   "language": "python",
   "name": "python3"
  },
  "language_info": {
   "codemirror_mode": {
    "name": "ipython",
    "version": 3
   },
   "file_extension": ".py",
   "mimetype": "text/x-python",
   "name": "python",
   "nbconvert_exporter": "python",
   "pygments_lexer": "ipython3",
   "version": "3.9.7"
  },
  "varInspector": {
   "cols": {
    "lenName": 16,
    "lenType": 16,
    "lenVar": 40
   },
   "kernels_config": {
    "python": {
     "delete_cmd_postfix": "",
     "delete_cmd_prefix": "del ",
     "library": "var_list.py",
     "varRefreshCmd": "print(var_dic_list())"
    },
    "r": {
     "delete_cmd_postfix": ") ",
     "delete_cmd_prefix": "rm(",
     "library": "var_list.r",
     "varRefreshCmd": "cat(var_dic_list()) "
    }
   },
   "types_to_exclude": [
    "module",
    "function",
    "builtin_function_or_method",
    "instance",
    "_Feature"
   ],
   "window_display": false
  }
 },
 "nbformat": 4,
 "nbformat_minor": 5
}
