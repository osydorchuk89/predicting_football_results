{
 "cells": [
  {
   "cell_type": "markdown",
   "metadata": {
    "id": "-qb9EWw-NwT1"
   },
   "source": [
    "# Predicting football matches results (data collection and analysis)"
   ]
  },
  {
   "cell_type": "markdown",
   "metadata": {
    "id": "JJxkURtLyk7K"
   },
   "source": [
    "In this project, I will build a model that will try to predict outcomes of football matches, i.e. home team win, away team win, or draw. I will use the data about 20 seasons of English Premier League: from 2001/2002 to 2020/2021. My source data will include datasets from Kaggle, as well as data scrapped from other resources."
   ]
  },
  {
   "cell_type": "code",
   "execution_count": 1,
   "metadata": {
    "id": "VSqT6a2UcxQd"
   },
   "outputs": [],
   "source": [
    "# importing libraries for data analysis, manipulation, and vizualization\n",
    "import numpy as np\n",
    "import pandas as pd\n",
    "import matplotlib.pyplot as plt\n",
    "import requests\n",
    "from bs4 import BeautifulSoup\n",
    "import re\n",
    "from tqdm.notebook import tqdm\n",
    "from datetime import datetime"
   ]
  },
  {
   "cell_type": "markdown",
   "metadata": {
    "id": "gfxj7RVvI39B"
   },
   "source": [
    "I will start by creating several dataframes that I will use to generate features. These will include:\n",
    "\n",
    "\n",
    "1. *Matches* dataframe with information about results of all matches starting from season 2001/2002 and starting lineups of home and away teams. The data is taken from [here](https://www.kaggle.com/josephvm/english-premier-league-game-events-and-results).\n",
    "2. *Final tables* dataframe with information about the final results of each season starting from 2001/2002, including final ranking of teams, numbers of games won, lost, and drawn, and goal difference. The data is taken from [here](https://www.kaggle.com/josephvm/english-premier-league-game-events-and-results).\n",
    "3. *Players* dataframes with information about key attributes of players of Premier League teams, including related to their attacking, midfield, and defense skills. The attribute ratings are created by FIFA videogames developer and are taken from [here](https://www.kaggle.com/justdhia/fifa-players) and [here](https://www.kaggle.com/cashncarry/fifa-22-complete-player-dataset)\n",
    "\n",
    "4. *Teams* dataframe with information about ratings of Premier League clubs, also created by FIFA videogames developer. The data is taken from [here](https://www.fifaindex.com/).\n",
    "\n",
    "5. *Managers* dataframes with information about managers of Premier League clubs and their ratings. The data about managers was scraped from [here](https://en.wikipedia.org/wiki/List_of_Premier_League_managers). The ratings of managers are created by Football World Ranking website owners and were scaped from [here](https://www.clubworldranking.com/ranking-coaches). "
   ]
  },
  {
   "cell_type": "markdown",
   "metadata": {
    "id": "89KKegrE8pSI"
   },
   "source": [
    "I'll start by importing necessary datasets. Some of them are available from the sources indicated bove, while others were scraped first."
   ]
  },
  {
   "cell_type": "code",
   "execution_count": 2,
   "metadata": {
    "id": "QwqE_A2tqHJ_"
   },
   "outputs": [],
   "source": [
    "# reading data about matches results, starting from 2001/2002 season\n",
    "cols = {col: 'object' for col in [136, 141, 143, 145, 146, 148, 149, 151, 152, 154]} \n",
    "matches = pd.read_csv('https://raw.githubusercontent.com/osydorchuk89/predicting_football_results/main/data/matches.csv', \n",
    "                      dtype=cols)\n",
    "matches.replace({'AFC Bournemouth': 'Bournemouth'}, inplace=True) # correcting the club name\n",
    "\n",
    "# reading data about the season results, starting from 2001/2002 season\n",
    "final_tables = pd.read_csv('https://raw.githubusercontent.com/osydorchuk89/predicting_football_results/main/data/all_tables.csv')\n",
    "\n",
    "# reading data about player stats, starting from 2011/2012 season\n",
    "players_2011 = pd.read_csv('https://raw.githubusercontent.com/osydorchuk89/predicting_football_results/main/data/players_2011.csv')\n",
    "players_2012 = pd.read_csv('https://raw.githubusercontent.com/osydorchuk89/predicting_football_results/main/data/players_2012.csv')\n",
    "players_2013 = pd.read_csv('https://raw.githubusercontent.com/osydorchuk89/predicting_football_results/main/data/players_2013.csv')\n",
    "players_2014 = pd.read_csv('https://raw.githubusercontent.com/osydorchuk89/predicting_football_results/main/data/players_2014.csv')\n",
    "players_2015 = pd.read_csv('https://raw.githubusercontent.com/osydorchuk89/predicting_football_results/main/data/players_2015.csv')\n",
    "players_2016 = pd.read_csv('https://raw.githubusercontent.com/osydorchuk89/predicting_football_results/main/data/players_2016.csv')\n",
    "players_2017 = pd.read_csv('https://raw.githubusercontent.com/osydorchuk89/predicting_football_results/main/data/players_2017.csv')\n",
    "players_2018 = pd.read_csv('https://raw.githubusercontent.com/osydorchuk89/predicting_football_results/main/data/players_2018.csv')\n",
    "players_2019 = pd.read_csv('https://raw.githubusercontent.com/osydorchuk89/predicting_football_results/main/data/players_2019.csv')\n",
    "players_2019.drop(index=8308, inplace=True) # remove unneccesary player with duplicate name\n",
    "players_2019.replace({'AFC Bournemouth': 'Bournemouth'}, inplace=True) # correcting the name of the club\n",
    "players_2020 = pd.read_csv('https://raw.githubusercontent.com/osydorchuk89/predicting_football_results/main/data/players_2020.csv')\n",
    "\n",
    "# since I import the dataset with players attributes for 2021/2022 season from another source, I need to rename its columns\n",
    "rename_attributes_2021 = {\n",
    "    'Overall': 'Overal',\n",
    "    'Positioning': 'AttPosition', \n",
    "    'HeadingAccuracy': 'Heading',\n",
    "    'FKAccuracy': 'FKAcc',\n",
    "    'SlidingTackle': 'SlideTackle',\n",
    "    'StandingTackle': 'StandTackle',\n",
    "    'ShortPassing': 'ShortPass',\n",
    "    'LongPassing': 'LongPass'\n",
    "}\n",
    "players_2021 = pd.read_csv('https://raw.githubusercontent.com/osydorchuk89/predicting_football_results/main/data/players_2021.csv')\n",
    "players_2021.rename(columns=rename_attributes_2021, inplace=True)\n",
    "\n",
    "# reading data about teams stats\n",
    "teams = pd.read_excel('https://raw.githubusercontent.com/osydorchuk89/predicting_football_results/main/data/teams.xlsx')\n",
    "teams.replace({'AFC Bournemouth': 'Bournemouth'}, inplace=True)"
   ]
  },
  {
   "cell_type": "code",
   "execution_count": 3,
   "metadata": {},
   "outputs": [],
   "source": [
    "# dropping 10 duplicate rows\n",
    "matches.drop_duplicates(inplace=True)"
   ]
  },
  {
   "cell_type": "code",
   "execution_count": 5,
   "metadata": {},
   "outputs": [],
   "source": [
    "# scraping data about football managers from Wikipedia\n",
    "url = 'https://en.wikipedia.org/wiki/List_of_Premier_League_managers'\n",
    "html_doc = requests.get(url).text\n",
    "\n",
    "soup = BeautifulSoup(html_doc, 'html.parser')"
   ]
  },
  {
   "cell_type": "code",
   "execution_count": 6,
   "metadata": {},
   "outputs": [],
   "source": [
    "# creating managers dataframe\n",
    "managers_table = soup.find_all('table', class_='wikitable sortable plainrowheaders')[0]\n",
    "managers_list = pd.read_html(str(managers_table))\n",
    "managers = pd.DataFrame(managers_list[0])"
   ]
  },
  {
   "cell_type": "markdown",
   "metadata": {},
   "source": [
    "I will scrape data about rankings of football managers from https://www.clubworldranking.com/. Code is taken and modified from [here](https://github.com/gonzaferreiro/Market_value_football_players/blob/master/Team_and_national_teams_ranking_scraps-Final.ipynb)."
   ]
  },
  {
   "cell_type": "code",
   "execution_count": 7,
   "metadata": {},
   "outputs": [],
   "source": [
    "# function for extracting managers names\n",
    "def extract_managers(soup):\n",
    "    managers = []\n",
    "    for each in soup.find_all('div', attrs={'class':'col-name'})[1:]:\n",
    "        try:\n",
    "            managers.append(each.text.strip())\n",
    "        except:\n",
    "            managers.append(np.nan)\n",
    "    return managers"
   ]
  },
  {
   "cell_type": "code",
   "execution_count": 8,
   "metadata": {},
   "outputs": [],
   "source": [
    "# function for extracting managers rankings\n",
    "def extract_rankings(soup):\n",
    "    rankings = []\n",
    "    for each in soup.find_all('div', attrs={'class':'points RankingRight'}):\n",
    "        try:\n",
    "            rankings.append(int(each.text.strip()))\n",
    "        except:\n",
    "            rankings.append(np.nan)\n",
    "    return rankings"
   ]
  },
  {
   "cell_type": "code",
   "execution_count": 9,
   "metadata": {},
   "outputs": [],
   "source": [
    "# function to create dataframes with managers rankings\n",
    "def create_managers_df(week, year):\n",
    "    results = {'Manager':[], 'Ranking':[]} \n",
    "    \n",
    "    for start in tqdm(range(0, 1000, 25)):\n",
    "        url = f'https://www.clubworldranking.com/ranking-coaches?wd={week}&yr={year}&index={start}'\n",
    "        r = requests.get(url)\n",
    "        soup = BeautifulSoup(r.text,'html.parser')\n",
    "        results['Manager'] += extract_managers(soup)\n",
    "        results['Ranking'] += extract_rankings(soup)\n",
    "\n",
    "    return pd.DataFrame(results)"
   ]
  },
  {
   "cell_type": "code",
   "execution_count": 10,
   "metadata": {},
   "outputs": [
    {
     "data": {
      "application/vnd.jupyter.widget-view+json": {
       "model_id": "ae0bacf1a1674a9381f74b6f353f2c87",
       "version_major": 2,
       "version_minor": 0
      },
      "text/plain": [
       "  0%|          | 0/40 [00:00<?, ?it/s]"
      ]
     },
     "metadata": {},
     "output_type": "display_data"
    },
    {
     "data": {
      "application/vnd.jupyter.widget-view+json": {
       "model_id": "394f658e60d24377821b99230e2ac590",
       "version_major": 2,
       "version_minor": 0
      },
      "text/plain": [
       "  0%|          | 0/40 [00:00<?, ?it/s]"
      ]
     },
     "metadata": {},
     "output_type": "display_data"
    },
    {
     "data": {
      "application/vnd.jupyter.widget-view+json": {
       "model_id": "de46bd0706f04d0c97a2803c75f03769",
       "version_major": 2,
       "version_minor": 0
      },
      "text/plain": [
       "  0%|          | 0/40 [00:00<?, ?it/s]"
      ]
     },
     "metadata": {},
     "output_type": "display_data"
    },
    {
     "data": {
      "application/vnd.jupyter.widget-view+json": {
       "model_id": "03ea11ee34ef4de2894c561b7f448b76",
       "version_major": 2,
       "version_minor": 0
      },
      "text/plain": [
       "  0%|          | 0/40 [00:00<?, ?it/s]"
      ]
     },
     "metadata": {},
     "output_type": "display_data"
    },
    {
     "data": {
      "application/vnd.jupyter.widget-view+json": {
       "model_id": "05fdcc34b3d541d5958d8a4d7f99785a",
       "version_major": 2,
       "version_minor": 0
      },
      "text/plain": [
       "  0%|          | 0/40 [00:00<?, ?it/s]"
      ]
     },
     "metadata": {},
     "output_type": "display_data"
    },
    {
     "data": {
      "application/vnd.jupyter.widget-view+json": {
       "model_id": "2a28204f83ea4ffa8ec155a8c7a52d45",
       "version_major": 2,
       "version_minor": 0
      },
      "text/plain": [
       "  0%|          | 0/40 [00:00<?, ?it/s]"
      ]
     },
     "metadata": {},
     "output_type": "display_data"
    },
    {
     "data": {
      "application/vnd.jupyter.widget-view+json": {
       "model_id": "1cbde9bd33074badbb6a75332475901a",
       "version_major": 2,
       "version_minor": 0
      },
      "text/plain": [
       "  0%|          | 0/40 [00:00<?, ?it/s]"
      ]
     },
     "metadata": {},
     "output_type": "display_data"
    },
    {
     "data": {
      "application/vnd.jupyter.widget-view+json": {
       "model_id": "d93e2c6b6ee545cf8724cc3d810e89cc",
       "version_major": 2,
       "version_minor": 0
      },
      "text/plain": [
       "  0%|          | 0/40 [00:00<?, ?it/s]"
      ]
     },
     "metadata": {},
     "output_type": "display_data"
    },
    {
     "data": {
      "application/vnd.jupyter.widget-view+json": {
       "model_id": "296da5741b2e48eeb085241a0c6f3491",
       "version_major": 2,
       "version_minor": 0
      },
      "text/plain": [
       "  0%|          | 0/40 [00:00<?, ?it/s]"
      ]
     },
     "metadata": {},
     "output_type": "display_data"
    },
    {
     "data": {
      "application/vnd.jupyter.widget-view+json": {
       "model_id": "932fb1b567a54b17b2f05c3c541bbe59",
       "version_major": 2,
       "version_minor": 0
      },
      "text/plain": [
       "  0%|          | 0/40 [00:00<?, ?it/s]"
      ]
     },
     "metadata": {},
     "output_type": "display_data"
    }
   ],
   "source": [
    "managers_2011 = create_managers_df(49, 2011)\n",
    "managers_2012 = create_managers_df(20, 2012)\n",
    "managers_2013 = create_managers_df(21, 2013)\n",
    "managers_2014 = create_managers_df(20, 2014)\n",
    "managers_2015 = create_managers_df(22, 2015)\n",
    "managers_2016 = create_managers_df(21, 2016)\n",
    "managers_2017 = create_managers_df(21, 2017)\n",
    "managers_2018 = create_managers_df(20, 2018)\n",
    "managers_2019 = create_managers_df(20, 2019)\n",
    "managers_2020 = create_managers_df(14, 2020)"
   ]
  },
  {
   "cell_type": "markdown",
   "metadata": {
    "id": "27Ojv5C8NTde"
   },
   "source": [
    "After creating the necessary dataframes, I'll proceed to cleaning and fixing errors in them.\n",
    "\n",
    "I'll start with *matches* dataframe. There is an error in the column indicating years when matches took place. I'll update the year column and then create a separate column with dates of matches in datetime format."
   ]
  },
  {
   "cell_type": "code",
   "execution_count": 11,
   "metadata": {
    "id": "NM-zQsPkfreC"
   },
   "outputs": [],
   "source": [
    "# correcting the mistake in the year column in matches dataframe\n",
    "months = ['January', 'February', 'March', 'April', 'May', 'June', 'July']\n",
    "matches['season'] = matches.year\n",
    "\n",
    "def adjust_year(date, year):\n",
    "    if any(month in date for month in months):\n",
    "        return year + 1\n",
    "    else:\n",
    "        return year"
   ]
  },
  {
   "cell_type": "code",
   "execution_count": 12,
   "metadata": {
    "id": "xKuMO081O2uE"
   },
   "outputs": [],
   "source": [
    "matches.year = matches.apply(lambda x: adjust_year(x['date'], x['year']), axis=1)"
   ]
  },
  {
   "cell_type": "code",
   "execution_count": 13,
   "metadata": {
    "id": "f-Er8MhodUV2"
   },
   "outputs": [],
   "source": [
    "# combining date and year columns into single column\n",
    "matches.date = matches.date.apply(lambda x: x.split(', ')[1])\n",
    "matches.year = matches.year.astype('str')\n",
    "matches.date = matches.date + ', ' + matches.year\n",
    "\n",
    "# converting date colum in matches to datetime\n",
    "matches.date = pd.to_datetime(matches.date)"
   ]
  },
  {
   "cell_type": "markdown",
   "metadata": {
    "id": "qwJla10t_NQ-"
   },
   "source": [
    "Since I have information about player stats only starting from 2011/2012 season, I need to check whether the *matches* dataframe has data about starting lineups in all matches since 2011. After checking, there is only one match with missing values in starting lineups columns. I will impute the data manually below."
   ]
  },
  {
   "cell_type": "code",
   "execution_count": 14,
   "metadata": {
    "id": "49kP-VWgBhd2"
   },
   "outputs": [],
   "source": [
    "row_5039 = {\n",
    "    'home_starting_1': 'Joe Hart',\n",
    "    'home_starting_2': 'Pablo Zabaleta',\n",
    "    'home_starting_3': 'Vincent Kompany',\n",
    "    'home_starting_4': 'Martín Demichelis',\n",
    "    'home_starting_5': 'Gaël Clichy',\n",
    "    'home_starting_6': 'Fernando',\n",
    "    'home_starting_7': 'Yaya Touré',\n",
    "    'home_starting_8': 'James Milner',\n",
    "    'home_starting_9': 'Jesús Navas',\n",
    "    'home_starting_10': 'Stevan Jovetić',\n",
    "    'home_starting_11': 'Sergio Agüero',\n",
    "    'away_starting_1': 'De Gea',\n",
    "    'away_starting_2': 'Antonio Valencia',\n",
    "    'away_starting_3': 'Chris Smalling',\n",
    "    'away_starting_4': 'Marcos Rojo',\n",
    "    'away_starting_5': 'Luke Shaw',\n",
    "    'away_starting_6': 'Daley Blind',\n",
    "    'away_starting_7': 'Marouane Fellaini',\n",
    "    'away_starting_8': 'Ángel Di María',\n",
    "    'away_starting_9': 'Adnan Januzaj',\n",
    "    'away_starting_10': 'Wayne Rooney',\n",
    "    'away_starting_11': 'Robin van Persie'\n",
    "}\n",
    "\n",
    "for key, value in row_5039.items():\n",
    "    matches.loc[5039, key] = value"
   ]
  },
  {
   "cell_type": "markdown",
   "metadata": {
    "id": "PAK_t1A4tqJW"
   },
   "source": [
    "There are suspicious columns named 'home_starting_12', home_starting_13', 'home_starting_14', 'away_starting_12', 'away_starting_13', and 'away_starting_14'. This is impossible as there are only 11 players in the starting lineup. Most likely, players # 12, 13, and 14 were enetered errouneosly and they weren't in the starting squad. Or, these players did play from the start, but in that case, someone from ## 1-11 was entered incorrectly.\n",
    "\n",
    "I can fix the errors by compaing entries for players ##12, 13, and 14 with the real data from these matches. Then, I will make necessary changes and remove these erroneus columns."
   ]
  },
  {
   "cell_type": "markdown",
   "metadata": {
    "id": "l09ABiDkt5fG"
   },
   "source": [
    "After checking values for players ## 13 and 14 manually, I understand that these values are erroneous, so we can safely drop them. I will turn to dealing with values for players # 12."
   ]
  },
  {
   "cell_type": "code",
   "execution_count": 15,
   "metadata": {
    "id": "8qn1MEg4Wxeh"
   },
   "outputs": [],
   "source": [
    "cols_to_drop = [col for col in matches.columns if ('starting_13' in col) | ('starting_14' in col)]\n",
    "matches.drop(columns=cols_to_drop, inplace=True)"
   ]
  },
  {
   "cell_type": "code",
   "execution_count": 16,
   "metadata": {
    "id": "vmF6Cl1-ll55"
   },
   "outputs": [],
   "source": [
    "# selecting only columns that have information about starting lineups\n",
    "home_lineup = [col for col in matches.columns if col.startswith('home_starting') & ('num' not in col)]\n",
    "away_lineup = [col for col in matches.columns if col.startswith('away_starting') & ('num' not in col)]\n",
    "\n",
    "# creating a list of columns with key information about matches and lineups for simpler data cleaning\n",
    "cols_to_keep_home = ['home','away', 'date', 'year'] + home_lineup\n",
    "cols_to_keep_away = ['home','away', 'date', 'year'] + away_lineup\n",
    "\n",
    "# selecting those matches where there are not null values for 'home_starting_12' column\n",
    "home_12 = matches[matches.home_starting_12.notna()].copy()\n",
    "\n",
    "# selecting those matches where there are not null values for 'away_starting_12' column\n",
    "away_12 = matches[matches.away_starting_12.notna()].copy()"
   ]
  },
  {
   "cell_type": "code",
   "execution_count": 17,
   "metadata": {
    "id": "ZQI9_GZqd_ih"
   },
   "outputs": [],
   "source": [
    "# create a function that takes a list of columns and returns the list of columns that are shifted to the left\n",
    "def shift_left(columns):\n",
    "    shifted_columns = []\n",
    "    for col in columns:\n",
    "        num = int(col.split('_')[2]) + 1\n",
    "        shifted_column = col.split('_')[0] + '_' + col.split('_')[1] + '_' + str(num)\n",
    "        shifted_columns.append(shifted_column)\n",
    "    return shifted_columns"
   ]
  },
  {
   "cell_type": "code",
   "execution_count": 18,
   "metadata": {
    "id": "HcPh6F6EiTn8"
   },
   "outputs": [],
   "source": [
    "# shifting the columns for the row #5782, where there is an incorrect entry to the home lineup, to the left\n",
    "cols_5782 = [\n",
    "    'home_starting_8', \n",
    "    'home_starting_9', \n",
    "    'home_starting_10', \n",
    "    'home_starting_11'\n",
    "]\n",
    "cols_5782_shifted = shift_left(cols_5782)\n",
    "\n",
    "# shifting the values in the row #5782 to the left\n",
    "matches.loc[5782, cols_5782] = matches.loc[5782, cols_5782_shifted].values"
   ]
  },
  {
   "cell_type": "code",
   "execution_count": 19,
   "metadata": {
    "id": "2rRMKE66i00d"
   },
   "outputs": [],
   "source": [
    "# shifting the columns for the row #5935, where there is an incorrect entry to the home lineup, to the left\n",
    "cols_5935 = [\n",
    "    'home_starting_3', \n",
    "    'home_starting_4', \n",
    "    'home_starting_5', \n",
    "    'home_starting_6', \n",
    "    'home_starting_7', \n",
    "    'home_starting_8', \n",
    "    'home_starting_9', \n",
    "    'home_starting_10', \n",
    "    'home_starting_11'\n",
    "]\n",
    "cols_5935_shifted = shift_left(cols_5935)\n",
    "\n",
    "# shifting the values in the row #5935 to the left\n",
    "matches.loc[5935, cols_5935] = matches.loc[5935, cols_5935_shifted].values"
   ]
  },
  {
   "cell_type": "code",
   "execution_count": 20,
   "metadata": {
    "id": "BgIbMk-WjW23"
   },
   "outputs": [],
   "source": [
    "# shifting the columns for the other rows, where there are incorrect entries to the home lineup, to the left\n",
    "cols_home = [\n",
    "    'home_starting_2', \n",
    "    'home_starting_3', \n",
    "    'home_starting_4', \n",
    "    'home_starting_5', \n",
    "    'home_starting_6', \n",
    "    'home_starting_7', \n",
    "    'home_starting_8', \n",
    "    'home_starting_9', \n",
    "    'home_starting_10', \n",
    "    'home_starting_11'\n",
    "]\n",
    "cols_home_shifted = shift_left(cols_home)\n",
    "\n",
    "# selecting all indices in the away_12 dataframe excpet for the first two\n",
    "rows_home = home_12.index[2:]\n",
    "\n",
    "# shifting the values in the other rows to the left\n",
    "for row in rows_home:\n",
    "    matches.loc[row, cols_home] = matches.loc[row, cols_home_shifted].values"
   ]
  },
  {
   "cell_type": "code",
   "execution_count": 21,
   "metadata": {
    "id": "z-epGLRaXU8z"
   },
   "outputs": [],
   "source": [
    "# shifting the columns for the row #5751, where there is an incorrect entry to the away lineup, to the left\n",
    "cols_5751 = [\n",
    "    'away_starting_4', \n",
    "    'away_starting_5', \n",
    "    'away_starting_6', \n",
    "    'away_starting_7', \n",
    "    'away_starting_8', \n",
    "    'away_starting_9', \n",
    "    'away_starting_10', \n",
    "    'away_starting_11'\n",
    "]\n",
    "cols_5751_shifted = shift_left(cols_5751)\n",
    "\n",
    "# shifting the values in the row #5751 to the left\n",
    "matches.loc[5751, cols_5751] = matches.loc[5751, cols_5751_shifted].values"
   ]
  },
  {
   "cell_type": "code",
   "execution_count": 22,
   "metadata": {
    "id": "QUz62biOfIJA"
   },
   "outputs": [],
   "source": [
    "# shifting the columns for the other rows, where there are incorrect entries to the away lineup, to the left\n",
    "cols_away = [\n",
    "    'away_starting_2', \n",
    "    'away_starting_3', \n",
    "    'away_starting_4', \n",
    "    'away_starting_5', \n",
    "    'away_starting_6', \n",
    "    'away_starting_7', \n",
    "    'away_starting_8', \n",
    "    'away_starting_9', \n",
    "    'away_starting_10', \n",
    "    'away_starting_11'\n",
    "]\n",
    "cols_away_shifted = shift_left(cols_away)\n",
    "\n",
    "# selecting all indices in the away_12 dataframe excpet for the first\n",
    "rows_away = away_12.index[1:]\n",
    "\n",
    "# shifting the values in the other rows to the left\n",
    "for row in rows_away:\n",
    "    matches.loc[row, cols_away] = matches.loc[row, cols_away_shifted].values"
   ]
  },
  {
   "cell_type": "markdown",
   "metadata": {
    "id": "n0RyWaKulF-e"
   },
   "source": [
    "Done! All incorrect entries in player # 12 columns are fixed."
   ]
  },
  {
   "cell_type": "markdown",
   "metadata": {
    "id": "8xkBIDm1AU8b"
   },
   "source": [
    "*Matches* dataframe lacks a tagret column, i.e. the column indicating results of matches I would like to predict. I will add this column to the dataframe by comparing goal by home and away teams in a given match."
   ]
  },
  {
   "cell_type": "code",
   "execution_count": 23,
   "metadata": {
    "id": "pW9FpyMPqEuT"
   },
   "outputs": [],
   "source": [
    "# creating the new target column with the results of the matches\n",
    "\n",
    "condlist = [(matches.home_score > matches.away_score), (matches.home_score == matches.away_score), (matches.home_score < matches.away_score)]\n",
    "choicelist = ['home_win', 'draw', 'away_win']\n",
    "matches['result'] = np.select(condlist, choicelist)"
   ]
  },
  {
   "cell_type": "markdown",
   "metadata": {
    "id": "W-kDRI6EApju"
   },
   "source": [
    "Let's have a look at the distribution of wins of home teams, wins of away teams, and draws during the past 11 seasons."
   ]
  },
  {
   "cell_type": "code",
   "execution_count": 24,
   "metadata": {
    "colab": {
     "base_uri": "https://localhost:8080/",
     "height": 311
    },
    "id": "5l5Br_mGY1uJ",
    "outputId": "111d0200-9999-41d0-e366-393366748d4f"
   },
   "outputs": [
    {
     "data": {
      "image/png": "[encoded data removed]",
      "text/plain": [
       "<Figure size 432x288 with 1 Axes>"
      ]
     },
     "metadata": {},
     "output_type": "display_data"
    }
   ],
   "source": [
    "matches_until_2021 = matches[matches.season<2021]\n",
    "outcomes = ['Home win', 'Away win', 'Draw']\n",
    "outcome_frequncies = matches_until_2021.result.value_counts().values\n",
    "\n",
    "plt.style.use('Solarize_Light2')\n",
    "plt.rcParams.update({'font.size': 14})\n",
    "\n",
    "plt.pie(outcome_frequncies, labels=outcomes, radius=1.5, autopct='%.2f')\n",
    "plt.show()"
   ]
  },
  {
   "cell_type": "markdown",
   "metadata": {
    "id": "4PpV7osGAoVy"
   },
   "source": [
    "Not surprisingly, the majority of matches during 2001-2020 seasons ended in wins of home teams. The proportions of away wins and draws are comparable with each other."
   ]
  },
  {
   "cell_type": "markdown",
   "metadata": {
    "id": "YxRIhbEpLp1n"
   },
   "source": [
    "Next, I will add information about managers of teams. I will map teams to its managers using the data about Premier League team managers from Wikipedia. Later, I will subtitute managers' names with their ratings."
   ]
  },
  {
   "cell_type": "code",
   "execution_count": 25,
   "metadata": {
    "id": "cLiuXa3tEEqn"
   },
   "outputs": [],
   "source": [
    "# correcting the dates in managers dataframe\n",
    "managers.loc[265, 'From'] = '25 November 2004' \n",
    "managers.loc[39, 'From'] = '7 September 2004' \n",
    "managers.loc[203, 'From'] = '12 March 2004' "
   ]
  },
  {
   "cell_type": "code",
   "execution_count": 26,
   "metadata": {
    "id": "H8yWTdV3pLXi"
   },
   "outputs": [
    {
     "name": "stderr",
     "output_type": "stream",
     "text": [
      "C:\\Users\\Oleksii\\AppData\\Local\\Temp/ipykernel_1428/3079215716.py:5: FutureWarning: The default value of regex will change from True to False in a future version.\n",
      "  managers.Until = managers.Until.str.replace('Present\\*', today)\n"
     ]
    }
   ],
   "source": [
    "# converting the dates in managers dataframe to datetime\n",
    "today = datetime.today().strftime('%Y-%m-%d') # setting the current date\n",
    "managers.From = managers.From.str.rstrip('\\[[abcdefgh]\\]')\n",
    "managers.Until = managers.Until.str.rstrip('\\[[abcdefgh]\\]')\n",
    "managers.Until = managers.Until.str.replace('Present\\*', today)\n",
    "\n",
    "managers.From = pd.to_datetime(managers.From)\n",
    "managers.Until = pd.to_datetime(managers.Until)"
   ]
  },
  {
   "cell_type": "code",
   "execution_count": 27,
   "metadata": {
    "id": "TUIMgx6Gtp7a"
   },
   "outputs": [],
   "source": [
    "# creating dictionary that maps club to their managers\n",
    "clubs_managers = {}\n",
    "\n",
    "for index, row in managers.iterrows():\n",
    "    \n",
    "    club = row[2]\n",
    "    manager = row[0]\n",
    "    start = row[3]\n",
    "    end = row[4]\n",
    "    \n",
    "    if club not in clubs_managers: \n",
    "        clubs_managers[club] = []\n",
    "    \n",
    "    clubs_managers[club].append((manager, start, end))"
   ]
  },
  {
   "cell_type": "code",
   "execution_count": 28,
   "metadata": {
    "id": "xQOJaF5Y1ODA"
   },
   "outputs": [],
   "source": [
    "# creating a funntion that selects managers of a club based on date a match was played\n",
    "\n",
    "def select_manager(club, date):\n",
    "    for manager in clubs_managers[club]:\n",
    "        if manager[1] <= date <= manager[2]:\n",
    "            return manager[0]"
   ]
  },
  {
   "cell_type": "code",
   "execution_count": 29,
   "metadata": {
    "id": "wDmh4lIL1HGl"
   },
   "outputs": [],
   "source": [
    "# applying the function to create home_manager and away_manager columns\n",
    "matches['home_manager'] = matches.apply(lambda x: select_manager(x['home'], x['date']), axis=1)\n",
    "matches['away_manager'] = matches.apply(lambda x: select_manager(x['away'], x['date']), axis=1)\n",
    "\n",
    "matches.loc[4473, 'away_manager'] = 'Eamonn Dolan' # imputing missing value"
   ]
  },
  {
   "cell_type": "markdown",
   "metadata": {
    "id": "RBJ92zCBWGtL"
   },
   "source": [
    "After cleaning and updating the main *matches* dataframe, I will proceed to creating features that will be used for predictions. I will create two types of features:\n",
    "*   features that relate specifically to home team and away team;\n",
    "*   difference between feature values of home team and away team."
   ]
  },
  {
   "cell_type": "markdown",
   "metadata": {
    "id": "uyrDfVGJJww1"
   },
   "source": [
    "**First feature** will be based on outcomes of previous matches between home and away teams. I will calculate differences between home and away team wins and between goals scored by home and away teams in previous matches."
   ]
  },
  {
   "cell_type": "code",
   "execution_count": 30,
   "metadata": {
    "id": "pkbz9XumS-ai"
   },
   "outputs": [],
   "source": [
    "# function for getting past results between the teams\n",
    "def past_results(home_team, away_team, year):\n",
    "    \n",
    "    past_matches = matches[(matches.home==home_team) & (matches.away==away_team) & (matches.season<year)]\n",
    "    past_results = past_matches['result'].value_counts()\n",
    "\n",
    "    if 'home_win' in past_results: \n",
    "        past_home_wins = past_results['home_win']\n",
    "    else:\n",
    "        past_home_wins = 0\n",
    "\n",
    "    if 'away_win' in past_results: \n",
    "        past_away_wins = past_results['away_win']\n",
    "    else:\n",
    "        past_away_wins = 0\n",
    "\n",
    "    diff_past_results = past_home_wins - past_away_wins\n",
    "\n",
    "    home_team_score = past_matches['home_score'].sum()\n",
    "    away_team_score = past_matches['away_score'].sum()\n",
    "    diff_score = home_team_score - away_team_score\n",
    "    \n",
    "    return diff_past_results, diff_score"
   ]
  },
  {
   "cell_type": "code",
   "execution_count": 31,
   "metadata": {
    "id": "bGu9cJdOTIrJ"
   },
   "outputs": [],
   "source": [
    "matches['diff_past_results'] = matches.apply(lambda x: past_results(x['home'], x['away'], x['season'])[0], axis=1)\n",
    "matches['diff_past_goals'] = matches.apply(lambda x: past_results(x['home'], x['away'], x['season'])[1], axis=1)"
   ]
  },
  {
   "cell_type": "markdown",
   "metadata": {
    "id": "jEF3JOlpM6_y"
   },
   "source": [
    "For my next features, I'll need to map players' names to their ratings in the corresponding year. But first, I need to fix errors and discrepancies in *players* dataframes.\n",
    "\n",
    "To start, I'll divide *matches* dataframe into 11 separate dataframes acording to differet seasons. I will select only those columns from the matches dataframe that are relevant to our feature engeneering pursposes.\n",
    "\n",
    "I'll then use these dataframes to insert data about ratings of teams, players, and managers for a given season."
   ]
  },
  {
   "cell_type": "code",
   "execution_count": 32,
   "metadata": {
    "id": "LC0Ya4jhom9L"
   },
   "outputs": [],
   "source": [
    "# selecting only those columns that are relevant for our task\n",
    "add_cols = [\n",
    "    'home_manager', \n",
    "    'away_manager', \n",
    "    'diff_past_results', \n",
    "    'diff_past_goals', \n",
    "    'result',\n",
    "]\n",
    "\n",
    "cols_to_keep = ['home', 'away'] + home_lineup[:-1] + away_lineup[:-1] + add_cols\n",
    "\n",
    "# creating yearly matches dataframe with relevant columns\n",
    "matches_2011 = matches[matches.season == 2011][cols_to_keep]\n",
    "matches_2012 = matches[matches.season == 2012][cols_to_keep]\n",
    "matches_2013 = matches[matches.season == 2013][cols_to_keep]\n",
    "matches_2014 = matches[matches.season == 2014][cols_to_keep]\n",
    "matches_2015 = matches[matches.season == 2015][cols_to_keep]\n",
    "matches_2016 = matches[matches.season == 2016][cols_to_keep]\n",
    "matches_2017 = matches[matches.season == 2017][cols_to_keep]\n",
    "matches_2018 = matches[matches.season == 2018][cols_to_keep]\n",
    "matches_2019 = matches[matches.season == 2019][cols_to_keep]\n",
    "matches_2020 = matches[matches.season == 2020][cols_to_keep]\n",
    "matches_2021 = matches[matches.season == 2021][cols_to_keep]"
   ]
  },
  {
   "cell_type": "code",
   "execution_count": 33,
   "metadata": {
    "id": "PTp0vSShW6Az"
   },
   "outputs": [],
   "source": [
    "# creating a function that adds missing players to players dataframe\n",
    "def append_players(players_scores, players_df):\n",
    "    additional_players = pd.DataFrame(players_scores)\n",
    "    players_df = players_df.append(additional_players, ignore_index=True)\n",
    "    return players_df"
   ]
  },
  {
   "cell_type": "code",
   "execution_count": 34,
   "metadata": {
    "id": "duJPjoIpXYCQ"
   },
   "outputs": [],
   "source": [
    "additional_players_2011 = {\n",
    "  'Name': ['Bruno Perone', 'Jake Kean', 'Mahamadou Diarra', 'Nicolas Anelka', 'Patrick Agyemang'],\n",
    "  'Overal': [63, 59, 78, 83, 61],\n",
    "  'Potential': [71, 72, 82, 85, 64],\n",
    "}\n",
    "\n",
    "additional_players_2012 = {\n",
    "  'Name': ['Anton Ferdinand', 'Djibril Cissé', 'Jamie Carragher', 'Karim Rekik', 'Kaspars Gorkss', 'Kieron Courtney Dyer', 'Paul Scharner', 'Paul Scholes', 'Phil Neville', 'Ryan Nelsen'],\n",
    "  'Overal': [71, 79, 76, 68, 68, 69, 75, 81, 74, 74],\n",
    "  'Potential': [72, 79, 76, 80, 70, 69, 75, 81, 74, 74],\n",
    "}\n",
    "\n",
    "additional_players_2013 = {\n",
    "  'Name': ['Craig Bellamy', 'Muamer Tankovic', 'Nicolas Anelka', 'Ryan Giggs'],\n",
    "  'Overal': [75, 65, 80, 80],\n",
    "  'Potential': [75, 75, 80, 80],\n",
    "}\n",
    "\n",
    "additional_players_2014 = {\n",
    "  'Name': ['Hatem Ben Arfa', 'Oussama Assaidi', 'Rio Ferdinand', 'Steven Reid'],\n",
    "  'Overal': [81, 74, 79, 69],\n",
    "  'Potential': [81, 75, 79, 69],\n",
    "}\n",
    "\n",
    "additional_players_2015 = {\n",
    "  'Name': ['Adam Johnson', 'Brede Hangeland', 'Kelvin Davis', 'Matt Grimes', 'Pedro Chirivella', 'Ramires', 'Nikica Jelavić'],\n",
    "  'Overal': [78, 72, 71, 62, 61, 81, 73],\n",
    "  'Potential': [78, 72, 71, 74, 70, 81, 73],\n",
    "}\n",
    "\n",
    "additional_players_2016 = {\n",
    "  'Name': ['Joey Barton', 'Odion Ighalo', 'Álvaro Arbeloa', 'Gastón Ramirez', 'Allan-Roméo Nyom'],\n",
    "  'Overal': [74, 77, 74, 78, 78],\n",
    "  'Potential': [74, 78, 74, 81, 78],\n",
    "}\n",
    "\n",
    "additional_players_2017 = {\n",
    "  'Name': ['Leon Britton', 'Liam Rosenio', 'Michael Carrick', 'Per Mertesacker', 'Liam Rosenior'],\n",
    "  'Overal': [75, 70, 79, 80, 70],\n",
    "  'Potential': [75, 70, 79, 80, 70],\n",
    "}\n",
    "\n",
    "additional_players_2018 = {\n",
    "  'Name': ['Ben Johnson', 'Daniel Sturridge', 'Petr Čech'],\n",
    "  'Overal': [58, 78, 81],\n",
    "  'Potential': [75, 78, 81],\n",
    "}\n",
    "\n",
    "additional_players_2019 = {\n",
    "  'Name': ['Leighton Baines'],\n",
    "  'Overal': [75],\n",
    "  'Potential': [75],\n",
    "}\n",
    "\n",
    "additional_players_2020 = {\n",
    "  'Name': ['Alexandre Jankewitz', 'Amad Diallo', 'Anthony Elanga', 'Daniel Jebbison'],\n",
    "  'Overal': [60, 66, 63, 59],\n",
    "  'Potential': [77, 86, 80, 75],\n",
    "}\n",
    "\n",
    "additional_players_2021 = {\n",
    "  'FullName': [\n",
    "           'Adam Webster', \n",
    "           'Ashley Barnes', \n",
    "           'Benjamin Mendy', \n",
    "           'Christian Benteke', \n",
    "           'Federico Fernández', \n",
    "           'Gabriel', \n",
    "           'Hwang Hee-Chan', \n",
    "           'Jeff Schlupp', \n",
    "           'Joshua King', \n",
    "           'Kristoffer Ajer', \n",
    "           'Liam Cooper',\n",
    "           'Marvelous Nakamba',\n",
    "           'Nicolas Nkoulou',\n",
    "           'Solly March',\n",
    "           'Stuart Dallas',\n",
    "           'Tyler Morton',\n",
    "           'Wilfredo Caballero'\n",
    "           ],\n",
    "  'Overal': [76, 75, 79, 75, 75, 83, 75, 75, 75, 75, 75, 75, 78, 75, 75, 59, 74],\n",
    "  'Potential': [80, 75, 80, 75, 75, 87, 78, 75, 75, 83, 75, 77, 78, 76, 75, 77, 74],\n",
    "}"
   ]
  },
  {
   "cell_type": "code",
   "execution_count": 35,
   "metadata": {
    "id": "lbY_uIvqXrjP"
   },
   "outputs": [],
   "source": [
    "players_2011 = append_players(additional_players_2011, players_2011)\n",
    "players_2012 = append_players(additional_players_2012, players_2012)\n",
    "players_2013 = append_players(additional_players_2013, players_2013)\n",
    "players_2014 = append_players(additional_players_2014, players_2014)\n",
    "players_2015 = append_players(additional_players_2015, players_2015)\n",
    "players_2016 = append_players(additional_players_2016, players_2016)\n",
    "players_2017 = append_players(additional_players_2017, players_2017)\n",
    "players_2018 = append_players(additional_players_2018, players_2018)\n",
    "players_2019 = append_players(additional_players_2019, players_2019)\n",
    "players_2020 = append_players(additional_players_2020, players_2020)\n",
    "players_2021 = append_players(additional_players_2021, players_2021)"
   ]
  },
  {
   "cell_type": "code",
   "execution_count": 36,
   "metadata": {
    "id": "9-2eTf6uiS-m"
   },
   "outputs": [],
   "source": [
    "# creating pairs of players whose names differ between matches and players datasets\n",
    "\n",
    "players_dict = {\n",
    "    'Albert Crusat': 'Crusat',\n",
    "    'Andrea Orlandi': 'Orlandi',\n",
    "    'Andrey Arshavin': 'Andrei Arshavin',\n",
    "    'David Ngog': \"David N'Gog\",\n",
    "    'Fabio Aurelio': 'Fábio Aurélio',\n",
    "    'Gael Givet': 'Gaël Givet',\n",
    "    'Gonzalo Jara': 'Gonzalo Jara Reyes',\n",
    "    'Gretar Rafn Steinsson': 'Grétar Steinsson',\n",
    "    'Haris Vuckic': 'Haris Vučkić',\n",
    "    'Henrique Hilario': 'Hilário',\n",
    "    'Ivan Klasnic': 'Ivan Klasnić',\n",
    "    'Luka Modric': 'Luka Modrić',\n",
    "    'Markus Olsson': 'Marcus Olsson',\n",
    "    'Marton Fulop': 'Márton Fülöp',\n",
    "    'Maxi Rodríguez': 'Maximiliano Rodríguez',\n",
    "    'Míchel Salgado': 'Michel Salgado',\n",
    "    'Nenad Milijas': 'Nenad Milijaš',\n",
    "    'Patrick Kenny': 'Paddy Kenny',\n",
    "    'Peter Lövenkrands': 'Peter Løvenkrands',\n",
    "    'Radek Cerny': 'Radek Černý',\n",
    "    'Radosav Petrovic': 'Radosav Petrović',\n",
    "    'Robert Hulse': 'Rob Hulse',\n",
    "    'Rubén Rochina': 'Rochina',\n",
    "    'Sam Rickett': 'Sam Ricketts',\n",
    "    'Simon Vukcevic': 'Simon Vukčević',\n",
    "    'Tuncay Sanli': 'Tuncay',\n",
    "    'Vedran Corluka': 'Vedran Ćorluka',\n",
    "    'Yakubu Aiyegbeni': 'Yakubu',\n",
    "    'Zdenek Grygera': 'Zdeněk Grygera',\n",
    "    'Adam Le Fondre': 'Adam le Fondre',\n",
    "    'Adrián Rodriguez': 'Adrián López',\n",
    "    'Ali Al Habsi': 'Ali Al-Habsi',\n",
    "    'Carlos Tevez': 'Carlos Tévez',\n",
    "    'Esteban Granero': 'Granero',\n",
    "    'Etey Shechter': 'Itay Shechter',\n",
    "    'Franco Di Santo': 'Franco di Santo',\n",
    "    'Gabriel Tamas': 'Gabriel Tamaş',\n",
    "    'Gaël Bigirimana': 'Gael Bigirimana',\n",
    "    'Jan Mucha': 'Ján Mucha',\n",
    "    'Marc-Antoine Fortune': 'Marc-Antoine Fortuné',\n",
    "    'Mladen Petric': 'Mladen Petrić',\n",
    "    'Nuri Sahin': 'Nuri Şahin', \n",
    "    'Park Ji-Sung': 'Ji Sung Park',\n",
    "    'Rafael Van der Vaart': 'Rafael van der Vaart',\n",
    "    'Raul Meireles': 'Raúl Meireles',\n",
    "    'Roman Golobart': 'Román Golobart',\n",
    "    \"Stéphane M'bia\": 'Stéphane MBia',\n",
    "    'Alex Kacaniklic': 'Alexander Kačaniklić',\n",
    "    'Antonio Luna': 'Luna',\n",
    "    'Bryan Ruiz': 'Bryan Ruíz',\n",
    "    'Cala': 'Juan Cala',\n",
    "    'Carlos Jimenez Cuellar': 'Carlos Cuéllar',\n",
    "    'Charalampos Mavrias': 'Charis Mavrias',\n",
    "    'Daniel Gabbidon': 'Danny Gabbidon',\n",
    "    'Elsad Zverotic': 'Elsad Zverotić',\n",
    "    'Fabio': 'Fabio Borini',\n",
    "    'Georgios Karagounis': 'Giorgios Karagounis',\n",
    "    'Javier Garrido': 'Garrido',\n",
    "    'Ji Dong-Won': 'Dong Won Ji',\n",
    "    'Jimmy Kebe': 'Jimmy Kébé',\n",
    "    'Jonathan de Guzmán': 'Jonathan De Guzmán',\n",
    "    'José Campaña': 'Campaña',\n",
    "    'Jussi Jaaskelainen': 'Jussi Jääskeläinen',\n",
    "    'Kieren Westwood': 'Keiren Westwood',\n",
    "    'Kim Bo-Kyung': 'Bo Kyung Kim',\n",
    "    'Kostas Mitroglou': 'Konstantinos Mitroglou',\n",
    "    'Mapou Yanga-Mbiwa': \"Mapou Yanga-M'Biwa\",\n",
    "    'Matija Nastasic': 'Matija Nastasić',\n",
    "    'Mats Daehli': 'Mats Møller Dæhli',\n",
    "    'Michael Essien': 'Michaël Essien',\n",
    "    'Mobido Diakité': 'Modibo Diakité',\n",
    "    'Modibo Maíga': 'Modibo Maïga',\n",
    "    'Nemanja Vidic': 'Nemanja Vidić',\n",
    "    'Ondrej Celustka': 'Ondřej Čelůstka',\n",
    "    'Pablo Osvaldo': 'Pablo Daniel Osvaldo',\n",
    "    'Razvan Rat': 'Răzvan Raţ',\n",
    "    'Thomas Sorensen': 'Thomas Sørensen',\n",
    "    'Tomas Kalas': 'Tomáš Kalas',\n",
    "    'Zoltan Gera': 'Zoltán Gera',\n",
    "    'Álex Pozuelo': 'Pozuelo',\n",
    "    'Álvaro Vázquez':'Álvaro',\n",
    "    'Alejandro Faurlin': 'Alejandro Faurlín',\n",
    "    'Alex Song':\t'Alexandre Song',\n",
    "    'Andrej Kramaric':\t'Andrej Kramarić',\n",
    "    'Andy Robertson': 'Andrew Robertson',\n",
    "    'Angel Rangel': 'Àngel Rangel',\n",
    "    'Anthony Reveillere': 'Anthony Réveillère',\n",
    "    'Antolin Alcaraz': 'Antolín Alcaraz',\n",
    "    'Armand Traore': 'Armand Traoré',\n",
    "    'Asmir Begovic': 'Asmir Begović',\n",
    "    'Ayoze Perez': 'Ayoze Pérez',\n",
    "    'Bafetimbi Gomis': 'Bafétimbi Gomis',\n",
    "    'Bojan Krkic': 'Bojan',\n",
    "    'Branislav Ivanovic': 'Branislav Ivanović',\n",
    "    'César Azpilicueta': 'Azpilicueta',\n",
    "    'David de Gea': 'De Gea',\n",
    "    'Dusan Tadic': 'Dušan Tadić',\n",
    "    'Edin Dzeko': 'Edin Džeko',\n",
    "    'Eldin Jakupovic': 'Eldin Jakupović',\n",
    "    'Emiliano Martínez': 'Emiliano Martinez',\n",
    "    'Filip Djuricic': 'Filip Đuričić',\n",
    "    'Florin Gardos': 'Florin Gardoş',\n",
    "    'Gastón Ramírez': 'Gastón Ramirez',\n",
    "    'Gylfi Sigurdsson': 'Gylfi Sigurðsson',\n",
    "    'Javier Manquillo': 'Manquillo',\n",
    "    'Jazz Richards': 'Ashley Richards',\n",
    "    'Jeff Schlupp': 'Jeffrey Schlupp',\n",
    "    'José Pozo': 'Pozo',\n",
    "    'Julian Speroni': 'Julián Speroni',\n",
    "    'Ki Sung-Yueng': 'Ki Sung Yueng',\n",
    "    'Lazar Markovic': 'Lazar Marković',\n",
    "    'Lee Chung-Yong': 'Lee Chung Yong',\n",
    "    'Lukasz Fabianski': 'Łukasz Fabiański',\n",
    "    'Mame Biram Diouf': 'Mame Diouf',\n",
    "    'Marko Arnautovic': 'Marko Arnautović',\n",
    "    'Martin Skrtel': 'Martin Škrtel',\n",
    "    'Massadio Haidara': 'Massadio Haïdara',\n",
    "    'Matthew Jarvis': 'Matt Jarvis',\n",
    "    'Matthew Taylor': 'Matt Taylor',\n",
    "    'Michael Williamson': 'Mike Williamson',\n",
    "    'Mike Duff': 'Michael Duff',\n",
    "    'Mile Jedinak': 'Mile Jedinák',\n",
    "    'Mousa Dembélé': 'Moussa Dembélé',\n",
    "    'Muhamed Besic': 'Muhamed Bešić',\n",
    "    'Nemanja Matic': 'Nemanja Matić',\n",
    "    'Nikica Jelavic': 'Nikica Jelavić',\n",
    "    'Niko Kranjcar': 'Niko Kranjčar',\n",
    "    'Papiss Cissé': 'Papiss Demba Cissé',\n",
    "    'Petr Cech': 'Petr Čech',\n",
    "    'Philippe Coutinho': 'Coutinho',\n",
    "    'Radamel Falcao': 'Falcao',\n",
    "    'Ricardo Alvarez': 'Ricardo Álvarez',\n",
    "    'Ricardo Vaz Te': 'Ricardo Vaz Tê',\n",
    "    'Ritchie de Laet': 'Ritchie De Laet',\n",
    "    'Robert Elliot': 'Rob Elliot',\n",
    "    'Robert Green': 'Rob Green',\n",
    "    'Roberto Soldado': 'Soldado',\n",
    "    'Seamus Coleman': 'Séamus Coleman',\n",
    "    'Silvestre Varela': 'Varela',\n",
    "    'Stevan Jovetic': 'Stevan Jovetić',\n",
    "    'Stéphane Sessegnon': 'Stéphane Sessègnon',\n",
    "    'Thomas Carroll': 'Tom Carroll',\n",
    "    'Tom Ince': 'Thomas Ince',\n",
    "    'Tomas Rosicky': 'Tomáš Rosický',\n",
    "    'Vlad Chiriches': 'Vlad Chiricheş',\n",
    "    'Víctor Valdés': 'Victor Valdés',\n",
    "    'Wilfredo Caballero': 'Willy Caballero',\n",
    "    'William Buckley': 'Will Buckley',\n",
    "    'Wojciech Szczesny': 'Wojciech Szczęsny',\n",
    "    'Younes Kaboul': 'Younès Kaboul',\n",
    "    'Yun Suk-Young': 'Yun Suk Young',\n",
    "    'Étienne Capoue': 'Etienne Capoue',\n",
    "    'Adam Bogdan': 'Ádám Bogdán',\n",
    "    'Aleksandar Mitrovic': 'Aleksandar Mitrović',\n",
    "    'Allan Nyom': 'Allan-Roméo Nyom',\n",
    "    'Baba Rahman': 'Abdul Rahman Baba',\n",
    "    'Cédric Soares': 'Cédric',\n",
    "    'Gerard Deulofeu': 'Deulofeu',\n",
    "    'Gullermo Varela': 'Guillermo Varela',\n",
    "    'Heurelho Gomes': 'Gomes',\n",
    "    'Jonathan Howson': 'Jonny Howson',\n",
    "    'José Holebas': 'Jose Holebas',\n",
    "    'José Manuel Jurado': 'Jurado',\n",
    "    'Miguel Britos': 'Miguel Angel Britos',\n",
    "    'Sebastien Bassong': 'Sébastien Bassong',\n",
    "    'Son Heung-Min': 'Heung Min Son',\n",
    "    \"Yann M'vila\": \"Yann M'Vila\",\n",
    "    'José Ángel Crespo': 'Crespo',\n",
    "    'Adama Diomandé': 'Adama Valentin Diomande',\n",
    "    'Antonio Barragán': 'Barragán',\n",
    "    'Cristhian Stuani': 'Christian Stuani',\n",
    "    \"Didier N'Dong\": 'Didier Ndong',\n",
    "    'Emilio Nsue': 'Nsue',\n",
    "    'Evandro Goebel': 'Evandro',\n",
    "    'Fernando Llorente': 'Llorente',\n",
    "    'Ilkay Gündogan': 'İlkay Gündoğan',\n",
    "    'Johann Gudmundsson': 'Jóhann Berg Gudmundsson',\n",
    "    'Josh Harrop': 'Joshua Harrop',\n",
    "    'Joël Matip': 'Joel Matip',\n",
    "    'Juan Zúñiga': 'Juan Camilo Zúñiga',\n",
    "    'Luis Hernández': 'Luís Hernández',\n",
    "    'Luka Milivojevic': 'Luka Milivojević',\n",
    "    'Wilfred Ndidi': 'Onyinye Ndidi',\n",
    "    'Zlatan Ibrahimovic': 'Zlatan Ibrahimović',\n",
    "    'Álvaro Negredo': 'Negredo',\n",
    "    'Aleksandar Dragovic': 'Aleksandar Dragović',\n",
    "    \"Badou N'Diaye\": 'Badou Ndiaye',\n",
    "    'Biram Kiyal': 'Beram Kayal',\n",
    "    'Daniel Williams': 'Danny Williams',\n",
    "    'Davy Propper': 'Davy Pröpper',\n",
    "    'Fousseyni Diabate': 'Fousseni Diabaté',\n",
    "    'Jairo Riedewald': 'Jaïro Riedewald',\n",
    "    'Jeremie Boga': 'Jérémie Boga',\n",
    "    'Lasse Sorenson': 'Lasse Sörensen',\n",
    "    'Lucas Moura': 'Lucas',\n",
    "    'Martin Dubravka': 'Martin Dúbravka',\n",
    "    'Mat Ryan': 'Mathew Ryan',\n",
    "    'Mikel Merino': 'Merino',\n",
    "    'Nikola Vlasic': 'Nikola Vlašić',\n",
    "    'Olexandr Zinchenko': 'Oleksandr Zinchenko',\n",
    "    'Pascal Gross': 'Pascal Groß',\n",
    "    'Phillip Biling': 'Philip Billing',\n",
    "    'Sandro Ramírez': 'Sandro',\n",
    "    'Sead Kolasinac': 'Sead Kolašinac',\n",
    "    'Thomas Edwards': 'Tom Edwards',\n",
    "    'Tiemoué Bakayoko': 'Tiémoué Bakayoko',\n",
    "    'Vicente Iborra': 'Iborra',\n",
    "    'Álvaro Morata': 'Morata',\n",
    "    'André-Frank Zambo Anguissa': 'André-Franck Zambo Anguissa',\n",
    "    'Bobby De Cordova-Reid': 'Bobby Reid',\n",
    "    'Daniel Ward': 'Danny Ward',\n",
    "    'Fabri': 'Fabricio',\n",
    "    'Jon Gorenc Stankovic': 'Jon Gorenc Stanković',\n",
    "    'Karlan Ahearne-Grant': 'Karlan Grant',\n",
    "    'Kepa Arrizabalaga': 'Kepa',\n",
    "    'Martín Montoya': 'Montoya',\n",
    "    'Matej Vydra': 'Matěj Vydra',\n",
    "    'Mateo Kovacic': 'Mateo Kovačić',\n",
    "    'Matteo Guendouzi': 'Mattéo Guendouzi',\n",
    "    'Mohammed Elyounoussi': 'Mohamed Elyounoussi',\n",
    "    'Naby Keita': 'Naby Keïta',\n",
    "    'Ruben Vinagre': 'Rúben Vinagre',\n",
    "    'Sokratis Papastathopoulos': 'Sokratis',\n",
    "    'Sol Bamba': 'Souleymane Bamba',\n",
    "    'Vicente Guaita': 'Guaita',\n",
    "    'Víctor Camarasa': 'Camarasa',\n",
    "    'Yann Valery': 'Yan Valery',\n",
    "    'Yoshinori Muto': 'Yoshinori Mutō',\n",
    "    'Çaglar Söyüncü': 'Çağlar Söyüncü',\n",
    "    'Arnaut Danjuma': 'Arnaut Danjuma Groeneveld',\n",
    "    'Christoph Zimmerman': 'Christoph Zimmermann',\n",
    "    'Edward Nketiah': 'Eddie Nketiah',\n",
    "    'Jesús Vallejo': 'Vallejo',\n",
    "    'Josip Drmic': 'Josip Drmić',\n",
    "    'Mario Vrancic': 'Mario Vrančić',\n",
    "    'Mbwana Samatta': 'Mbwana Ally Samatta',\n",
    "    'Tomas Soucek': 'Tomáš Souček',\n",
    "    'Trézéguet': 'Trezeguet',\n",
    "    'William Smallbone': 'Will Smallbone',\n",
    "    'Carlos Vinicius': 'Vinícius',\n",
    "    'Douglas Carioca': 'Douglas Luiz',\n",
    "    'Fernando Marçal':  'Marçal',\n",
    "    'Ferrán Torres': 'Ferran Torres',\n",
    "    'Filip Krovinovic': 'Filip Krovinović',\n",
    "    'Marek Rodak': 'Marek Rodák',\n",
    "    'Matthew Cash': 'Matty Cash',\n",
    "    'Okay Yokuslu': 'Okay Yokuşlu',\n",
    "    'Rayan Aït-Nouri': 'Rayan Aït Nouri',\n",
    "    'Sergio Reguilón': 'Reguilón',\n",
    "    'Vladimir Coufal':\t 'Vladimír Coufal'\n",
    " }\n",
    "\n",
    "players_2011_dict = players_dict.copy()\n",
    "players_2012_dict = players_dict.copy()\n",
    "players_2013_dict = players_dict.copy()\n",
    "players_2017_dict = players_dict.copy()\n",
    "players_2018_2019_dict = players_dict.copy()\n",
    "players_2020_dict = players_dict.copy()\n",
    "\n",
    "keys_to_remove_2011 = ['Alex Kacaniklic', 'Jonathan Howson', 'Asmir Begovic']\n",
    "\n",
    "for key in keys_to_remove_2011:\n",
    "    players_2011_dict.pop(key)\n",
    "\n",
    "players_2011_dict.update({\n",
    "    'Wes Hoolahan': 'Wesley Hoolahan',\n",
    "    'Alex Kacaniklic': 'Alexander Kacaniklic',\n",
    "    'Benoît Assou-Ekotto': 'Benoit Assou-Ekotto',\n",
    "    'Juan Mata': 'Mata',\n",
    "    'Kieron Courtney Dyer': 'Kieron Dyer',\n",
    "    'Ahmed Elmohamady': 'Ahmed El Mohamady',\n",
    "    'Jon Flanagan': 'John Flanagan'\n",
    "})\n",
    "\n",
    "keys_to_remove_2012 = ['Alex Kacaniklic', 'Jonathan Howson', 'Robert Green', 'Asmir Begovic', 'Ki Sung-Yueng']\n",
    "\n",
    "for key in keys_to_remove_2012:\n",
    "    players_2012_dict.pop(key)\n",
    "\n",
    "players_2012_dict.update({\n",
    "    'Alex Kacaniklic': 'Alexander Kacaniklic',\n",
    "    'Ki Sung-Yueng': 'Sung-Yueng Ki',\n",
    "    'Wes Hoolahan': 'Wesley Hoolahan',\n",
    "    'Nacho Monreal': 'Monreal',\n",
    "    'Joel Robles': 'Joel',\n",
    "    'Nathan Aké': 'Nathan Ake',\n",
    "    'Pepe Reina': 'José Reina'\n",
    "})\n",
    "\n",
    "keys_to_remove_2013 = ['Jonathan Howson', 'Matthew Jarvis', 'Ki Sung-Yueng']\n",
    "\n",
    "for key in keys_to_remove_2013:\n",
    "    players_2013_dict.pop(key)\n",
    "\n",
    "players_2013_dict['Ki Sung-Yueng'] = 'Sung-Yueng Ki'\n",
    "\n",
    "keys_to_remove_2017 = ['Johann Gudmundsson', 'Allan Nyom', 'Tom Ince']\n",
    "\n",
    "for key in keys_to_remove_2017:\n",
    "    players_2017_dict.pop(key)\n",
    "\n",
    "keys_to_remove_2018_2019 = keys_to_remove_2017 + ['Wilfred Ndidi', 'Miguel Britos', 'Emiliano Martínez']\n",
    "\n",
    "for key in keys_to_remove_2018_2019:\n",
    "    players_2018_2019_dict.pop(key)\n",
    "\n",
    "keys_to_remove_2020 = ['Johann Gudmundsson', 'Tom Ince', 'Wilfred Ndidi', 'Emiliano Martínez', 'Bobby De Cordova-Reid']\n",
    "\n",
    "for key in keys_to_remove_2020:\n",
    "    players_2020_dict.pop(key)\n",
    "\n",
    "for dictionary in [players_2017_dict, players_2018_2019_dict, players_2020_dict]:\n",
    "    dictionary['Johann Gudmundsson'] = 'Jóhann Berg Guðmundsson'\n",
    "\n",
    "players_2020_dict.update({'Vitinha': 'Vítor Ferreira', 'Bobby De Cordova-Reid': 'Bobby Decordova-Reid'})\n",
    "\n",
    "players_2021_dict = {\n",
    "    'Alex Telles': 'Alex Nicolao Telles',\n",
    "    'Alisson': 'Alisson Ramses Becker',\n",
    "    'Allan': 'Allan Marques Loureiro',\n",
    "    'André Gomes': 'André Filipe Tavares Gomes',\n",
    "    'Andy Robertson': 'Andrew Robertson',\n",
    "    'Asmir Begovic': 'Asmir Begović',\n",
    "    'Ayoze Perez': 'Ayoze Pérez Gutiérrez',\n",
    "    'Ayoze Pérez': 'Ayoze Pérez Gutiérrez',\n",
    "    'Bernardo Silva': 'Bernardo Mota Carvalho e Silva',\n",
    "    'Boubakary Soumare': 'Boubakary Soumaré',\n",
    "    'Bruno Fernandes': 'Bruno Miguel Borges Fernandes',\n",
    "    'Caglar Söyüncü': 'Çağlar Söyüncü',\n",
    "    'Charles Goode': 'Charlie Goode',\n",
    "    'Christian Norgaard': 'Christian Nørgaard',\n",
    "    'Cristiano Ronaldo': 'C. Ronaldo dos Santos Aveiro',\n",
    "    'Cucho Hernández': 'Juan Camilo Hernández',\n",
    "    'Cédric Soares': 'Cédric Ricardo Alves Soares',\n",
    "    'César Azpilicueta': 'César Azpilicueta Tanco',\n",
    "    'Daniel Podence': 'Daniel Castelo Podence',\n",
    "    'David Raya': 'David Raya Martin',\n",
    "    'David de Gea': 'David De Gea Quintana',\n",
    "    'Diego Llorente': 'Diego Javier Llorente Ríos',\n",
    "    'Diogo Dalot': 'José Diogo Dalot Teixeira',\n",
    "    'Diogo Jota': 'Diogo José Teixeira da Silva',\n",
    "    'Douglas Luiz': 'Douglas Luiz Soares de Paulo',\n",
    "    'Ederson': 'Ederson Santana de Moraes',\n",
    "    'Emerson': 'Emerson Leite De Souza',\n",
    "    'Fabinho': 'Fábio Henrique Tavares',\n",
    "    'Fernandinho': 'Fernando Luiz Rosa',\n",
    "    'Fernando Marçal': 'Fernando Marçal de Oliveira',\n",
    "    'Ferran Torres': 'Ferran Torres García',\n",
    "    'Francisco Trincão': 'Francisco Mota Castro Trincão',\n",
    "    'Fred': 'Frederico de Paula Santos',\n",
    "    'Gabriel Jesus': 'Gabriel Fernando de Jesus',\n",
    "    'Gabriel Martinelli': 'Gabriel Teodoro Martinelli Silva',\n",
    "    'Ilkay Gündogan': 'İlkay Gündoğan',\n",
    "    'Jacob Lungi Sorensen': 'Jacob Sørensen',\n",
    "    'Jairo Riedewald': 'Jaïro Riedewald',\n",
    "    'Javier Manquillo': 'Javier Manquillo Gaitán',\n",
    "    'Joelinton': 'Joelinton Apolinário de Lira',\n",
    "    'Johann Gudmundsson': 'Jóhann Berg Guðmundsson',\n",
    "    'Jorginho': 'Luiz Frello Filho Jorge',\n",
    "    'Joshua Sargent': 'Josh Sargent',\n",
    "    'José Sá': 'José Pedro Malheiro de Sá',\n",
    "    'João Cancelo': 'João Pedro Cavaco Cancelo',\n",
    "    'João Moutinho': 'João Filipe Moutinho',\n",
    "    'João Pedro': 'João Pedro Junqueira de Jesus',\n",
    "    'Joël Matip': 'Joel Matip',\n",
    "    'Juan Hernández': 'Juan Camilo Hernández',\n",
    "    'Júnior Firpo': 'Héctor Junior Firpo Adamés',\n",
    "    'Kieran Dewsbury-Hall': 'Kiernan Dewsbury-Hall',\n",
    "    'Kiko Femenía': 'Francisco Femenía Far',\n",
    "    'Lucas Moura': 'Lucas Rodrigues M. Silva',\n",
    "    'Luka Milivojevic': 'Luka Milivojević',\n",
    "    'Lukasz Fabianski': 'Łukasz Fabiański',\n",
    "    'Lyanco': 'Lyanco Neves Vojnovic',\n",
    "    'Mads Bech Sörensen': 'Mads Bech Sørensen',\n",
    "    'Marc Cucurella': 'Marc Cucurella Saseta',\n",
    "    'Marc Guehi': 'Marc Guéhi',\n",
    "    'Marcos Alonso': 'Marcos Alonso Mendoza',\n",
    "    'Matej Vydra': 'Matěj Vydra',\n",
    "    'Mateo Kovacic': 'Mateo Kovačić',\n",
    "    'Mathias Jorgensen': 'Mathias Jørgensen',\n",
    "    'Matthew Cash': 'Matty Cash',\n",
    "    'Mohammed Elyounoussi': 'Mohamed Elyounoussi',\n",
    "    'Naby Keita': 'Naby Keïta',\n",
    "    'Nemanja Matic': 'Nemanja Matić',\n",
    "    'Nikola Vlasic': 'Nikola Vlašić',\n",
    "    'Nuno Tavares': 'Nuno Albertino Varela Tavares',\n",
    "    'Nélson Semedo': 'Nélson Cabral Semedo',\n",
    "    'Odsonne Édouard': 'Odsonne Edouard',\n",
    "    'Oriol Romeu': 'Oriol Romeu Vidal',\n",
    "    'Pablo Fornals': 'Pablo Fornals Malla',\n",
    "    'Pablo Marí': 'Pablo Marí Villar',\n",
    "    'Pascal Gross': 'Pascal Groß',\n",
    "    'Peter Etebo': 'Oghenekaro Etebo',\n",
    "    'Pierre-Emile Hojbjerg': 'Pierre-Emile Højbjerg',\n",
    "    'Przemyslaw Placheta': 'Przemysław Płacheta',\n",
    "    'Raphinha': 'Raphael Dias Belloli',\n",
    "    'Rayan Aït-Nouri': 'Rayan Aït Nouri',\n",
    "    'Ricardo Pereira': 'Ricardo Barbosa Pereira',\n",
    "    'Richarlison': 'Richarlison de Andrade',\n",
    "    'Robert Sánchez': 'Robert Lynch Sanchéz',\n",
    "    'Roberto Firmino': 'Roberto Firmino Barbosa de Oliveira',\n",
    "    'Rodri': 'Rodrigo Hernández Cascante',\n",
    "    'Rodrigo': 'Rodrigo Moreno Machado',\n",
    "    'Rúben Dias': 'Rúben Santos Gato Alves Dias',\n",
    "    'Rúben Neves': 'Rúben Diogo da Silva Neves',\n",
    "    'Saúl Ñíguez': 'Saúl Ñíguez Esclápez',\n",
    "    'Sead Kolasinac': 'Sead Kolašinac',\n",
    "    'Seamus Coleman': 'Séamus Coleman',\n",
    "    'Sergi Canós': 'Sergi Canós Tenés',\n",
    "    'Sergio Reguilón': 'Sergio Reguilón Rodríguez',\n",
    "    'Son Heung-Min': 'Heung Min Son',\n",
    "    'Thiago Alcántara': 'Thiago Alcântara',\n",
    "    'Thiago Silva': 'Thiago Emiliano da Silva',\n",
    "    'Tomás Soucek': 'Tomáš Souček',\n",
    "    'Trevor Chalobah': 'Trevoh Chalobah',\n",
    "    'Valentino Livramento': 'Tino Livramento',\n",
    "    'Vicente Guaita': 'Vicente Guaita Panadero',\n",
    "    'William Smallbone': 'Will Smallbone',\n",
    "    'Álvaro Fernández': 'Álvaro Fernández Llorente'\n",
    "}"
   ]
  },
  {
   "cell_type": "code",
   "execution_count": 37,
   "metadata": {
    "id": "LcwZYfDEw-UH"
   },
   "outputs": [],
   "source": [
    "#correcting the names of players\n",
    "\n",
    "matches_2011.replace(players_2011_dict, inplace=True)\n",
    "\n",
    "matches_2012.replace(players_2012_dict, inplace=True)\n",
    "\n",
    "matches_2013.replace(players_2013_dict, inplace=True)\n",
    "\n",
    "for df in [matches_2014, matches_2015, matches_2016]:\n",
    "    df.replace(players_dict, inplace=True)\n",
    "\n",
    "matches_2017.replace(players_2017_dict, inplace=True)\n",
    "\n",
    "for df in [matches_2018, matches_2019]:\n",
    "    df.replace(players_2018_2019_dict, inplace=True)\n",
    "\n",
    "matches_2020.replace(players_2020_dict, inplace=True)\n",
    "\n",
    "matches_2021.replace(players_2021_dict, inplace=True)"
   ]
  },
  {
   "cell_type": "markdown",
   "metadata": {
    "id": "aH54iVmIbPy_"
   },
   "source": [
    "I will create another four features based on players overall, defense, midfield, and attack abilities. I will calculate the latter three as means of several players' attributes. The breakdown of all attribites are given below."
   ]
  },
  {
   "cell_type": "code",
   "execution_count": 38,
   "metadata": {
    "id": "ZDawrF9knD8T"
   },
   "outputs": [],
   "source": [
    "attack_attributes = [\n",
    "    'AttPosition',\n",
    "    'Acceleration',\n",
    "    'SprintSpeed',\n",
    "    'Heading',\n",
    "    'ShotPower',\n",
    "    'Finishing',\n",
    "    'LongShots',\n",
    "    'Curve',\n",
    "    'FKAcc',\n",
    "    'Penalties',\n",
    "    'Volleys']\n",
    "\n",
    "defense_attributes = [\n",
    "    'SlideTackle',\n",
    "    'StandTackle',\n",
    "    'Aggression',\n",
    "    'Interceptions',\n",
    "    'Stamina',\n",
    "    'Strength',\n",
    "    'Jumping']\n",
    "\n",
    "midfield_attributes = [\n",
    "    'BallControl',\n",
    "    'Dribbling',\n",
    "    'Marking',\n",
    "    'Reactions',\n",
    "    'Vision',\n",
    "    'Composure',\n",
    "    'Crossing',\n",
    "    'ShortPass',\n",
    "    'LongPass',\n",
    "    'Balance',\n",
    "    'Agility'\n",
    "]"
   ]
  },
  {
   "cell_type": "code",
   "execution_count": 39,
   "metadata": {
    "id": "zYk9LeIFZFxr"
   },
   "outputs": [],
   "source": [
    "#create a function that maps player's name to his overall and potential scores\n",
    "def player_scores(players_df):\n",
    "    players_overall = {} #dictionary that maps player's name to his overall rating\n",
    "    players_defense = {} #dictionary that maps player's name to his defense rating\n",
    "    players_midfield = {} #dictionary that maps player's name to his midfield rating \n",
    "    players_attack = {} #dictionary that maps player's name to his attack rating\n",
    "\n",
    "    for index, row in players_df.iterrows():\n",
    "        player = row[1]\n",
    "        overall = row[3]\n",
    "        defense = np.mean([row[29], row[32], row[44], row[27], row[39], row[28], row[40]])\n",
    "        midfield = np.mean([row[43], row[41], row[24], row[35], row[25], row[37], row[26], row[30], row[36], row[33]])\n",
    "        attack = np.mean([row[38], row[31], row[49], row[50], row[47], row[45], row[48], row[51], row[46], row[42], row[52]])\n",
    "        players_overall[player] = overall\n",
    "        players_defense[player] = defense\n",
    "        players_midfield[player] = midfield\n",
    "        players_attack[player] = attack\n",
    "    \n",
    "    return players_overall, players_defense, players_midfield, players_attack"
   ]
  },
  {
   "cell_type": "code",
   "execution_count": 40,
   "metadata": {
    "id": "mYHdIfl7sK90"
   },
   "outputs": [],
   "source": [
    "#modified function that maps player's name to his scores for the 2021 dataset\n",
    "def player_scores_2021(players_df):\n",
    "    players_overall = {} #dictionary that maps player's name to his overall rating\n",
    "    players_defense = {} #dictionary that maps player's name to his defense rating\n",
    "    players_midfield = {} #dictionary that maps player's name to his midfield rating \n",
    "    players_attack = {} #dictionary that maps player's name to his attack rating\n",
    "\n",
    "    for index, row in players_df.iterrows():\n",
    "        player = row[2]\n",
    "        overall = row[8]\n",
    "        defense = np.mean([row[67], row[66], row[59], row[60], row[56], row[57], row[55]])\n",
    "        midfield = np.mean([row[48], row[44], row[65], row[52], row[62], row[39], row[42], row[47], row[53], row[51]])\n",
    "        attack = np.mean([row[61], row[49], row[50], row[41], row[54], row[40], row[58], row[45], row[46], row[63], row[43]])\n",
    "        players_overall[player] = overall\n",
    "        players_defense[player] = defense\n",
    "        players_midfield[player] = midfield\n",
    "        players_attack[player] = attack\n",
    "    \n",
    "    return players_overall, players_defense, players_midfield, players_attack"
   ]
  },
  {
   "cell_type": "code",
   "execution_count": 41,
   "metadata": {
    "id": "6-N7cI3lZ06J"
   },
   "outputs": [],
   "source": [
    "# creating dictionaries with players' ratings\n",
    "players_2011_scores = player_scores(players_2011)\n",
    "players_2012_scores = player_scores(players_2012)\n",
    "players_2013_scores = player_scores(players_2013)\n",
    "players_2014_scores = player_scores(players_2014)\n",
    "players_2015_scores = player_scores(players_2015)\n",
    "players_2016_scores = player_scores(players_2016)\n",
    "players_2017_scores = player_scores(players_2017)\n",
    "players_2018_scores = player_scores(players_2018)\n",
    "players_2019_scores = player_scores(players_2019)\n",
    "players_2020_scores = player_scores(players_2020)\n",
    "players_2021_scores = player_scores_2021(players_2021)"
   ]
  },
  {
   "cell_type": "markdown",
   "metadata": {
    "id": "iwN_9nwOa8Sl"
   },
   "source": [
    "My next features will be based on the average number of points won by each team during the past 5 season and the average difference of goals during the past 5 seasons. If a club did not play in Premier League in any of the 5 previous seasons, I'll set its point to zero and goal difference to -69 (minimum values of goal difference in the final_tables dataframe)."
   ]
  },
  {
   "cell_type": "code",
   "execution_count": 42,
   "metadata": {
    "id": "2Tcye46xTm59"
   },
   "outputs": [],
   "source": [
    "# dividing the teams dataframe into 10 dataframes according to the season\n",
    "\n",
    "teams_2011 = teams[teams.Year == 2011]\n",
    "teams_2012 = teams[teams.Year == 2012]\n",
    "teams_2013 = teams[teams.Year == 2013]\n",
    "teams_2014 = teams[teams.Year == 2014]\n",
    "teams_2015 = teams[teams.Year == 2015]\n",
    "teams_2016 = teams[teams.Year == 2016]\n",
    "teams_2017 = teams[teams.Year == 2017]\n",
    "teams_2018 = teams[teams.Year == 2018]\n",
    "teams_2019 = teams[teams.Year == 2019]\n",
    "teams_2020 = teams[teams.Year == 2020]\n",
    "teams_2021 = teams[teams.Year == 2021]"
   ]
  },
  {
   "cell_type": "code",
   "execution_count": 43,
   "metadata": {
    "id": "7XugNOMM5CHP"
   },
   "outputs": [],
   "source": [
    "# mapping club abbreviations to their full names\n",
    "\n",
    "clubs_abbreviations = {\n",
    "    'ARS': 'Arsenal',\n",
    "    'LIV': 'Liverpool',\n",
    "    'MAN': 'Manchester United',\n",
    "    'NEW': 'Newcastle United',\n",
    "    'LEE': 'Leeds United',\n",
    "    'CHE': 'Chelsea',\n",
    "    'WHU': 'West Ham United',\n",
    "    'AVL': 'Aston Villa',\n",
    "    'TOT': 'Tottenham Hotspur',\n",
    "    'BLK': 'Blackburn Rovers',\n",
    "    'SOU': 'Southampton',\n",
    "    'MID': 'Middlesbrough',\n",
    "    'FUL': 'Fulham',\n",
    "    'CHA': 'Charlton Athletic',\n",
    "    'EVE': 'Everton',\n",
    "    'BOL': 'Bolton Wanderers',\n",
    "    'SUN': 'Sunderland',\n",
    "    'IPS': 'Ipswich Town',\n",
    "    'DER': 'Derby County',\n",
    "    'LEI': 'Leicester City',\n",
    "    'BIR': 'Birmingham City',\n",
    "    'WBA': 'West Bromwich Albion',\n",
    "    'POR': 'Portsmouth',\n",
    "    'WOL': 'Wolverhampton Wanderers',\n",
    "    'NOR': 'Norwich City',\n",
    "    'CRY': 'Crystal Palace',\n",
    "    'WGA': 'Wigan Athletic',\n",
    "    'SHU': 'Sheffield United',\n",
    "    'REA': 'Reading',\n",
    "    'WAT': 'Watford',\n",
    "    'HUL': 'Hull City',\n",
    "    'STK': 'Stoke City',\n",
    "    'BUR': 'Burnley',\n",
    "    'BLP': 'Blackpool',\n",
    "    'QPR': 'Queens Park Rangers',\n",
    "    'SWA': 'Swansea City',\n",
    "    'CAR': 'Cardiff City',\n",
    "    'BOU': 'Bournemouth',\n",
    "    'BHA': 'Brighton & Hove Albion',\n",
    "    'HUD': 'Huddersfield Town',\n",
    "    'BRE': 'Brentford',\n",
    "    'MNC': 'Manchester City'\n",
    "}\n",
    "\n",
    "final_tables.Team = final_tables.Team.map(clubs_abbreviations)"
   ]
  },
  {
   "cell_type": "code",
   "execution_count": 44,
   "metadata": {
    "id": "Ync99j5z33ee"
   },
   "outputs": [],
   "source": [
    "# function for getting teams' average points and goal differences during past 5 seasons\n",
    "def average_results(team, year):\n",
    "    try:\n",
    "        team_points = final_tables[(final_tables.Year >= (year-3)) & (final_tables.Year < year)].groupby('Team').mean().loc[team, 'P']\n",
    "        team_goaldiff = final_tables[(final_tables.Year >= (year-3)) & (final_tables.Year < year)].groupby('Team').mean().loc[team, 'GD']\n",
    "    except:\n",
    "        team_points = 0 #setting minimum number of points for teams that were not in the PL during the past 5 seasons\n",
    "        team_goaldiff = -69 #setting minimum value of goal difference for teams that were not in the PL during the past 5 seasons\n",
    "    return team_points, team_goaldiff"
   ]
  },
  {
   "cell_type": "markdown",
   "metadata": {
    "id": "v7Py2vQTcTyV"
   },
   "source": [
    "I'll also create features that will show how many seasons during the past 20 years a club played in Premier League, its streak of appearances in the Premier League (how many consecutive seasons it played in Premier League prior to a given season), and its best performance during the past 20 seasons (the highest place in the final table)."
   ]
  },
  {
   "cell_type": "code",
   "execution_count": 45,
   "metadata": {
    "id": "okNMc1jb4pUd"
   },
   "outputs": [],
   "source": [
    "# mapping highest places to highest scores\n",
    "reverse_map = {}\n",
    "for place, ranking in zip(range(1, 21),reversed(range(1, 21))):\n",
    "    reverse_map[place] = ranking\n",
    "\n",
    "def past_record(team, year):\n",
    "    \n",
    "    appearances = len(final_tables[(final_tables.Team == team) & (final_tables.Year < year)])\n",
    "    \n",
    "    streak = 0\n",
    "    for season in reversed(range(2001, year+1)):\n",
    "        if team in final_tables[(final_tables.Year == season-1)].Team.unique(): \n",
    "            streak += 1\n",
    "        else:\n",
    "            break\n",
    "\n",
    "    try:\n",
    "        highest_place = final_tables[(final_tables.Team == team) & (final_tables.Year < year)].Place.min()\n",
    "        best_performance = reverse_map[highest_place]\n",
    "    except:\n",
    "        best_performance = 0\n",
    "        \n",
    "    return appearances, streak, best_performance"
   ]
  },
  {
   "cell_type": "code",
   "execution_count": 46,
   "metadata": {
    "id": "tdV7hIp09YLu"
   },
   "outputs": [],
   "source": [
    "teams_dfs = [\n",
    "    teams_2011,\n",
    "    teams_2012,\n",
    "    teams_2013,\n",
    "    teams_2014,\n",
    "    teams_2015,\n",
    "    teams_2016,\n",
    "    teams_2017,\n",
    "    teams_2018,\n",
    "    teams_2019,\n",
    "    teams_2020,\n",
    "    teams_2021\n",
    "]\n",
    "\n",
    "# adding columns with average points, average goal difference, number of past appearances, and appearance streak to the teams dataframes\n",
    "for df, year in zip(teams_dfs, range(2011, 2022)):\n",
    "\n",
    "    past_points = df.apply(lambda x: average_results(x['Name'], year)[0], axis=1).values\n",
    "    past_goal_diff = df.apply(lambda x: average_results(x['Name'], year)[1], axis=1).values\n",
    "    past_appearances = df.apply(lambda x: past_record(x['Name'], year)[0], axis=1).values\n",
    "    appearance_streak = df.apply(lambda x: past_record(x['Name'], year)[1], axis=1).values\n",
    "    best_performance = df.apply(lambda x: past_record(x['Name'], year)[2], axis=1).values\n",
    "\n",
    "    df.insert(6, 'past_points', past_points)\n",
    "    df.insert(7, 'past_goal_diff', past_goal_diff)\n",
    "    df.insert(8, 'past_appearances', past_appearances)\n",
    "    df.insert(9, 'appearance_streak', appearance_streak)\n",
    "    df.insert(10, 'best_performance', best_performance)\n",
    "   "
   ]
  },
  {
   "cell_type": "markdown",
   "metadata": {
    "id": "tlEgHvWydBUK"
   },
   "source": [
    "I will also use team rankings as additional features."
   ]
  },
  {
   "cell_type": "code",
   "execution_count": 47,
   "metadata": {
    "id": "5EIYWYSNYO49"
   },
   "outputs": [],
   "source": [
    "#create a function that returns dictionary with team scores\n",
    "def team_scores(teams_df):\n",
    "    teams_att = {} #dictionary that maps team's name to its attack rating\n",
    "    teams_mid = {} #dictionary that maps team's name to its midfield rating\n",
    "    teams_def = {} #dictionary that maps team's name to its defense rating\n",
    "    teams_ovr = {} #dictionary that maps team's name to its overall rating\n",
    "    teams_points = {} #dictionary that maps team's name to its average points during 5 past seasons\n",
    "    teams_goaldiff = {} #dictionary that maps team's name to its average goal difference during 5 past seasons\n",
    "    teams_appearances = {} #dictionary that maps team's name to its number of apperances during the past seasons\n",
    "    teams_streak = {} #dictionary that maps team's name to its streak of apperances\n",
    "    teams_bestperformance = {} #dictionary that maps team's name to its best performance\n",
    "\n",
    "    for index, row in teams_df.iterrows():\n",
    "        team = row[1]\n",
    "        att = row[2]\n",
    "        mid = row[3]\n",
    "        def_ = row[4]\n",
    "        ovr = row[5]\n",
    "        points = row[6]\n",
    "        goaldiff = row[7]\n",
    "        appearances = row[8]\n",
    "        streak = row[9]\n",
    "        bestperformance = row[10]\n",
    "        teams_att[team] = att\n",
    "        teams_mid[team] = mid\n",
    "        teams_def[team] = def_\n",
    "        teams_ovr[team] = ovr\n",
    "        teams_points[team] = points\n",
    "        teams_goaldiff[team] = goaldiff\n",
    "        teams_appearances[team] = appearances\n",
    "        teams_streak[team] = streak\n",
    "        teams_bestperformance[team] = bestperformance\n",
    "\n",
    "    return teams_att, teams_mid, teams_def, teams_ovr, teams_points, teams_goaldiff, teams_appearances, teams_streak, teams_bestperformance"
   ]
  },
  {
   "cell_type": "code",
   "execution_count": 48,
   "metadata": {
    "id": "YMoKgelSY1cq"
   },
   "outputs": [],
   "source": [
    "teams_2011_scores = team_scores(teams_2011)\n",
    "teams_2012_scores = team_scores(teams_2012)\n",
    "teams_2013_scores = team_scores(teams_2013)\n",
    "teams_2014_scores = team_scores(teams_2014)\n",
    "teams_2015_scores = team_scores(teams_2015)\n",
    "teams_2016_scores = team_scores(teams_2016)\n",
    "teams_2017_scores = team_scores(teams_2017)\n",
    "teams_2018_scores = team_scores(teams_2018)\n",
    "teams_2019_scores = team_scores(teams_2019)\n",
    "teams_2020_scores = team_scores(teams_2020)\n",
    "teams_2021_scores = team_scores(teams_2021)"
   ]
  },
  {
   "cell_type": "markdown",
   "metadata": {
    "id": "CeWUtzJQdoaG"
   },
   "source": [
    "I will also use managers' rankings, taken from clubworldranking.com, as features. Unfortunately, the ranking update stopped in March 2020, due to COVID-19, so I have no data on managers' ranking after that. But first, I need to clean the data from the managers dataframe."
   ]
  },
  {
   "cell_type": "code",
   "execution_count": 49,
   "metadata": {
    "id": "u96yC_miEqI5"
   },
   "outputs": [],
   "source": [
    "#mapping names of coaches to replace\n",
    "\n",
    "managers_to_replace = {\n",
    "    'A. Karanka': 'Karanka',\n",
    "    'A. Villas-Boas': 'André Villas-Boas',\n",
    "    'C. Carvalhal': 'Carlos Carvalhal',\n",
    "    'F. de': 'F. de Boer',\n",
    "    'J. Gracia': 'Javi Gracia',\n",
    "    'J. Mourinho': 'José Mourinho',\n",
    "    'L. van': 'L. van Gaal',\n",
    "    'M. Arteta': 'Arteta',\n",
    "    'M. Silva': 'Marco Silva',\n",
    "    'N. Espírito':\t 'Nuno Espírito Santo',\n",
    "    'O. Gunnar': 'O. Solskjær',\n",
    "    'P. Di': 'P. Di Canio',\n",
    "    'P. Guardiola': 'Guardiola',\n",
    "    'P. Mel': 'Pepe Mel',\n",
    "    'Q. Sánchez': 'Quique Sánchez Flores',\n",
    "    'R. Benítez': 'Rafael Benítez',\n",
    "    'R. Di': 'R. Di Matteo',\n",
    "    'U. Emery': 'Unai Emery'\n",
    "}\n",
    "\n",
    "matches_dfs = [\n",
    "    matches_2011,\n",
    "    matches_2012,\n",
    "    matches_2013,\n",
    "    matches_2014,\n",
    "    matches_2015,\n",
    "    matches_2016,\n",
    "    matches_2017,\n",
    "    matches_2018,\n",
    "    matches_2019,\n",
    "    matches_2020,\n",
    "    matches_2021\n",
    "]\n",
    "\n",
    "# adding columns with the names of managers to the matches dataframes\n",
    "for df in matches_dfs:\n",
    "\n",
    "    home_managers = df['home_manager'].copy()\n",
    "    away_managers = df['away_manager'].copy()\n",
    "\n",
    "    df['home_manager'] = home_managers.str.split().str[0].str[0] + '. ' + home_managers.str.split().str[1]\n",
    "    df['away_manager'] = away_managers.str.split().str[0].str[0] + '. ' + away_managers.str.split().str[1]\n",
    "\n",
    "    df['home_manager'] = df['home_manager'].replace(managers_to_replace)\n",
    "    df['away_manager'] = df['away_manager'].replace(managers_to_replace)\n"
   ]
  },
  {
   "cell_type": "code",
   "execution_count": 50,
   "metadata": {
    "id": "agfdXfS8CXSQ"
   },
   "outputs": [],
   "source": [
    "#create a function that maps manager's name to his rating\n",
    "def manager_scores(managers_df):\n",
    "    managers_rating = {}\n",
    "\n",
    "    for index, row in managers_df.iterrows():\n",
    "        manager = row[0]\n",
    "        rating = row[1]\n",
    "        managers_rating[manager] = rating\n",
    "    \n",
    "    return managers_rating"
   ]
  },
  {
   "cell_type": "code",
   "execution_count": 51,
   "metadata": {
    "id": "kxBFdxB0DF64"
   },
   "outputs": [],
   "source": [
    "managers_2011_scores = manager_scores(managers_2011)\n",
    "managers_2012_scores = manager_scores(managers_2012)\n",
    "managers_2013_scores = manager_scores(managers_2013)\n",
    "managers_2014_scores = manager_scores(managers_2014)\n",
    "managers_2015_scores = manager_scores(managers_2015)\n",
    "managers_2016_scores = manager_scores(managers_2016)\n",
    "managers_2017_scores = manager_scores(managers_2017)\n",
    "managers_2018_scores = manager_scores(managers_2018)\n",
    "managers_2019_scores = manager_scores(managers_2019)\n",
    "managers_2020_scores = manager_scores(managers_2020)"
   ]
  },
  {
   "cell_type": "markdown",
   "metadata": {
    "id": "HyY6P6QFebIR"
   },
   "source": [
    "I will now add all necessary columns with values that were defined earlier to the matches dataframes."
   ]
  },
  {
   "cell_type": "code",
   "execution_count": 53,
   "metadata": {
    "id": "qdIZsVPnaQ1j"
   },
   "outputs": [],
   "source": [
    "#create a function that adds columns with players' and teams' scores and drops all other columns\n",
    "def add_scores(matches_df, teams_scores, players_scores, managers_scores):\n",
    "    for col in matches_df.columns[:2]:\n",
    "        matches_df[col + '_team_attack'] = matches_df[col].map(teams_scores[0]) #creating additional column for attack rating of teams\n",
    "        matches_df[col + '_team_midfield'] = matches_df[col].map(teams_scores[1]) #creating additional column for midfield rating of teams\n",
    "        matches_df[col + '_team_defense'] = matches_df[col].map(teams_scores[2]) #creating additional column for defense rating of teams\n",
    "        matches_df[col + '_team_overall'] = matches_df[col].map(teams_scores[3]) #creating additional column for overall rating of teams\n",
    "        matches_df[col + '_team_past_points'] = matches_df[col].map(teams_scores[4]) #creating additional column for past points of teams\n",
    "        matches_df[col + '_team_past_goal_diff'] = matches_df[col].map(teams_scores[5]) #creating additional column for past goal difference of teams\n",
    "        matches_df[col + '_team_past_appearances'] = matches_df[col].map(teams_scores[6]) #creating additional column for the number of past appearances\n",
    "        matches_df[col + '_team_streak'] = matches_df[col].map(teams_scores[7]) #creating additional column for the appearance streak\n",
    "        matches_df[col + '_team_best_perf'] = matches_df[col].map(teams_scores[8]) #creating additional column for the best performance\n",
    "        matches_df.drop(columns=col, inplace=True) #dropping columns with team names\n",
    "\n",
    "    for col in matches_df.columns[:22]:\n",
    "        matches_df[col + '_overall'] = matches_df[col].map(players_scores[0]) #creating additional column for overall rating of players\n",
    "        if (col != 'home_starting_1') & (col != 'away_starting_1'): #excluding goalkeepers\n",
    "            matches_df[col + '_defense'] = matches_df[col].map(players_scores[1]) #creating additional column for defense rating of players\n",
    "            matches_df[col + '_midfield'] = matches_df[col].map(players_scores[2]) #creating additional column for midfield rating of players\n",
    "            matches_df[col + '_attack'] = matches_df[col].map(players_scores[3]) #creating additional column for attack rating of players\n",
    "        matches_df.drop(columns=col, inplace=True) #dropping columns with player names\n",
    "    \n",
    "    for col in matches_df.columns[:2]:\n",
    "        matches_df[col + '_overall'] = matches_df[col].map(managers_scores) #creating additional column for overall rating of players\n",
    "        matches_df.drop(columns=col, inplace=True) #dropping columns with player names\n",
    "\n",
    "    return matches_df"
   ]
  },
  {
   "cell_type": "markdown",
   "metadata": {
    "id": "FtJOCSoIRcrU"
   },
   "source": [
    "After creating several dictionaries that map teams, players, and managers to their various ratings, I will add those ratings as separate columns to *matches* dataframes."
   ]
  },
  {
   "cell_type": "code",
   "execution_count": 54,
   "metadata": {
    "id": "0aTYaZhmbkcw"
   },
   "outputs": [],
   "source": [
    "matches_2011 = add_scores(matches_2011, teams_2011_scores, players_2011_scores, managers_2011_scores)\n",
    "matches_2012 = add_scores(matches_2012, teams_2012_scores, players_2012_scores, managers_2012_scores)\n",
    "matches_2013 = add_scores(matches_2013, teams_2013_scores, players_2013_scores, managers_2013_scores)\n",
    "matches_2014 = add_scores(matches_2014, teams_2014_scores, players_2014_scores, managers_2014_scores)\n",
    "matches_2015 = add_scores(matches_2015, teams_2015_scores, players_2015_scores, managers_2015_scores)\n",
    "matches_2016 = add_scores(matches_2016, teams_2016_scores, players_2016_scores, managers_2016_scores)\n",
    "matches_2017 = add_scores(matches_2017, teams_2017_scores, players_2017_scores, managers_2017_scores)\n",
    "matches_2018 = add_scores(matches_2018, teams_2018_scores, players_2018_scores, managers_2018_scores)\n",
    "matches_2019 = add_scores(matches_2019, teams_2019_scores, players_2019_scores, managers_2019_scores)\n",
    "matches_2020 = add_scores(matches_2020, teams_2020_scores, players_2020_scores, managers_2020_scores)\n",
    "matches_2021 = add_scores(matches_2021, teams_2021_scores, players_2021_scores, managers_2020_scores)"
   ]
  },
  {
   "cell_type": "markdown",
   "metadata": {},
   "source": [
    "For prediction purposes, I will also create dataframe with future matches in 2021/2022 season. However, since we don't know the starting lineups of future matches and who the managers will be, I will only use team-related attributes for trainining and predicting."
   ]
  },
  {
   "cell_type": "code",
   "execution_count": 197,
   "metadata": {},
   "outputs": [],
   "source": [
    "future_matches = pd.read_csv(\n",
    "    'https://raw.githubusercontent.com/osydorchuk89/predicting_football_results/main/data/matches_2021_future.csv'\n",
    ")\n",
    "future_matches.home = future_matches.home.str.lstrip(' ').str.rstrip(' ')\n",
    "future_matches.away = future_matches.away.str.lstrip(' ').str.rstrip(' ')"
   ]
  },
  {
   "cell_type": "code",
   "execution_count": 198,
   "metadata": {},
   "outputs": [],
   "source": [
    "for col in future_matches.columns[:2]:\n",
    "    future_matches[col + '_team_attack'] = future_matches[col].map(teams_2021_scores[0])\n",
    "    future_matches[col + '_team_midfield'] = future_matches[col].map(teams_2021_scores[1])\n",
    "    future_matches[col + '_team_defense'] = future_matches[col].map(teams_2021_scores[2])\n",
    "    future_matches[col + '_team_overall'] = future_matches[col].map(teams_2021_scores[3])\n",
    "    future_matches[col + '_team_past_points'] = future_matches[col].map(teams_2021_scores[4])\n",
    "    future_matches[col + '_team_past_goal_diff'] = future_matches[col].map(teams_2021_scores[5])\n",
    "    future_matches[col + '_team_past_appearances'] = future_matches[col].map(teams_2021_scores[6])\n",
    "    future_matches[col + '_team_streak'] = future_matches[col].map(teams_2021_scores[7])\n",
    "    future_matches[col + '_team_best_perf'] = future_matches[col].map(teams_2021_scores[8])\n",
    "    future_matches.drop(columns=col, inplace=True)"
   ]
  },
  {
   "cell_type": "code",
   "execution_count": 199,
   "metadata": {},
   "outputs": [],
   "source": [
    "future_matches['diff_team_attack'] = future_matches.home_team_attack - future_matches.away_team_attack\n",
    "future_matches['diff_team_midfield'] = future_matches.home_team_midfield - future_matches.away_team_midfield\n",
    "future_matches['diff_team_defense'] = future_matches.home_team_defense - future_matches.away_team_defense\n",
    "future_matches['diff_team_overall'] = future_matches.home_team_overall - future_matches.away_team_overall\n",
    "future_matches['diff_team_past_points'] = future_matches.home_team_past_points - future_matches.away_team_past_points\n",
    "future_matches['diff_team_past_goal_diff'] = future_matches.home_team_past_goal_diff - future_matches.away_team_past_goal_diff\n",
    "future_matches['diff_team_past_appearances'] = future_matches.home_team_past_appearances - future_matches.away_team_past_appearances\n",
    "future_matches['diff_team_streak'] = future_matches.home_team_streak - future_matches.away_team_streak\n",
    "future_matches['diff_team_best_perf'] = future_matches.home_team_best_perf - future_matches.away_team_best_perf"
   ]
  },
  {
   "cell_type": "code",
   "execution_count": 201,
   "metadata": {},
   "outputs": [],
   "source": [
    "future_matches.to_csv('future_matches.csv', index=False)"
   ]
  },
  {
   "cell_type": "code",
   "execution_count": 55,
   "metadata": {
    "id": "XNEUolpaR2SE"
   },
   "outputs": [],
   "source": [
    "# concatenating all matches dataframes back together\n",
    "matches_all = pd.concat([\n",
    "  matches_2011, \n",
    "  matches_2012, \n",
    "  matches_2013, \n",
    "  matches_2014, \n",
    "  matches_2015, \n",
    "  matches_2016, \n",
    "  matches_2017, \n",
    "  matches_2018, \n",
    "  matches_2019, \n",
    "  matches_2020,\n",
    "  matches_2021]\n",
    ").reset_index(drop=True)\n",
    "\n",
    "matches_all.rename(columns={'home_starting_1_overall': 'home_goalkeeper', 'away_starting_1_overall': 'away_goalkeeper'}, inplace=True)"
   ]
  },
  {
   "cell_type": "markdown",
   "metadata": {
    "id": "O8_Ih8wAe28Q"
   },
   "source": [
    "As in the managers dataframe there is no data about some managers, I'll impute the missing value according to the overall rating of respective teams."
   ]
  },
  {
   "cell_type": "code",
   "execution_count": 56,
   "metadata": {
    "id": "TUYKz5XaZFc-"
   },
   "outputs": [],
   "source": [
    "# function for imputing missing values for managers ratings\n",
    "def fill_managers(indices, team_col, manager_col):\n",
    "    values = []\n",
    "    for index in indices:\n",
    "        std = (matches_all.loc[index][team_col] - matches_all[team_col].mean()) / matches_all[team_col].std()\n",
    "        value = matches_all[manager_col].std() * std + matches_all[manager_col].mean()\n",
    "        values.append(value)\n",
    "    return values"
   ]
  },
  {
   "cell_type": "code",
   "execution_count": 57,
   "metadata": {
    "id": "LfRQYONEchdS"
   },
   "outputs": [],
   "source": [
    "missing_home_managers = matches_all[matches_all.home_manager_overall.isna()].index\n",
    "missing_away_managers = matches_all[matches_all.away_manager_overall.isna()].index\n",
    "\n",
    "home_managers_values = fill_managers(missing_home_managers, 'home_team_overall', 'home_manager_overall')\n",
    "away_managers_values = fill_managers(missing_away_managers, 'away_team_overall', 'away_manager_overall')\n",
    "\n",
    "matches_all.loc[missing_home_managers, 'home_manager_overall'] = home_managers_values\n",
    "matches_all.loc[missing_away_managers, 'away_manager_overall'] = away_managers_values"
   ]
  },
  {
   "cell_type": "markdown",
   "metadata": {
    "id": "h-mSBciagaXX"
   },
   "source": [
    "I will add mean of players' overall ratings, as well as defense, midfield, and attack skills as other features."
   ]
  },
  {
   "cell_type": "code",
   "execution_count": 58,
   "metadata": {
    "id": "sCcC8OvXz_Yu"
   },
   "outputs": [],
   "source": [
    "# creating additional columns with mean ratings for all players, except for goalkeepers \n",
    "\n",
    "home_players_overall = [col for col in matches_all.columns if (col.startswith('home_starting')) & (col.endswith('overall') & ('_1_' not in col))]\n",
    "away_players_overall = [col for col in matches_all.columns if (col.startswith('away_starting')) & (col.endswith('overall') & ('_1_' not in col))]\n",
    "\n",
    "matches_all['home_players_overall_mean'] = matches_all[home_players_overall].mean(axis=1)\n",
    "matches_all['away_players_overall_mean'] = matches_all[away_players_overall].mean(axis=1)\n",
    "\n",
    "home_players_defense = [col for col in matches_all.columns if (col.startswith('home_starting')) & (col.endswith('defense') & ('_1_' not in col))]\n",
    "away_players_defense = [col for col in matches_all.columns if (col.startswith('away_starting')) & (col.endswith('defense') & ('_1_' not in col))]\n",
    "\n",
    "matches_all['home_players_defense_mean'] = matches_all[home_players_defense].mean(axis=1)\n",
    "matches_all['away_players_defense_mean'] = matches_all[away_players_defense].mean(axis=1)\n",
    "\n",
    "home_players_midfield = [col for col in matches_all.columns if (col.startswith('home_starting')) & (col.endswith('midfield') & ('_1_' not in col))]\n",
    "away_players_midfield = [col for col in matches_all.columns if (col.startswith('away_starting')) & (col.endswith('midfield') & ('_1_' not in col))]\n",
    "\n",
    "matches_all['home_players_midfield_mean'] = matches_all[home_players_midfield].mean(axis=1)\n",
    "matches_all['away_players_midfield_mean'] = matches_all[away_players_midfield].mean(axis=1)\n",
    "\n",
    "home_players_attack = [col for col in matches_all.columns if (col.startswith('home_starting')) & (col.endswith('attack') & ('_1_' not in col))]\n",
    "away_players_attack = [col for col in matches_all.columns if (col.startswith('away_starting')) & (col.endswith('attack') & ('_1_' not in col))]\n",
    "\n",
    "matches_all['home_players_attack_mean'] = matches_all[home_players_attack].mean(axis=1)\n",
    "matches_all['away_players_attack_mean'] = matches_all[away_players_attack].mean(axis=1)"
   ]
  },
  {
   "cell_type": "code",
   "execution_count": 59,
   "metadata": {
    "id": "3Jqat0Uw0W4Y"
   },
   "outputs": [],
   "source": [
    "# dropping columns ith individual ratings of players\n",
    "columns_to_drop = home_players_overall + \\\n",
    "    away_players_overall + \\\n",
    "    home_players_defense + \\\n",
    "    away_players_defense + \\\n",
    "    home_players_midfield + \\\n",
    "    away_players_midfield + \\\n",
    "    home_players_attack + \\\n",
    "    away_players_attack\n",
    "matches_all.drop(columns=columns_to_drop, inplace=True)"
   ]
  },
  {
   "cell_type": "markdown",
   "metadata": {
    "id": "FIf_vJ7OgHRy"
   },
   "source": [
    "Now, I will add features of second type, i.e. differences between values of home team's and away team's features."
   ]
  },
  {
   "cell_type": "code",
   "execution_count": 60,
   "metadata": {
    "id": "_O3JhOBw5ZXF"
   },
   "outputs": [],
   "source": [
    "matches_all['diff_team_attack'] = matches_all.home_team_attack - matches_all.away_team_attack\n",
    "matches_all['diff_team_midfield'] = matches_all.home_team_midfield - matches_all.away_team_midfield\n",
    "matches_all['diff_team_defense'] = matches_all.home_team_defense - matches_all.away_team_defense\n",
    "matches_all['diff_team_overall'] = matches_all.home_team_overall - matches_all.away_team_overall\n",
    "matches_all['diff_manager'] = matches_all.home_manager_overall - matches_all.away_manager_overall\n",
    "matches_all['diff_players_overall'] = matches_all.home_players_overall_mean - matches_all.away_players_overall_mean\n",
    "matches_all['diff_players_defense'] = matches_all.home_players_defense_mean - matches_all.away_players_defense_mean\n",
    "matches_all['diff_players_midfield'] = matches_all.home_players_midfield_mean - matches_all.away_players_midfield_mean\n",
    "matches_all['diff_players_attack'] = matches_all.home_players_attack_mean - matches_all.away_players_attack_mean\n",
    "matches_all['diff_goalkeepers'] = matches_all.home_goalkeeper - matches_all.away_goalkeeper\n",
    "matches_all['diff_team_past_points'] = matches_all.home_team_past_points - matches_all.away_team_past_points\n",
    "matches_all['diff_team_past_goal_diff'] = matches_all.home_team_past_goal_diff - matches_all.away_team_past_goal_diff\n",
    "matches_all['diff_team_past_appearances'] = matches_all.home_team_past_appearances - matches_all.away_team_past_appearances\n",
    "matches_all['diff_team_streak'] = matches_all.home_team_streak - matches_all.away_team_streak\n",
    "matches_all['diff_team_best_perf'] = matches_all.home_team_best_perf - matches_all.away_team_best_perf"
   ]
  },
  {
   "cell_type": "markdown",
   "metadata": {
    "id": "oN_ukC-USCxO"
   },
   "source": [
    "I have finished creating feature. Overall, there are 47 features, including:\n",
    "\n",
    "* 15 features related to home team\n",
    "* 15 feature related to away team\n",
    "* 17 features related to difference between home and away team attributes"
   ]
  },
  {
   "cell_type": "markdown",
   "metadata": {},
   "source": [
    "I will continue with selecting, training, and validating models and predicting results in the next notebook."
   ]
  }
 ],
 "metadata": {
  "colab": {
   "collapsed_sections": [],
   "name": "football_matches.ipynb",
   "provenance": []
  },
  "kernelspec": {
   "display_name": "Python 3 (ipykernel)",
   "language": "python",
   "name": "python3"
  },
  "language_info": {
   "codemirror_mode": {
    "name": "ipython",
    "version": 3
   },
   "file_extension": ".py",
   "mimetype": "text/x-python",
   "name": "python",
   "nbconvert_exporter": "python",
   "pygments_lexer": "ipython3",
   "version": "3.9.7"
  },
  "varInspector": {
   "cols": {
    "lenName": 16,
    "lenType": 16,
    "lenVar": 40
   },
   "kernels_config": {
    "python": {
     "delete_cmd_postfix": "",
     "delete_cmd_prefix": "del ",
     "library": "var_list.py",
     "varRefreshCmd": "print(var_dic_list())"
    },
    "r": {
     "delete_cmd_postfix": ") ",
     "delete_cmd_prefix": "rm(",
     "library": "var_list.r",
     "varRefreshCmd": "cat(var_dic_list()) "
    }
   },
   "types_to_exclude": [
    "module",
    "function",
    "builtin_function_or_method",
    "instance",
    "_Feature"
   ],
   "window_display": false
  }
 },
 "nbformat": 4,
 "nbformat_minor": 1
}
