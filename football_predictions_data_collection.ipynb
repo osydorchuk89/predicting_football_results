{
 "cells": [
  {
   "cell_type": "markdown",
   "id": "822fbc79",
   "metadata": {
    "id": "-qb9EWw-NwT1"
   },
   "source": [
    "# Predicting football matches results (data collection)"
   ]
  },
  {
   "cell_type": "markdown",
   "id": "178ccb44",
   "metadata": {
    "id": "JJxkURtLyk7K"
   },
   "source": [
    "In this project, I will build a model that will try to predict outcomes of football matches, i.e. home team win, away team win, or draw. I will use the data about 20 seasons of English Premier League: from 2001/2002 to 2020/2021. My source data will include datasets from Kaggle, as well as data scrapped from other resources."
   ]
  },
  {
   "cell_type": "markdown",
   "id": "50b2d06d",
   "metadata": {
    "id": "gfxj7RVvI39B"
   },
   "source": [
    "I will start by creating several dataframes that I will use to generate features. These will include:\n",
    "\n",
    "\n",
    "1. *Matches* dataframe with information about results of all matches starting from season 2001/2002 and starting lineups of home and away teams. The data is taken from [here](https://www.kaggle.com/josephvm/english-premier-league-game-events-and-results).\n",
    "2. *Final tables* dataframe with information about the final results of each season starting from 2001/2002, including final ranking of teams, numbers of games won, lost, and drawn, and goal difference. The data is taken from [here](https://www.kaggle.com/josephvm/english-premier-league-game-events-and-results).\n",
    "3. *Players* dataframes with information about key attributes of players of Premier League teams, including related to their attacking, midfield, and defense skills. The attribute ratings are created by FIFA videogames developer and are taken from [here](https://www.kaggle.com/justdhia/fifa-players) and [here](https://www.kaggle.com/cashncarry/fifa-22-complete-player-dataset)\n",
    "\n",
    "4. *Teams* dataframe with information about ratings of Premier League clubs, also created by FIFA videogames developer. The data is taken from [here](https://www.fifaindex.com/).\n",
    "\n",
    "5. *Managers* dataframes with information about managers of Premier League clubs and their ratings. The data about managers was scraped from [here](https://en.wikipedia.org/wiki/List_of_Premier_League_managers). The ratings of managers are created by Football World Ranking website owners and were scaped from [here](https://www.clubworldranking.com/ranking-coaches). "
   ]
  },
  {
   "cell_type": "markdown",
   "id": "e02f22ae",
   "metadata": {},
   "source": [
    "I will organize the project into three notebooks:\n",
    "\n",
    "* data collection (current notebook);\n",
    "* data cleaning, data analysis, and feature engineering;\n",
    "* model building, training, and validation and predicting outcomes.\n",
    "\n",
    "In this notebook, I will scrape the data about football managers which is not available as a ready-to-use dataset online.  "
   ]
  },
  {
   "cell_type": "code",
   "execution_count": 1,
   "id": "1e0560f7",
   "metadata": {
    "id": "VSqT6a2UcxQd"
   },
   "outputs": [],
   "source": [
    "# importing necessary libraries\n",
    "import pandas as pd\n",
    "import requests\n",
    "from bs4 import BeautifulSoup\n",
    "from tqdm.notebook import tqdm"
   ]
  },
  {
   "cell_type": "markdown",
   "id": "f4e49d76",
   "metadata": {},
   "source": [
    "I will start by scraping the data about the names and tenures of managers of English Premier League clubs from Wikipedia."
   ]
  },
  {
   "cell_type": "code",
   "execution_count": 2,
   "id": "d3e0cbfb",
   "metadata": {},
   "outputs": [],
   "source": [
    "# scraping data about football managers from Wikipedia\n",
    "url = 'https://en.wikipedia.org/wiki/List_of_Premier_League_managers'\n",
    "html_doc = requests.get(url).text\n",
    "\n",
    "soup = BeautifulSoup(html_doc, 'html.parser')"
   ]
  },
  {
   "cell_type": "code",
   "execution_count": 3,
   "id": "233b6b7e",
   "metadata": {},
   "outputs": [],
   "source": [
    "# creating managers dataframe\n",
    "managers_table = soup.find_all('table', class_='wikitable sortable plainrowheaders')[0]\n",
    "managers_list = pd.read_html(str(managers_table))\n",
    "managers = pd.DataFrame(managers_list[0])"
   ]
  },
  {
   "cell_type": "code",
   "execution_count": 9,
   "id": "13336398",
   "metadata": {},
   "outputs": [],
   "source": [
    "# saving to csv\n",
    "managers.to_csv('managers.csv', index=False)"
   ]
  },
  {
   "cell_type": "markdown",
   "id": "e7862184",
   "metadata": {},
   "source": [
    "Next, I will scrape data about rankings of football managers from https://www.clubworldranking.com/. Code for scraping is taken and modified from [here](https://github.com/gonzaferreiro/Market_value_football_players/blob/master/Team_and_national_teams_ranking_scraps-Final.ipynb)."
   ]
  },
  {
   "cell_type": "code",
   "execution_count": 4,
   "id": "78862bde",
   "metadata": {},
   "outputs": [],
   "source": [
    "# function for extracting managers names\n",
    "def extract_managers(soup):\n",
    "    managers = []\n",
    "    for each in soup.find_all('div', attrs={'class':'col-name'})[1:]:\n",
    "        try:\n",
    "            managers.append(each.text.strip())\n",
    "        except:\n",
    "            managers.append(np.nan)\n",
    "    return managers"
   ]
  },
  {
   "cell_type": "code",
   "execution_count": 5,
   "id": "ff058dc5",
   "metadata": {},
   "outputs": [],
   "source": [
    "# function for extracting managers rankings\n",
    "def extract_rankings(soup):\n",
    "    rankings = []\n",
    "    for each in soup.find_all('div', attrs={'class':'points RankingRight'}):\n",
    "        try:\n",
    "            rankings.append(int(each.text.strip()))\n",
    "        except:\n",
    "            rankings.append(np.nan)\n",
    "    return rankings"
   ]
  },
  {
   "cell_type": "code",
   "execution_count": 6,
   "id": "be4bbd16",
   "metadata": {},
   "outputs": [],
   "source": [
    "# function to create dataframes with managers rankings\n",
    "def create_managers_df(week, year):\n",
    "    results = {'Manager':[], 'Ranking':[]} \n",
    "    \n",
    "    for start in tqdm(range(0, 1000, 25)):\n",
    "        url = f'https://www.clubworldranking.com/ranking-coaches?wd={week}&yr={year}&index={start}'\n",
    "        r = requests.get(url)\n",
    "        soup = BeautifulSoup(r.text,'html.parser')\n",
    "        results['Manager'] += extract_managers(soup)\n",
    "        results['Ranking'] += extract_rankings(soup)\n",
    "\n",
    "    return pd.DataFrame(results)"
   ]
  },
  {
   "cell_type": "code",
   "execution_count": 7,
   "id": "b4ea8bd5",
   "metadata": {},
   "outputs": [
    {
     "data": {
      "application/vnd.jupyter.widget-view+json": {
       "model_id": "3b282fb2ea46432099383574607c1bb0",
       "version_major": 2,
       "version_minor": 0
      },
      "text/plain": [
       "  0%|          | 0/40 [00:00<?, ?it/s]"
      ]
     },
     "metadata": {},
     "output_type": "display_data"
    },
    {
     "data": {
      "application/vnd.jupyter.widget-view+json": {
       "model_id": "73df212621654d039c9c6797b2b5cf80",
       "version_major": 2,
       "version_minor": 0
      },
      "text/plain": [
       "  0%|          | 0/40 [00:00<?, ?it/s]"
      ]
     },
     "metadata": {},
     "output_type": "display_data"
    },
    {
     "data": {
      "application/vnd.jupyter.widget-view+json": {
       "model_id": "d92406cf40e14e2dbb854ce1ddc73eba",
       "version_major": 2,
       "version_minor": 0
      },
      "text/plain": [
       "  0%|          | 0/40 [00:00<?, ?it/s]"
      ]
     },
     "metadata": {},
     "output_type": "display_data"
    },
    {
     "data": {
      "application/vnd.jupyter.widget-view+json": {
       "model_id": "fda02e04182e4adeabde2beba08ad242",
       "version_major": 2,
       "version_minor": 0
      },
      "text/plain": [
       "  0%|          | 0/40 [00:00<?, ?it/s]"
      ]
     },
     "metadata": {},
     "output_type": "display_data"
    },
    {
     "data": {
      "application/vnd.jupyter.widget-view+json": {
       "model_id": "a73f41d2d1e941a3a22ce67db709b123",
       "version_major": 2,
       "version_minor": 0
      },
      "text/plain": [
       "  0%|          | 0/40 [00:00<?, ?it/s]"
      ]
     },
     "metadata": {},
     "output_type": "display_data"
    },
    {
     "data": {
      "application/vnd.jupyter.widget-view+json": {
       "model_id": "0cda2fe00e0f440497a606c5c970a400",
       "version_major": 2,
       "version_minor": 0
      },
      "text/plain": [
       "  0%|          | 0/40 [00:00<?, ?it/s]"
      ]
     },
     "metadata": {},
     "output_type": "display_data"
    },
    {
     "data": {
      "application/vnd.jupyter.widget-view+json": {
       "model_id": "a0405b0859644498b664e167c925b74a",
       "version_major": 2,
       "version_minor": 0
      },
      "text/plain": [
       "  0%|          | 0/40 [00:00<?, ?it/s]"
      ]
     },
     "metadata": {},
     "output_type": "display_data"
    },
    {
     "data": {
      "application/vnd.jupyter.widget-view+json": {
       "model_id": "63117882f660497b8f96de6281c091e2",
       "version_major": 2,
       "version_minor": 0
      },
      "text/plain": [
       "  0%|          | 0/40 [00:00<?, ?it/s]"
      ]
     },
     "metadata": {},
     "output_type": "display_data"
    },
    {
     "data": {
      "application/vnd.jupyter.widget-view+json": {
       "model_id": "bb1a35f724e14511aa60df977bfd2b2c",
       "version_major": 2,
       "version_minor": 0
      },
      "text/plain": [
       "  0%|          | 0/40 [00:00<?, ?it/s]"
      ]
     },
     "metadata": {},
     "output_type": "display_data"
    },
    {
     "data": {
      "application/vnd.jupyter.widget-view+json": {
       "model_id": "ca994e0b6df74c2a86883c4d96e72ccb",
       "version_major": 2,
       "version_minor": 0
      },
      "text/plain": [
       "  0%|          | 0/40 [00:00<?, ?it/s]"
      ]
     },
     "metadata": {},
     "output_type": "display_data"
    }
   ],
   "source": [
    "managers_2011 = create_managers_df(49, 2011)\n",
    "managers_2012 = create_managers_df(20, 2012)\n",
    "managers_2013 = create_managers_df(21, 2013)\n",
    "managers_2014 = create_managers_df(20, 2014)\n",
    "managers_2015 = create_managers_df(22, 2015)\n",
    "managers_2016 = create_managers_df(21, 2016)\n",
    "managers_2017 = create_managers_df(21, 2017)\n",
    "managers_2018 = create_managers_df(20, 2018)\n",
    "managers_2019 = create_managers_df(20, 2019)\n",
    "managers_2020 = create_managers_df(14, 2020)"
   ]
  },
  {
   "cell_type": "code",
   "execution_count": 12,
   "id": "cb217da3",
   "metadata": {},
   "outputs": [],
   "source": [
    "# saving to csv\n",
    "managers_dict = {\n",
    "    'managers_2011': managers_2011,\n",
    "    'managers_2012': managers_2012,\n",
    "    'managers_2013': managers_2013,\n",
    "    'managers_2014': managers_2014,\n",
    "    'managers_2015': managers_2015,\n",
    "    'managers_2016': managers_2016,\n",
    "    'managers_2017': managers_2017,\n",
    "    'managers_2018': managers_2018,\n",
    "    'managers_2019': managers_2019,\n",
    "    'managers_2020': managers_2020    \n",
    "}\n",
    "    \n",
    "for name, df in managers_dict.items():\n",
    "    df.to_csv(name+'.csv', index=False)"
   ]
  },
  {
   "cell_type": "markdown",
   "id": "d7e1a530",
   "metadata": {},
   "source": [
    "I have scraped necessary data about football managers and saved the created dataframes into several csv files. I will use these csv files in the next notebook for data analysis and feature engineering."
   ]
  }
 ],
 "metadata": {
  "kernelspec": {
   "display_name": "Python 3 (ipykernel)",
   "language": "python",
   "name": "python3"
  },
  "language_info": {
   "codemirror_mode": {
    "name": "ipython",
    "version": 3
   },
   "file_extension": ".py",
   "mimetype": "text/x-python",
   "name": "python",
   "nbconvert_exporter": "python",
   "pygments_lexer": "ipython3",
   "version": "3.9.7"
  },
  "varInspector": {
   "cols": {
    "lenName": 16,
    "lenType": 16,
    "lenVar": 40
   },
   "kernels_config": {
    "python": {
     "delete_cmd_postfix": "",
     "delete_cmd_prefix": "del ",
     "library": "var_list.py",
     "varRefreshCmd": "print(var_dic_list())"
    },
    "r": {
     "delete_cmd_postfix": ") ",
     "delete_cmd_prefix": "rm(",
     "library": "var_list.r",
     "varRefreshCmd": "cat(var_dic_list()) "
    }
   },
   "types_to_exclude": [
    "module",
    "function",
    "builtin_function_or_method",
    "instance",
    "_Feature"
   ],
   "window_display": false
  }
 },
 "nbformat": 4,
 "nbformat_minor": 5
}
